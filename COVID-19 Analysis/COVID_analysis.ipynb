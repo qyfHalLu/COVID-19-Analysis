{
 "cells": [
  {
   "cell_type": "markdown",
   "metadata": {
    "colab_type": "text",
    "id": "bnu_YAjjFxOu"
   },
   "source": [
    "### Authors: Qiuyang Fu"
   ]
  },
  {
   "cell_type": "code",
   "execution_count": 1,
   "metadata": {
    "_kg_hide-input": true,
    "_kg_hide-output": true,
    "colab": {},
    "colab_type": "code",
    "id": "BRQ9saONdhCQ"
   },
   "outputs": [],
   "source": [
    "# Importing the required libraries\n",
    "import pandas as pd\n",
    "\n",
    "# Visualisation libraries\n",
    "import matplotlib.pyplot as plt\n",
    "%matplotlib inline\n",
    "import seaborn as sns\n",
    "import plotly.express as px\n",
    "import plotly.graph_objects as go\n",
    "import folium \n",
    "from folium import plugins\n",
    "\n",
    "# Manipulating the default plot size\n",
    "plt.rcParams['figure.figsize'] = 10, 12\n",
    "\n",
    "# Disable warnings \n",
    "import warnings\n",
    "warnings.filterwarnings('ignore')"
   ]
  },
  {
   "cell_type": "markdown",
   "metadata": {
    "colab_type": "text",
    "id": "dFhorHIrdhCq"
   },
   "source": [
    "# Part 1: Analyzing the Present Condition in India\n"
   ]
  },
  {
   "cell_type": "markdown",
   "metadata": {
    "colab_type": "text",
    "id": "QLaxaOyJJvU7"
   },
   "source": [
    "## 1.1 Reading the Datasets\n"
   ]
  },
  {
   "cell_type": "code",
   "execution_count": 2,
   "metadata": {
    "_kg_hide-input": true,
    "_kg_hide-output": true,
    "colab": {
     "base_uri": "https://localhost:8080/",
     "height": 841
    },
    "colab_type": "code",
    "id": "GT-J_-YQdhCy",
    "outputId": "a8810503-d5e0-4fea-c148-1618086b16bb"
   },
   "outputs": [
    {
     "data": {
      "text/html": [
       "<div>\n",
       "<style scoped>\n",
       "    .dataframe tbody tr th:only-of-type {\n",
       "        vertical-align: middle;\n",
       "    }\n",
       "\n",
       "    .dataframe tbody tr th {\n",
       "        vertical-align: top;\n",
       "    }\n",
       "\n",
       "    .dataframe thead th {\n",
       "        text-align: right;\n",
       "    }\n",
       "</style>\n",
       "<table border=\"1\" class=\"dataframe\">\n",
       "  <thead>\n",
       "    <tr style=\"text-align: right;\">\n",
       "      <th></th>\n",
       "      <th>S. No.</th>\n",
       "      <th>Name of State / UT</th>\n",
       "      <th>Total Confirmed cases (Indian National)</th>\n",
       "      <th>Total Confirmed cases ( Foreign National )</th>\n",
       "      <th>Cured</th>\n",
       "      <th>Death</th>\n",
       "    </tr>\n",
       "  </thead>\n",
       "  <tbody>\n",
       "    <tr>\n",
       "      <th>0</th>\n",
       "      <td>1</td>\n",
       "      <td>Andhra Pradesh</td>\n",
       "      <td>9</td>\n",
       "      <td>0</td>\n",
       "      <td>0</td>\n",
       "      <td>0</td>\n",
       "    </tr>\n",
       "    <tr>\n",
       "      <th>1</th>\n",
       "      <td>2</td>\n",
       "      <td>Bihar</td>\n",
       "      <td>3</td>\n",
       "      <td>0</td>\n",
       "      <td>0</td>\n",
       "      <td>1</td>\n",
       "    </tr>\n",
       "    <tr>\n",
       "      <th>2</th>\n",
       "      <td>3</td>\n",
       "      <td>Chhattisgarh</td>\n",
       "      <td>1</td>\n",
       "      <td>0</td>\n",
       "      <td>0</td>\n",
       "      <td>0</td>\n",
       "    </tr>\n",
       "    <tr>\n",
       "      <th>3</th>\n",
       "      <td>4</td>\n",
       "      <td>Delhi</td>\n",
       "      <td>30</td>\n",
       "      <td>1</td>\n",
       "      <td>6</td>\n",
       "      <td>1</td>\n",
       "    </tr>\n",
       "    <tr>\n",
       "      <th>4</th>\n",
       "      <td>5</td>\n",
       "      <td>Gujarat</td>\n",
       "      <td>32</td>\n",
       "      <td>1</td>\n",
       "      <td>0</td>\n",
       "      <td>1</td>\n",
       "    </tr>\n",
       "    <tr>\n",
       "      <th>5</th>\n",
       "      <td>6</td>\n",
       "      <td>Haryana</td>\n",
       "      <td>14</td>\n",
       "      <td>14</td>\n",
       "      <td>11</td>\n",
       "      <td>0</td>\n",
       "    </tr>\n",
       "    <tr>\n",
       "      <th>6</th>\n",
       "      <td>7</td>\n",
       "      <td>Himachal Pradesh</td>\n",
       "      <td>3</td>\n",
       "      <td>0</td>\n",
       "      <td>0</td>\n",
       "      <td>1</td>\n",
       "    </tr>\n",
       "    <tr>\n",
       "      <th>7</th>\n",
       "      <td>8</td>\n",
       "      <td>Karnataka</td>\n",
       "      <td>41</td>\n",
       "      <td>0</td>\n",
       "      <td>3</td>\n",
       "      <td>1</td>\n",
       "    </tr>\n",
       "    <tr>\n",
       "      <th>8</th>\n",
       "      <td>9</td>\n",
       "      <td>Kerala</td>\n",
       "      <td>101</td>\n",
       "      <td>8</td>\n",
       "      <td>4</td>\n",
       "      <td>0</td>\n",
       "    </tr>\n",
       "    <tr>\n",
       "      <th>9</th>\n",
       "      <td>10</td>\n",
       "      <td>Madhya Pradesh</td>\n",
       "      <td>9</td>\n",
       "      <td>0</td>\n",
       "      <td>0</td>\n",
       "      <td>0</td>\n",
       "    </tr>\n",
       "    <tr>\n",
       "      <th>10</th>\n",
       "      <td>11</td>\n",
       "      <td>Maharashtra</td>\n",
       "      <td>98</td>\n",
       "      <td>3</td>\n",
       "      <td>0</td>\n",
       "      <td>2</td>\n",
       "    </tr>\n",
       "    <tr>\n",
       "      <th>11</th>\n",
       "      <td>12</td>\n",
       "      <td>Manipur</td>\n",
       "      <td>1</td>\n",
       "      <td>0</td>\n",
       "      <td>0</td>\n",
       "      <td>0</td>\n",
       "    </tr>\n",
       "    <tr>\n",
       "      <th>12</th>\n",
       "      <td>13</td>\n",
       "      <td>Mizoram</td>\n",
       "      <td>1</td>\n",
       "      <td>0</td>\n",
       "      <td>0</td>\n",
       "      <td>0</td>\n",
       "    </tr>\n",
       "    <tr>\n",
       "      <th>13</th>\n",
       "      <td>14</td>\n",
       "      <td>Odisha</td>\n",
       "      <td>2</td>\n",
       "      <td>0</td>\n",
       "      <td>0</td>\n",
       "      <td>0</td>\n",
       "    </tr>\n",
       "    <tr>\n",
       "      <th>14</th>\n",
       "      <td>15</td>\n",
       "      <td>Puducherry</td>\n",
       "      <td>1</td>\n",
       "      <td>0</td>\n",
       "      <td>0</td>\n",
       "      <td>0</td>\n",
       "    </tr>\n",
       "    <tr>\n",
       "      <th>15</th>\n",
       "      <td>16</td>\n",
       "      <td>Punjab</td>\n",
       "      <td>29</td>\n",
       "      <td>0</td>\n",
       "      <td>0</td>\n",
       "      <td>1</td>\n",
       "    </tr>\n",
       "    <tr>\n",
       "      <th>16</th>\n",
       "      <td>17</td>\n",
       "      <td>Rajasthan</td>\n",
       "      <td>30</td>\n",
       "      <td>2</td>\n",
       "      <td>3</td>\n",
       "      <td>0</td>\n",
       "    </tr>\n",
       "    <tr>\n",
       "      <th>17</th>\n",
       "      <td>18</td>\n",
       "      <td>Tamil Nadu</td>\n",
       "      <td>16</td>\n",
       "      <td>2</td>\n",
       "      <td>1</td>\n",
       "      <td>0</td>\n",
       "    </tr>\n",
       "    <tr>\n",
       "      <th>18</th>\n",
       "      <td>19</td>\n",
       "      <td>Telengana</td>\n",
       "      <td>25</td>\n",
       "      <td>10</td>\n",
       "      <td>1</td>\n",
       "      <td>0</td>\n",
       "    </tr>\n",
       "    <tr>\n",
       "      <th>19</th>\n",
       "      <td>20</td>\n",
       "      <td>Chandigarh</td>\n",
       "      <td>7</td>\n",
       "      <td>0</td>\n",
       "      <td>0</td>\n",
       "      <td>0</td>\n",
       "    </tr>\n",
       "    <tr>\n",
       "      <th>20</th>\n",
       "      <td>21</td>\n",
       "      <td>Jammu and Kashmir</td>\n",
       "      <td>7</td>\n",
       "      <td>0</td>\n",
       "      <td>1</td>\n",
       "      <td>0</td>\n",
       "    </tr>\n",
       "    <tr>\n",
       "      <th>21</th>\n",
       "      <td>22</td>\n",
       "      <td>Ladakh</td>\n",
       "      <td>13</td>\n",
       "      <td>0</td>\n",
       "      <td>0</td>\n",
       "      <td>0</td>\n",
       "    </tr>\n",
       "    <tr>\n",
       "      <th>22</th>\n",
       "      <td>23</td>\n",
       "      <td>Uttar Pradesh</td>\n",
       "      <td>34</td>\n",
       "      <td>1</td>\n",
       "      <td>11</td>\n",
       "      <td>0</td>\n",
       "    </tr>\n",
       "    <tr>\n",
       "      <th>23</th>\n",
       "      <td>24</td>\n",
       "      <td>Uttarakhand</td>\n",
       "      <td>3</td>\n",
       "      <td>1</td>\n",
       "      <td>0</td>\n",
       "      <td>0</td>\n",
       "    </tr>\n",
       "    <tr>\n",
       "      <th>24</th>\n",
       "      <td>25</td>\n",
       "      <td>West Bengal</td>\n",
       "      <td>9</td>\n",
       "      <td>0</td>\n",
       "      <td>0</td>\n",
       "      <td>1</td>\n",
       "    </tr>\n",
       "  </tbody>\n",
       "</table>\n",
       "</div>"
      ],
      "text/plain": [
       "    S. No. Name of State / UT  Total Confirmed cases (Indian National)  \\\n",
       "0        1     Andhra Pradesh                                        9   \n",
       "1        2              Bihar                                        3   \n",
       "2        3       Chhattisgarh                                        1   \n",
       "3        4              Delhi                                       30   \n",
       "4        5            Gujarat                                       32   \n",
       "5        6            Haryana                                       14   \n",
       "6        7   Himachal Pradesh                                        3   \n",
       "7        8          Karnataka                                       41   \n",
       "8        9             Kerala                                      101   \n",
       "9       10     Madhya Pradesh                                        9   \n",
       "10      11        Maharashtra                                       98   \n",
       "11      12            Manipur                                        1   \n",
       "12      13            Mizoram                                        1   \n",
       "13      14             Odisha                                        2   \n",
       "14      15         Puducherry                                        1   \n",
       "15      16             Punjab                                       29   \n",
       "16      17          Rajasthan                                       30   \n",
       "17      18         Tamil Nadu                                       16   \n",
       "18      19          Telengana                                       25   \n",
       "19      20         Chandigarh                                        7   \n",
       "20      21  Jammu and Kashmir                                        7   \n",
       "21      22             Ladakh                                       13   \n",
       "22      23      Uttar Pradesh                                       34   \n",
       "23      24        Uttarakhand                                        3   \n",
       "24      25        West Bengal                                        9   \n",
       "\n",
       "    Total Confirmed cases ( Foreign National )  Cured  Death  \n",
       "0                                            0      0      0  \n",
       "1                                            0      0      1  \n",
       "2                                            0      0      0  \n",
       "3                                            1      6      1  \n",
       "4                                            1      0      1  \n",
       "5                                           14     11      0  \n",
       "6                                            0      0      1  \n",
       "7                                            0      3      1  \n",
       "8                                            8      4      0  \n",
       "9                                            0      0      0  \n",
       "10                                           3      0      2  \n",
       "11                                           0      0      0  \n",
       "12                                           0      0      0  \n",
       "13                                           0      0      0  \n",
       "14                                           0      0      0  \n",
       "15                                           0      0      1  \n",
       "16                                           2      3      0  \n",
       "17                                           2      1      0  \n",
       "18                                          10      1      0  \n",
       "19                                           0      0      0  \n",
       "20                                           0      1      0  \n",
       "21                                           0      0      0  \n",
       "22                                           1     11      0  \n",
       "23                                           1      0      0  \n",
       "24                                           0      0      1  "
      ]
     },
     "execution_count": 2,
     "metadata": {},
     "output_type": "execute_result"
    }
   ],
   "source": [
    "# Reading the datasets\n",
    "df= pd.read_excel('content/Covid cases in India.xlsx')\n",
    "df_india = df.copy()\n",
    "df"
   ]
  },
  {
   "cell_type": "code",
   "execution_count": 3,
   "metadata": {
    "colab": {},
    "colab_type": "code",
    "id": "pn4GpG2CjX2C"
   },
   "outputs": [],
   "source": [
    "# Coordinates of India States and Union Territories\n",
    "India_coord = pd.read_excel('./content/Indian Coordinates.xlsx')\n",
    "\n",
    "# Day by day data of India,S. Korea, Italy and Wuhan\n",
    "dbd_India = pd.read_excel('./content/per_day_cases.xlsx',parse_dates=True, sheet_name='India')\n",
    "dbd_Italy = pd.read_excel('./content/per_day_cases.xlsx',parse_dates=True, sheet_name=\"Italy\")\n",
    "dbd_Korea = pd.read_excel('./content/per_day_cases.xlsx',parse_dates=True, sheet_name=\"Korea\")\n",
    "dbd_Wuhan = pd.read_excel('./content/per_day_cases.xlsx',parse_dates=True, sheet_name=\"Wuhan\")"
   ]
  },
  {
   "cell_type": "markdown",
   "metadata": {
    "colab_type": "text",
    "id": "2B1zwo4gdhDd"
   },
   "source": [
    "## 1.2 Analyzing COVID19 Cases in India"
   ]
  },
  {
   "cell_type": "code",
   "execution_count": 4,
   "metadata": {
    "_kg_hide-input": true,
    "colab": {
     "base_uri": "https://localhost:8080/",
     "height": 34
    },
    "colab_type": "code",
    "id": "5x5FEOVEdhDF",
    "outputId": "40773afc-428d-4341-8b98-e5b8922d5ba5"
   },
   "outputs": [
    {
     "name": "stdout",
     "output_type": "stream",
     "text": [
      "Total number of confirmed COVID 2019 cases across India till date (22nd March, 2020): 562\n"
     ]
    }
   ],
   "source": [
    "# Total case is the total number of confirmed cases (Indian National + Foreign National)\n",
    "\n",
    "df.drop(['S. No.'],axis=1,inplace=True)\n",
    "df['Total cases'] = df['Total Confirmed cases (Indian National)'] + df['Total Confirmed cases ( Foreign National )']\n",
    "total_cases = df['Total cases'].sum()\n",
    "print('Total number of confirmed COVID 2019 cases across India till date (22nd March, 2020):', total_cases)\n"
   ]
  },
  {
   "cell_type": "code",
   "execution_count": 5,
   "metadata": {
    "_kg_hide-input": true,
    "_kg_hide-output": false,
    "colab": {
     "base_uri": "https://localhost:8080/",
     "height": 565
    },
    "colab_type": "code",
    "id": "jIQzgI5YdhDh",
    "outputId": "355c18ad-303e-4091-8fd1-7dbfae32c2ed"
   },
   "outputs": [
    {
     "data": {
      "text/html": [
       "<style  type=\"text/css\" >\n",
       "#T_2c60de1e_52b8_11ec_a41a_acde48001122row0_col1,#T_2c60de1e_52b8_11ec_a41a_acde48001122row9_col1,#T_2c60de1e_52b8_11ec_a41a_acde48001122row24_col1{\n",
       "            background-color:  #fee8dd;\n",
       "            color:  #000000;\n",
       "        }#T_2c60de1e_52b8_11ec_a41a_acde48001122row0_col2,#T_2c60de1e_52b8_11ec_a41a_acde48001122row0_col3,#T_2c60de1e_52b8_11ec_a41a_acde48001122row0_col4,#T_2c60de1e_52b8_11ec_a41a_acde48001122row1_col2,#T_2c60de1e_52b8_11ec_a41a_acde48001122row1_col3,#T_2c60de1e_52b8_11ec_a41a_acde48001122row2_col1,#T_2c60de1e_52b8_11ec_a41a_acde48001122row2_col2,#T_2c60de1e_52b8_11ec_a41a_acde48001122row2_col3,#T_2c60de1e_52b8_11ec_a41a_acde48001122row2_col4,#T_2c60de1e_52b8_11ec_a41a_acde48001122row2_col5,#T_2c60de1e_52b8_11ec_a41a_acde48001122row4_col3,#T_2c60de1e_52b8_11ec_a41a_acde48001122row5_col4,#T_2c60de1e_52b8_11ec_a41a_acde48001122row6_col2,#T_2c60de1e_52b8_11ec_a41a_acde48001122row6_col3,#T_2c60de1e_52b8_11ec_a41a_acde48001122row7_col2,#T_2c60de1e_52b8_11ec_a41a_acde48001122row8_col4,#T_2c60de1e_52b8_11ec_a41a_acde48001122row9_col2,#T_2c60de1e_52b8_11ec_a41a_acde48001122row9_col3,#T_2c60de1e_52b8_11ec_a41a_acde48001122row9_col4,#T_2c60de1e_52b8_11ec_a41a_acde48001122row10_col3,#T_2c60de1e_52b8_11ec_a41a_acde48001122row11_col1,#T_2c60de1e_52b8_11ec_a41a_acde48001122row11_col2,#T_2c60de1e_52b8_11ec_a41a_acde48001122row11_col3,#T_2c60de1e_52b8_11ec_a41a_acde48001122row11_col4,#T_2c60de1e_52b8_11ec_a41a_acde48001122row11_col5,#T_2c60de1e_52b8_11ec_a41a_acde48001122row12_col1,#T_2c60de1e_52b8_11ec_a41a_acde48001122row12_col2,#T_2c60de1e_52b8_11ec_a41a_acde48001122row12_col3,#T_2c60de1e_52b8_11ec_a41a_acde48001122row12_col4,#T_2c60de1e_52b8_11ec_a41a_acde48001122row12_col5,#T_2c60de1e_52b8_11ec_a41a_acde48001122row13_col2,#T_2c60de1e_52b8_11ec_a41a_acde48001122row13_col3,#T_2c60de1e_52b8_11ec_a41a_acde48001122row13_col4,#T_2c60de1e_52b8_11ec_a41a_acde48001122row14_col1,#T_2c60de1e_52b8_11ec_a41a_acde48001122row14_col2,#T_2c60de1e_52b8_11ec_a41a_acde48001122row14_col3,#T_2c60de1e_52b8_11ec_a41a_acde48001122row14_col4,#T_2c60de1e_52b8_11ec_a41a_acde48001122row14_col5,#T_2c60de1e_52b8_11ec_a41a_acde48001122row15_col2,#T_2c60de1e_52b8_11ec_a41a_acde48001122row15_col3,#T_2c60de1e_52b8_11ec_a41a_acde48001122row16_col4,#T_2c60de1e_52b8_11ec_a41a_acde48001122row17_col4,#T_2c60de1e_52b8_11ec_a41a_acde48001122row18_col4,#T_2c60de1e_52b8_11ec_a41a_acde48001122row19_col2,#T_2c60de1e_52b8_11ec_a41a_acde48001122row19_col3,#T_2c60de1e_52b8_11ec_a41a_acde48001122row19_col4,#T_2c60de1e_52b8_11ec_a41a_acde48001122row20_col2,#T_2c60de1e_52b8_11ec_a41a_acde48001122row20_col4,#T_2c60de1e_52b8_11ec_a41a_acde48001122row21_col2,#T_2c60de1e_52b8_11ec_a41a_acde48001122row21_col3,#T_2c60de1e_52b8_11ec_a41a_acde48001122row21_col4,#T_2c60de1e_52b8_11ec_a41a_acde48001122row22_col4,#T_2c60de1e_52b8_11ec_a41a_acde48001122row23_col3,#T_2c60de1e_52b8_11ec_a41a_acde48001122row23_col4,#T_2c60de1e_52b8_11ec_a41a_acde48001122row24_col2,#T_2c60de1e_52b8_11ec_a41a_acde48001122row24_col3{\n",
       "            background-color:  #fff5f0;\n",
       "            color:  #000000;\n",
       "        }#T_2c60de1e_52b8_11ec_a41a_acde48001122row0_col5,#T_2c60de1e_52b8_11ec_a41a_acde48001122row3_col2,#T_2c60de1e_52b8_11ec_a41a_acde48001122row4_col2,#T_2c60de1e_52b8_11ec_a41a_acde48001122row9_col5,#T_2c60de1e_52b8_11ec_a41a_acde48001122row22_col2,#T_2c60de1e_52b8_11ec_a41a_acde48001122row23_col2,#T_2c60de1e_52b8_11ec_a41a_acde48001122row24_col5{\n",
       "            background-color:  #fee9df;\n",
       "            color:  #000000;\n",
       "        }#T_2c60de1e_52b8_11ec_a41a_acde48001122row1_col1,#T_2c60de1e_52b8_11ec_a41a_acde48001122row6_col1,#T_2c60de1e_52b8_11ec_a41a_acde48001122row23_col1{\n",
       "            background-color:  #fff2eb;\n",
       "            color:  #000000;\n",
       "        }#T_2c60de1e_52b8_11ec_a41a_acde48001122row1_col4,#T_2c60de1e_52b8_11ec_a41a_acde48001122row3_col4,#T_2c60de1e_52b8_11ec_a41a_acde48001122row4_col4,#T_2c60de1e_52b8_11ec_a41a_acde48001122row6_col4,#T_2c60de1e_52b8_11ec_a41a_acde48001122row7_col4,#T_2c60de1e_52b8_11ec_a41a_acde48001122row15_col4,#T_2c60de1e_52b8_11ec_a41a_acde48001122row24_col4{\n",
       "            background-color:  #fb694a;\n",
       "            color:  #000000;\n",
       "        }#T_2c60de1e_52b8_11ec_a41a_acde48001122row1_col5,#T_2c60de1e_52b8_11ec_a41a_acde48001122row6_col5{\n",
       "            background-color:  #fff2ec;\n",
       "            color:  #000000;\n",
       "        }#T_2c60de1e_52b8_11ec_a41a_acde48001122row3_col1,#T_2c60de1e_52b8_11ec_a41a_acde48001122row16_col1{\n",
       "            background-color:  #fcae92;\n",
       "            color:  #000000;\n",
       "        }#T_2c60de1e_52b8_11ec_a41a_acde48001122row3_col3{\n",
       "            background-color:  #f7593f;\n",
       "            color:  #000000;\n",
       "        }#T_2c60de1e_52b8_11ec_a41a_acde48001122row3_col5,#T_2c60de1e_52b8_11ec_a41a_acde48001122row15_col1{\n",
       "            background-color:  #fcb296;\n",
       "            color:  #000000;\n",
       "        }#T_2c60de1e_52b8_11ec_a41a_acde48001122row4_col1{\n",
       "            background-color:  #fca78b;\n",
       "            color:  #000000;\n",
       "        }#T_2c60de1e_52b8_11ec_a41a_acde48001122row4_col5{\n",
       "            background-color:  #fcad90;\n",
       "            color:  #000000;\n",
       "        }#T_2c60de1e_52b8_11ec_a41a_acde48001122row5_col1{\n",
       "            background-color:  #fedfd0;\n",
       "            color:  #000000;\n",
       "        }#T_2c60de1e_52b8_11ec_a41a_acde48001122row5_col2,#T_2c60de1e_52b8_11ec_a41a_acde48001122row5_col3,#T_2c60de1e_52b8_11ec_a41a_acde48001122row8_col1,#T_2c60de1e_52b8_11ec_a41a_acde48001122row8_col5,#T_2c60de1e_52b8_11ec_a41a_acde48001122row10_col4,#T_2c60de1e_52b8_11ec_a41a_acde48001122row22_col3{\n",
       "            background-color:  #67000d;\n",
       "            color:  #f1f1f1;\n",
       "        }#T_2c60de1e_52b8_11ec_a41a_acde48001122row5_col5{\n",
       "            background-color:  #fcbba1;\n",
       "            color:  #000000;\n",
       "        }#T_2c60de1e_52b8_11ec_a41a_acde48001122row7_col1{\n",
       "            background-color:  #fc8a6a;\n",
       "            color:  #000000;\n",
       "        }#T_2c60de1e_52b8_11ec_a41a_acde48001122row7_col3,#T_2c60de1e_52b8_11ec_a41a_acde48001122row16_col3{\n",
       "            background-color:  #fcb499;\n",
       "            color:  #000000;\n",
       "        }#T_2c60de1e_52b8_11ec_a41a_acde48001122row7_col5{\n",
       "            background-color:  #fc9474;\n",
       "            color:  #000000;\n",
       "        }#T_2c60de1e_52b8_11ec_a41a_acde48001122row8_col2{\n",
       "            background-color:  #f44f39;\n",
       "            color:  #000000;\n",
       "        }#T_2c60de1e_52b8_11ec_a41a_acde48001122row8_col3{\n",
       "            background-color:  #fc9576;\n",
       "            color:  #000000;\n",
       "        }#T_2c60de1e_52b8_11ec_a41a_acde48001122row10_col1{\n",
       "            background-color:  #75030f;\n",
       "            color:  #f1f1f1;\n",
       "        }#T_2c60de1e_52b8_11ec_a41a_acde48001122row10_col2{\n",
       "            background-color:  #fdc6b0;\n",
       "            color:  #000000;\n",
       "        }#T_2c60de1e_52b8_11ec_a41a_acde48001122row10_col5{\n",
       "            background-color:  #8a0812;\n",
       "            color:  #f1f1f1;\n",
       "        }#T_2c60de1e_52b8_11ec_a41a_acde48001122row13_col1,#T_2c60de1e_52b8_11ec_a41a_acde48001122row13_col5{\n",
       "            background-color:  #fff4ee;\n",
       "            color:  #000000;\n",
       "        }#T_2c60de1e_52b8_11ec_a41a_acde48001122row15_col5{\n",
       "            background-color:  #fcb89e;\n",
       "            color:  #000000;\n",
       "        }#T_2c60de1e_52b8_11ec_a41a_acde48001122row16_col2,#T_2c60de1e_52b8_11ec_a41a_acde48001122row17_col2{\n",
       "            background-color:  #fedbcc;\n",
       "            color:  #000000;\n",
       "        }#T_2c60de1e_52b8_11ec_a41a_acde48001122row16_col5{\n",
       "            background-color:  #fcaf93;\n",
       "            color:  #000000;\n",
       "        }#T_2c60de1e_52b8_11ec_a41a_acde48001122row17_col1{\n",
       "            background-color:  #fed9c9;\n",
       "            color:  #000000;\n",
       "        }#T_2c60de1e_52b8_11ec_a41a_acde48001122row17_col3,#T_2c60de1e_52b8_11ec_a41a_acde48001122row18_col3,#T_2c60de1e_52b8_11ec_a41a_acde48001122row20_col3{\n",
       "            background-color:  #fee6da;\n",
       "            color:  #000000;\n",
       "        }#T_2c60de1e_52b8_11ec_a41a_acde48001122row17_col5{\n",
       "            background-color:  #fdd7c6;\n",
       "            color:  #000000;\n",
       "        }#T_2c60de1e_52b8_11ec_a41a_acde48001122row18_col1{\n",
       "            background-color:  #fcbea5;\n",
       "            color:  #000000;\n",
       "        }#T_2c60de1e_52b8_11ec_a41a_acde48001122row18_col2{\n",
       "            background-color:  #d52221;\n",
       "            color:  #f1f1f1;\n",
       "        }#T_2c60de1e_52b8_11ec_a41a_acde48001122row18_col5,#T_2c60de1e_52b8_11ec_a41a_acde48001122row22_col5{\n",
       "            background-color:  #fca689;\n",
       "            color:  #000000;\n",
       "        }#T_2c60de1e_52b8_11ec_a41a_acde48001122row19_col1,#T_2c60de1e_52b8_11ec_a41a_acde48001122row20_col1{\n",
       "            background-color:  #ffebe2;\n",
       "            color:  #000000;\n",
       "        }#T_2c60de1e_52b8_11ec_a41a_acde48001122row19_col5,#T_2c60de1e_52b8_11ec_a41a_acde48001122row20_col5{\n",
       "            background-color:  #ffece3;\n",
       "            color:  #000000;\n",
       "        }#T_2c60de1e_52b8_11ec_a41a_acde48001122row21_col1{\n",
       "            background-color:  #fee1d4;\n",
       "            color:  #000000;\n",
       "        }#T_2c60de1e_52b8_11ec_a41a_acde48001122row21_col5{\n",
       "            background-color:  #fee3d6;\n",
       "            color:  #000000;\n",
       "        }#T_2c60de1e_52b8_11ec_a41a_acde48001122row22_col1{\n",
       "            background-color:  #fca183;\n",
       "            color:  #000000;\n",
       "        }#T_2c60de1e_52b8_11ec_a41a_acde48001122row23_col5{\n",
       "            background-color:  #fff0e9;\n",
       "            color:  #000000;\n",
       "        }</style><table id=\"T_2c60de1e_52b8_11ec_a41a_acde48001122\" ><thead>    <tr>        <th class=\"blank level0\" ></th>        <th class=\"col_heading level0 col0\" >Name of State / UT</th>        <th class=\"col_heading level0 col1\" >Total Confirmed cases (Indian National)</th>        <th class=\"col_heading level0 col2\" >Total Confirmed cases ( Foreign National )</th>        <th class=\"col_heading level0 col3\" >Cured</th>        <th class=\"col_heading level0 col4\" >Death</th>        <th class=\"col_heading level0 col5\" >Total cases</th>    </tr></thead><tbody>\n",
       "                <tr>\n",
       "                        <th id=\"T_2c60de1e_52b8_11ec_a41a_acde48001122level0_row0\" class=\"row_heading level0 row0\" >0</th>\n",
       "                        <td id=\"T_2c60de1e_52b8_11ec_a41a_acde48001122row0_col0\" class=\"data row0 col0\" >Andhra Pradesh</td>\n",
       "                        <td id=\"T_2c60de1e_52b8_11ec_a41a_acde48001122row0_col1\" class=\"data row0 col1\" >9</td>\n",
       "                        <td id=\"T_2c60de1e_52b8_11ec_a41a_acde48001122row0_col2\" class=\"data row0 col2\" >0</td>\n",
       "                        <td id=\"T_2c60de1e_52b8_11ec_a41a_acde48001122row0_col3\" class=\"data row0 col3\" >0</td>\n",
       "                        <td id=\"T_2c60de1e_52b8_11ec_a41a_acde48001122row0_col4\" class=\"data row0 col4\" >0</td>\n",
       "                        <td id=\"T_2c60de1e_52b8_11ec_a41a_acde48001122row0_col5\" class=\"data row0 col5\" >9</td>\n",
       "            </tr>\n",
       "            <tr>\n",
       "                        <th id=\"T_2c60de1e_52b8_11ec_a41a_acde48001122level0_row1\" class=\"row_heading level0 row1\" >1</th>\n",
       "                        <td id=\"T_2c60de1e_52b8_11ec_a41a_acde48001122row1_col0\" class=\"data row1 col0\" >Bihar</td>\n",
       "                        <td id=\"T_2c60de1e_52b8_11ec_a41a_acde48001122row1_col1\" class=\"data row1 col1\" >3</td>\n",
       "                        <td id=\"T_2c60de1e_52b8_11ec_a41a_acde48001122row1_col2\" class=\"data row1 col2\" >0</td>\n",
       "                        <td id=\"T_2c60de1e_52b8_11ec_a41a_acde48001122row1_col3\" class=\"data row1 col3\" >0</td>\n",
       "                        <td id=\"T_2c60de1e_52b8_11ec_a41a_acde48001122row1_col4\" class=\"data row1 col4\" >1</td>\n",
       "                        <td id=\"T_2c60de1e_52b8_11ec_a41a_acde48001122row1_col5\" class=\"data row1 col5\" >3</td>\n",
       "            </tr>\n",
       "            <tr>\n",
       "                        <th id=\"T_2c60de1e_52b8_11ec_a41a_acde48001122level0_row2\" class=\"row_heading level0 row2\" >2</th>\n",
       "                        <td id=\"T_2c60de1e_52b8_11ec_a41a_acde48001122row2_col0\" class=\"data row2 col0\" >Chhattisgarh</td>\n",
       "                        <td id=\"T_2c60de1e_52b8_11ec_a41a_acde48001122row2_col1\" class=\"data row2 col1\" >1</td>\n",
       "                        <td id=\"T_2c60de1e_52b8_11ec_a41a_acde48001122row2_col2\" class=\"data row2 col2\" >0</td>\n",
       "                        <td id=\"T_2c60de1e_52b8_11ec_a41a_acde48001122row2_col3\" class=\"data row2 col3\" >0</td>\n",
       "                        <td id=\"T_2c60de1e_52b8_11ec_a41a_acde48001122row2_col4\" class=\"data row2 col4\" >0</td>\n",
       "                        <td id=\"T_2c60de1e_52b8_11ec_a41a_acde48001122row2_col5\" class=\"data row2 col5\" >1</td>\n",
       "            </tr>\n",
       "            <tr>\n",
       "                        <th id=\"T_2c60de1e_52b8_11ec_a41a_acde48001122level0_row3\" class=\"row_heading level0 row3\" >3</th>\n",
       "                        <td id=\"T_2c60de1e_52b8_11ec_a41a_acde48001122row3_col0\" class=\"data row3 col0\" >Delhi</td>\n",
       "                        <td id=\"T_2c60de1e_52b8_11ec_a41a_acde48001122row3_col1\" class=\"data row3 col1\" >30</td>\n",
       "                        <td id=\"T_2c60de1e_52b8_11ec_a41a_acde48001122row3_col2\" class=\"data row3 col2\" >1</td>\n",
       "                        <td id=\"T_2c60de1e_52b8_11ec_a41a_acde48001122row3_col3\" class=\"data row3 col3\" >6</td>\n",
       "                        <td id=\"T_2c60de1e_52b8_11ec_a41a_acde48001122row3_col4\" class=\"data row3 col4\" >1</td>\n",
       "                        <td id=\"T_2c60de1e_52b8_11ec_a41a_acde48001122row3_col5\" class=\"data row3 col5\" >31</td>\n",
       "            </tr>\n",
       "            <tr>\n",
       "                        <th id=\"T_2c60de1e_52b8_11ec_a41a_acde48001122level0_row4\" class=\"row_heading level0 row4\" >4</th>\n",
       "                        <td id=\"T_2c60de1e_52b8_11ec_a41a_acde48001122row4_col0\" class=\"data row4 col0\" >Gujarat</td>\n",
       "                        <td id=\"T_2c60de1e_52b8_11ec_a41a_acde48001122row4_col1\" class=\"data row4 col1\" >32</td>\n",
       "                        <td id=\"T_2c60de1e_52b8_11ec_a41a_acde48001122row4_col2\" class=\"data row4 col2\" >1</td>\n",
       "                        <td id=\"T_2c60de1e_52b8_11ec_a41a_acde48001122row4_col3\" class=\"data row4 col3\" >0</td>\n",
       "                        <td id=\"T_2c60de1e_52b8_11ec_a41a_acde48001122row4_col4\" class=\"data row4 col4\" >1</td>\n",
       "                        <td id=\"T_2c60de1e_52b8_11ec_a41a_acde48001122row4_col5\" class=\"data row4 col5\" >33</td>\n",
       "            </tr>\n",
       "            <tr>\n",
       "                        <th id=\"T_2c60de1e_52b8_11ec_a41a_acde48001122level0_row5\" class=\"row_heading level0 row5\" >5</th>\n",
       "                        <td id=\"T_2c60de1e_52b8_11ec_a41a_acde48001122row5_col0\" class=\"data row5 col0\" >Haryana</td>\n",
       "                        <td id=\"T_2c60de1e_52b8_11ec_a41a_acde48001122row5_col1\" class=\"data row5 col1\" >14</td>\n",
       "                        <td id=\"T_2c60de1e_52b8_11ec_a41a_acde48001122row5_col2\" class=\"data row5 col2\" >14</td>\n",
       "                        <td id=\"T_2c60de1e_52b8_11ec_a41a_acde48001122row5_col3\" class=\"data row5 col3\" >11</td>\n",
       "                        <td id=\"T_2c60de1e_52b8_11ec_a41a_acde48001122row5_col4\" class=\"data row5 col4\" >0</td>\n",
       "                        <td id=\"T_2c60de1e_52b8_11ec_a41a_acde48001122row5_col5\" class=\"data row5 col5\" >28</td>\n",
       "            </tr>\n",
       "            <tr>\n",
       "                        <th id=\"T_2c60de1e_52b8_11ec_a41a_acde48001122level0_row6\" class=\"row_heading level0 row6\" >6</th>\n",
       "                        <td id=\"T_2c60de1e_52b8_11ec_a41a_acde48001122row6_col0\" class=\"data row6 col0\" >Himachal Pradesh</td>\n",
       "                        <td id=\"T_2c60de1e_52b8_11ec_a41a_acde48001122row6_col1\" class=\"data row6 col1\" >3</td>\n",
       "                        <td id=\"T_2c60de1e_52b8_11ec_a41a_acde48001122row6_col2\" class=\"data row6 col2\" >0</td>\n",
       "                        <td id=\"T_2c60de1e_52b8_11ec_a41a_acde48001122row6_col3\" class=\"data row6 col3\" >0</td>\n",
       "                        <td id=\"T_2c60de1e_52b8_11ec_a41a_acde48001122row6_col4\" class=\"data row6 col4\" >1</td>\n",
       "                        <td id=\"T_2c60de1e_52b8_11ec_a41a_acde48001122row6_col5\" class=\"data row6 col5\" >3</td>\n",
       "            </tr>\n",
       "            <tr>\n",
       "                        <th id=\"T_2c60de1e_52b8_11ec_a41a_acde48001122level0_row7\" class=\"row_heading level0 row7\" >7</th>\n",
       "                        <td id=\"T_2c60de1e_52b8_11ec_a41a_acde48001122row7_col0\" class=\"data row7 col0\" >Karnataka</td>\n",
       "                        <td id=\"T_2c60de1e_52b8_11ec_a41a_acde48001122row7_col1\" class=\"data row7 col1\" >41</td>\n",
       "                        <td id=\"T_2c60de1e_52b8_11ec_a41a_acde48001122row7_col2\" class=\"data row7 col2\" >0</td>\n",
       "                        <td id=\"T_2c60de1e_52b8_11ec_a41a_acde48001122row7_col3\" class=\"data row7 col3\" >3</td>\n",
       "                        <td id=\"T_2c60de1e_52b8_11ec_a41a_acde48001122row7_col4\" class=\"data row7 col4\" >1</td>\n",
       "                        <td id=\"T_2c60de1e_52b8_11ec_a41a_acde48001122row7_col5\" class=\"data row7 col5\" >41</td>\n",
       "            </tr>\n",
       "            <tr>\n",
       "                        <th id=\"T_2c60de1e_52b8_11ec_a41a_acde48001122level0_row8\" class=\"row_heading level0 row8\" >8</th>\n",
       "                        <td id=\"T_2c60de1e_52b8_11ec_a41a_acde48001122row8_col0\" class=\"data row8 col0\" >Kerala</td>\n",
       "                        <td id=\"T_2c60de1e_52b8_11ec_a41a_acde48001122row8_col1\" class=\"data row8 col1\" >101</td>\n",
       "                        <td id=\"T_2c60de1e_52b8_11ec_a41a_acde48001122row8_col2\" class=\"data row8 col2\" >8</td>\n",
       "                        <td id=\"T_2c60de1e_52b8_11ec_a41a_acde48001122row8_col3\" class=\"data row8 col3\" >4</td>\n",
       "                        <td id=\"T_2c60de1e_52b8_11ec_a41a_acde48001122row8_col4\" class=\"data row8 col4\" >0</td>\n",
       "                        <td id=\"T_2c60de1e_52b8_11ec_a41a_acde48001122row8_col5\" class=\"data row8 col5\" >109</td>\n",
       "            </tr>\n",
       "            <tr>\n",
       "                        <th id=\"T_2c60de1e_52b8_11ec_a41a_acde48001122level0_row9\" class=\"row_heading level0 row9\" >9</th>\n",
       "                        <td id=\"T_2c60de1e_52b8_11ec_a41a_acde48001122row9_col0\" class=\"data row9 col0\" >Madhya Pradesh</td>\n",
       "                        <td id=\"T_2c60de1e_52b8_11ec_a41a_acde48001122row9_col1\" class=\"data row9 col1\" >9</td>\n",
       "                        <td id=\"T_2c60de1e_52b8_11ec_a41a_acde48001122row9_col2\" class=\"data row9 col2\" >0</td>\n",
       "                        <td id=\"T_2c60de1e_52b8_11ec_a41a_acde48001122row9_col3\" class=\"data row9 col3\" >0</td>\n",
       "                        <td id=\"T_2c60de1e_52b8_11ec_a41a_acde48001122row9_col4\" class=\"data row9 col4\" >0</td>\n",
       "                        <td id=\"T_2c60de1e_52b8_11ec_a41a_acde48001122row9_col5\" class=\"data row9 col5\" >9</td>\n",
       "            </tr>\n",
       "            <tr>\n",
       "                        <th id=\"T_2c60de1e_52b8_11ec_a41a_acde48001122level0_row10\" class=\"row_heading level0 row10\" >10</th>\n",
       "                        <td id=\"T_2c60de1e_52b8_11ec_a41a_acde48001122row10_col0\" class=\"data row10 col0\" >Maharashtra</td>\n",
       "                        <td id=\"T_2c60de1e_52b8_11ec_a41a_acde48001122row10_col1\" class=\"data row10 col1\" >98</td>\n",
       "                        <td id=\"T_2c60de1e_52b8_11ec_a41a_acde48001122row10_col2\" class=\"data row10 col2\" >3</td>\n",
       "                        <td id=\"T_2c60de1e_52b8_11ec_a41a_acde48001122row10_col3\" class=\"data row10 col3\" >0</td>\n",
       "                        <td id=\"T_2c60de1e_52b8_11ec_a41a_acde48001122row10_col4\" class=\"data row10 col4\" >2</td>\n",
       "                        <td id=\"T_2c60de1e_52b8_11ec_a41a_acde48001122row10_col5\" class=\"data row10 col5\" >101</td>\n",
       "            </tr>\n",
       "            <tr>\n",
       "                        <th id=\"T_2c60de1e_52b8_11ec_a41a_acde48001122level0_row11\" class=\"row_heading level0 row11\" >11</th>\n",
       "                        <td id=\"T_2c60de1e_52b8_11ec_a41a_acde48001122row11_col0\" class=\"data row11 col0\" >Manipur</td>\n",
       "                        <td id=\"T_2c60de1e_52b8_11ec_a41a_acde48001122row11_col1\" class=\"data row11 col1\" >1</td>\n",
       "                        <td id=\"T_2c60de1e_52b8_11ec_a41a_acde48001122row11_col2\" class=\"data row11 col2\" >0</td>\n",
       "                        <td id=\"T_2c60de1e_52b8_11ec_a41a_acde48001122row11_col3\" class=\"data row11 col3\" >0</td>\n",
       "                        <td id=\"T_2c60de1e_52b8_11ec_a41a_acde48001122row11_col4\" class=\"data row11 col4\" >0</td>\n",
       "                        <td id=\"T_2c60de1e_52b8_11ec_a41a_acde48001122row11_col5\" class=\"data row11 col5\" >1</td>\n",
       "            </tr>\n",
       "            <tr>\n",
       "                        <th id=\"T_2c60de1e_52b8_11ec_a41a_acde48001122level0_row12\" class=\"row_heading level0 row12\" >12</th>\n",
       "                        <td id=\"T_2c60de1e_52b8_11ec_a41a_acde48001122row12_col0\" class=\"data row12 col0\" >Mizoram</td>\n",
       "                        <td id=\"T_2c60de1e_52b8_11ec_a41a_acde48001122row12_col1\" class=\"data row12 col1\" >1</td>\n",
       "                        <td id=\"T_2c60de1e_52b8_11ec_a41a_acde48001122row12_col2\" class=\"data row12 col2\" >0</td>\n",
       "                        <td id=\"T_2c60de1e_52b8_11ec_a41a_acde48001122row12_col3\" class=\"data row12 col3\" >0</td>\n",
       "                        <td id=\"T_2c60de1e_52b8_11ec_a41a_acde48001122row12_col4\" class=\"data row12 col4\" >0</td>\n",
       "                        <td id=\"T_2c60de1e_52b8_11ec_a41a_acde48001122row12_col5\" class=\"data row12 col5\" >1</td>\n",
       "            </tr>\n",
       "            <tr>\n",
       "                        <th id=\"T_2c60de1e_52b8_11ec_a41a_acde48001122level0_row13\" class=\"row_heading level0 row13\" >13</th>\n",
       "                        <td id=\"T_2c60de1e_52b8_11ec_a41a_acde48001122row13_col0\" class=\"data row13 col0\" >Odisha</td>\n",
       "                        <td id=\"T_2c60de1e_52b8_11ec_a41a_acde48001122row13_col1\" class=\"data row13 col1\" >2</td>\n",
       "                        <td id=\"T_2c60de1e_52b8_11ec_a41a_acde48001122row13_col2\" class=\"data row13 col2\" >0</td>\n",
       "                        <td id=\"T_2c60de1e_52b8_11ec_a41a_acde48001122row13_col3\" class=\"data row13 col3\" >0</td>\n",
       "                        <td id=\"T_2c60de1e_52b8_11ec_a41a_acde48001122row13_col4\" class=\"data row13 col4\" >0</td>\n",
       "                        <td id=\"T_2c60de1e_52b8_11ec_a41a_acde48001122row13_col5\" class=\"data row13 col5\" >2</td>\n",
       "            </tr>\n",
       "            <tr>\n",
       "                        <th id=\"T_2c60de1e_52b8_11ec_a41a_acde48001122level0_row14\" class=\"row_heading level0 row14\" >14</th>\n",
       "                        <td id=\"T_2c60de1e_52b8_11ec_a41a_acde48001122row14_col0\" class=\"data row14 col0\" >Puducherry</td>\n",
       "                        <td id=\"T_2c60de1e_52b8_11ec_a41a_acde48001122row14_col1\" class=\"data row14 col1\" >1</td>\n",
       "                        <td id=\"T_2c60de1e_52b8_11ec_a41a_acde48001122row14_col2\" class=\"data row14 col2\" >0</td>\n",
       "                        <td id=\"T_2c60de1e_52b8_11ec_a41a_acde48001122row14_col3\" class=\"data row14 col3\" >0</td>\n",
       "                        <td id=\"T_2c60de1e_52b8_11ec_a41a_acde48001122row14_col4\" class=\"data row14 col4\" >0</td>\n",
       "                        <td id=\"T_2c60de1e_52b8_11ec_a41a_acde48001122row14_col5\" class=\"data row14 col5\" >1</td>\n",
       "            </tr>\n",
       "            <tr>\n",
       "                        <th id=\"T_2c60de1e_52b8_11ec_a41a_acde48001122level0_row15\" class=\"row_heading level0 row15\" >15</th>\n",
       "                        <td id=\"T_2c60de1e_52b8_11ec_a41a_acde48001122row15_col0\" class=\"data row15 col0\" >Punjab</td>\n",
       "                        <td id=\"T_2c60de1e_52b8_11ec_a41a_acde48001122row15_col1\" class=\"data row15 col1\" >29</td>\n",
       "                        <td id=\"T_2c60de1e_52b8_11ec_a41a_acde48001122row15_col2\" class=\"data row15 col2\" >0</td>\n",
       "                        <td id=\"T_2c60de1e_52b8_11ec_a41a_acde48001122row15_col3\" class=\"data row15 col3\" >0</td>\n",
       "                        <td id=\"T_2c60de1e_52b8_11ec_a41a_acde48001122row15_col4\" class=\"data row15 col4\" >1</td>\n",
       "                        <td id=\"T_2c60de1e_52b8_11ec_a41a_acde48001122row15_col5\" class=\"data row15 col5\" >29</td>\n",
       "            </tr>\n",
       "            <tr>\n",
       "                        <th id=\"T_2c60de1e_52b8_11ec_a41a_acde48001122level0_row16\" class=\"row_heading level0 row16\" >16</th>\n",
       "                        <td id=\"T_2c60de1e_52b8_11ec_a41a_acde48001122row16_col0\" class=\"data row16 col0\" >Rajasthan</td>\n",
       "                        <td id=\"T_2c60de1e_52b8_11ec_a41a_acde48001122row16_col1\" class=\"data row16 col1\" >30</td>\n",
       "                        <td id=\"T_2c60de1e_52b8_11ec_a41a_acde48001122row16_col2\" class=\"data row16 col2\" >2</td>\n",
       "                        <td id=\"T_2c60de1e_52b8_11ec_a41a_acde48001122row16_col3\" class=\"data row16 col3\" >3</td>\n",
       "                        <td id=\"T_2c60de1e_52b8_11ec_a41a_acde48001122row16_col4\" class=\"data row16 col4\" >0</td>\n",
       "                        <td id=\"T_2c60de1e_52b8_11ec_a41a_acde48001122row16_col5\" class=\"data row16 col5\" >32</td>\n",
       "            </tr>\n",
       "            <tr>\n",
       "                        <th id=\"T_2c60de1e_52b8_11ec_a41a_acde48001122level0_row17\" class=\"row_heading level0 row17\" >17</th>\n",
       "                        <td id=\"T_2c60de1e_52b8_11ec_a41a_acde48001122row17_col0\" class=\"data row17 col0\" >Tamil Nadu</td>\n",
       "                        <td id=\"T_2c60de1e_52b8_11ec_a41a_acde48001122row17_col1\" class=\"data row17 col1\" >16</td>\n",
       "                        <td id=\"T_2c60de1e_52b8_11ec_a41a_acde48001122row17_col2\" class=\"data row17 col2\" >2</td>\n",
       "                        <td id=\"T_2c60de1e_52b8_11ec_a41a_acde48001122row17_col3\" class=\"data row17 col3\" >1</td>\n",
       "                        <td id=\"T_2c60de1e_52b8_11ec_a41a_acde48001122row17_col4\" class=\"data row17 col4\" >0</td>\n",
       "                        <td id=\"T_2c60de1e_52b8_11ec_a41a_acde48001122row17_col5\" class=\"data row17 col5\" >18</td>\n",
       "            </tr>\n",
       "            <tr>\n",
       "                        <th id=\"T_2c60de1e_52b8_11ec_a41a_acde48001122level0_row18\" class=\"row_heading level0 row18\" >18</th>\n",
       "                        <td id=\"T_2c60de1e_52b8_11ec_a41a_acde48001122row18_col0\" class=\"data row18 col0\" >Telengana</td>\n",
       "                        <td id=\"T_2c60de1e_52b8_11ec_a41a_acde48001122row18_col1\" class=\"data row18 col1\" >25</td>\n",
       "                        <td id=\"T_2c60de1e_52b8_11ec_a41a_acde48001122row18_col2\" class=\"data row18 col2\" >10</td>\n",
       "                        <td id=\"T_2c60de1e_52b8_11ec_a41a_acde48001122row18_col3\" class=\"data row18 col3\" >1</td>\n",
       "                        <td id=\"T_2c60de1e_52b8_11ec_a41a_acde48001122row18_col4\" class=\"data row18 col4\" >0</td>\n",
       "                        <td id=\"T_2c60de1e_52b8_11ec_a41a_acde48001122row18_col5\" class=\"data row18 col5\" >35</td>\n",
       "            </tr>\n",
       "            <tr>\n",
       "                        <th id=\"T_2c60de1e_52b8_11ec_a41a_acde48001122level0_row19\" class=\"row_heading level0 row19\" >19</th>\n",
       "                        <td id=\"T_2c60de1e_52b8_11ec_a41a_acde48001122row19_col0\" class=\"data row19 col0\" >Chandigarh</td>\n",
       "                        <td id=\"T_2c60de1e_52b8_11ec_a41a_acde48001122row19_col1\" class=\"data row19 col1\" >7</td>\n",
       "                        <td id=\"T_2c60de1e_52b8_11ec_a41a_acde48001122row19_col2\" class=\"data row19 col2\" >0</td>\n",
       "                        <td id=\"T_2c60de1e_52b8_11ec_a41a_acde48001122row19_col3\" class=\"data row19 col3\" >0</td>\n",
       "                        <td id=\"T_2c60de1e_52b8_11ec_a41a_acde48001122row19_col4\" class=\"data row19 col4\" >0</td>\n",
       "                        <td id=\"T_2c60de1e_52b8_11ec_a41a_acde48001122row19_col5\" class=\"data row19 col5\" >7</td>\n",
       "            </tr>\n",
       "            <tr>\n",
       "                        <th id=\"T_2c60de1e_52b8_11ec_a41a_acde48001122level0_row20\" class=\"row_heading level0 row20\" >20</th>\n",
       "                        <td id=\"T_2c60de1e_52b8_11ec_a41a_acde48001122row20_col0\" class=\"data row20 col0\" >Jammu and Kashmir</td>\n",
       "                        <td id=\"T_2c60de1e_52b8_11ec_a41a_acde48001122row20_col1\" class=\"data row20 col1\" >7</td>\n",
       "                        <td id=\"T_2c60de1e_52b8_11ec_a41a_acde48001122row20_col2\" class=\"data row20 col2\" >0</td>\n",
       "                        <td id=\"T_2c60de1e_52b8_11ec_a41a_acde48001122row20_col3\" class=\"data row20 col3\" >1</td>\n",
       "                        <td id=\"T_2c60de1e_52b8_11ec_a41a_acde48001122row20_col4\" class=\"data row20 col4\" >0</td>\n",
       "                        <td id=\"T_2c60de1e_52b8_11ec_a41a_acde48001122row20_col5\" class=\"data row20 col5\" >7</td>\n",
       "            </tr>\n",
       "            <tr>\n",
       "                        <th id=\"T_2c60de1e_52b8_11ec_a41a_acde48001122level0_row21\" class=\"row_heading level0 row21\" >21</th>\n",
       "                        <td id=\"T_2c60de1e_52b8_11ec_a41a_acde48001122row21_col0\" class=\"data row21 col0\" >Ladakh</td>\n",
       "                        <td id=\"T_2c60de1e_52b8_11ec_a41a_acde48001122row21_col1\" class=\"data row21 col1\" >13</td>\n",
       "                        <td id=\"T_2c60de1e_52b8_11ec_a41a_acde48001122row21_col2\" class=\"data row21 col2\" >0</td>\n",
       "                        <td id=\"T_2c60de1e_52b8_11ec_a41a_acde48001122row21_col3\" class=\"data row21 col3\" >0</td>\n",
       "                        <td id=\"T_2c60de1e_52b8_11ec_a41a_acde48001122row21_col4\" class=\"data row21 col4\" >0</td>\n",
       "                        <td id=\"T_2c60de1e_52b8_11ec_a41a_acde48001122row21_col5\" class=\"data row21 col5\" >13</td>\n",
       "            </tr>\n",
       "            <tr>\n",
       "                        <th id=\"T_2c60de1e_52b8_11ec_a41a_acde48001122level0_row22\" class=\"row_heading level0 row22\" >22</th>\n",
       "                        <td id=\"T_2c60de1e_52b8_11ec_a41a_acde48001122row22_col0\" class=\"data row22 col0\" >Uttar Pradesh</td>\n",
       "                        <td id=\"T_2c60de1e_52b8_11ec_a41a_acde48001122row22_col1\" class=\"data row22 col1\" >34</td>\n",
       "                        <td id=\"T_2c60de1e_52b8_11ec_a41a_acde48001122row22_col2\" class=\"data row22 col2\" >1</td>\n",
       "                        <td id=\"T_2c60de1e_52b8_11ec_a41a_acde48001122row22_col3\" class=\"data row22 col3\" >11</td>\n",
       "                        <td id=\"T_2c60de1e_52b8_11ec_a41a_acde48001122row22_col4\" class=\"data row22 col4\" >0</td>\n",
       "                        <td id=\"T_2c60de1e_52b8_11ec_a41a_acde48001122row22_col5\" class=\"data row22 col5\" >35</td>\n",
       "            </tr>\n",
       "            <tr>\n",
       "                        <th id=\"T_2c60de1e_52b8_11ec_a41a_acde48001122level0_row23\" class=\"row_heading level0 row23\" >23</th>\n",
       "                        <td id=\"T_2c60de1e_52b8_11ec_a41a_acde48001122row23_col0\" class=\"data row23 col0\" >Uttarakhand</td>\n",
       "                        <td id=\"T_2c60de1e_52b8_11ec_a41a_acde48001122row23_col1\" class=\"data row23 col1\" >3</td>\n",
       "                        <td id=\"T_2c60de1e_52b8_11ec_a41a_acde48001122row23_col2\" class=\"data row23 col2\" >1</td>\n",
       "                        <td id=\"T_2c60de1e_52b8_11ec_a41a_acde48001122row23_col3\" class=\"data row23 col3\" >0</td>\n",
       "                        <td id=\"T_2c60de1e_52b8_11ec_a41a_acde48001122row23_col4\" class=\"data row23 col4\" >0</td>\n",
       "                        <td id=\"T_2c60de1e_52b8_11ec_a41a_acde48001122row23_col5\" class=\"data row23 col5\" >4</td>\n",
       "            </tr>\n",
       "            <tr>\n",
       "                        <th id=\"T_2c60de1e_52b8_11ec_a41a_acde48001122level0_row24\" class=\"row_heading level0 row24\" >24</th>\n",
       "                        <td id=\"T_2c60de1e_52b8_11ec_a41a_acde48001122row24_col0\" class=\"data row24 col0\" >West Bengal</td>\n",
       "                        <td id=\"T_2c60de1e_52b8_11ec_a41a_acde48001122row24_col1\" class=\"data row24 col1\" >9</td>\n",
       "                        <td id=\"T_2c60de1e_52b8_11ec_a41a_acde48001122row24_col2\" class=\"data row24 col2\" >0</td>\n",
       "                        <td id=\"T_2c60de1e_52b8_11ec_a41a_acde48001122row24_col3\" class=\"data row24 col3\" >0</td>\n",
       "                        <td id=\"T_2c60de1e_52b8_11ec_a41a_acde48001122row24_col4\" class=\"data row24 col4\" >1</td>\n",
       "                        <td id=\"T_2c60de1e_52b8_11ec_a41a_acde48001122row24_col5\" class=\"data row24 col5\" >9</td>\n",
       "            </tr>\n",
       "    </tbody></table>"
      ],
      "text/plain": [
       "<pandas.io.formats.style.Styler at 0x7fdb6ad6b970>"
      ]
     },
     "execution_count": 5,
     "metadata": {},
     "output_type": "execute_result"
    }
   ],
   "source": [
    "# Highlight dataframe\n",
    "df.style.background_gradient(cmap='Reds')"
   ]
  },
  {
   "cell_type": "markdown",
   "metadata": {
    "colab_type": "text",
    "id": "XAYwGG6ljgcN"
   },
   "source": [
    "**Visualization Inference:** \n",
    "* Manipur and Mizoram reports thier first case. \n",
    "* Kerela has crossed Maharashtra in terms of highest number of confirmed cases.\n",
    "* Haryana and Telengana has the highest count of confirmed Foreign National count.\n",
    "* Till 25th of March 9 people have died in India\n",
    "* Kerala, Maharashtra, and karnataka are currently TOP 3 states with maximum number of confirmed cases"
   ]
  },
  {
   "cell_type": "markdown",
   "metadata": {
    "colab_type": "text",
    "id": "4imKOeZFdhDy"
   },
   "source": [
    "## 1.3 Number of Active COVID-19 Cases In Affected State/Union Territories   "
   ]
  },
  {
   "cell_type": "code",
   "execution_count": 6,
   "metadata": {
    "_kg_hide-input": true,
    "_kg_hide-output": false,
    "colab": {
     "base_uri": "https://localhost:8080/",
     "height": 603
    },
    "colab_type": "code",
    "id": "GPBIP4-mdhD6",
    "outputId": "c3b88136-a746-43d6-d2b5-34544c3ce816"
   },
   "outputs": [
    {
     "name": "stdout",
     "output_type": "stream",
     "text": [
      "Total number of active COVID 2019 cases across India: 512\n"
     ]
    },
    {
     "data": {
      "text/html": [
       "<style  type=\"text/css\" >\n",
       "#T_2c64a95e_52b8_11ec_a41a_acde48001122row0_col0{\n",
       "            background-color:  #67000d;\n",
       "            color:  #f1f1f1;\n",
       "        }#T_2c64a95e_52b8_11ec_a41a_acde48001122row1_col0{\n",
       "            background-color:  #820711;\n",
       "            color:  #f1f1f1;\n",
       "        }#T_2c64a95e_52b8_11ec_a41a_acde48001122row2_col0{\n",
       "            background-color:  #fc9c7d;\n",
       "            color:  #000000;\n",
       "        }#T_2c64a95e_52b8_11ec_a41a_acde48001122row3_col0{\n",
       "            background-color:  #fca588;\n",
       "            color:  #000000;\n",
       "        }#T_2c64a95e_52b8_11ec_a41a_acde48001122row4_col0{\n",
       "            background-color:  #fcab8f;\n",
       "            color:  #000000;\n",
       "        }#T_2c64a95e_52b8_11ec_a41a_acde48001122row5_col0{\n",
       "            background-color:  #fcb69b;\n",
       "            color:  #000000;\n",
       "        }#T_2c64a95e_52b8_11ec_a41a_acde48001122row6_col0{\n",
       "            background-color:  #fcb89e;\n",
       "            color:  #000000;\n",
       "        }#T_2c64a95e_52b8_11ec_a41a_acde48001122row7_col0,#T_2c64a95e_52b8_11ec_a41a_acde48001122row8_col0{\n",
       "            background-color:  #fcc4ad;\n",
       "            color:  #000000;\n",
       "        }#T_2c64a95e_52b8_11ec_a41a_acde48001122row9_col0,#T_2c64a95e_52b8_11ec_a41a_acde48001122row10_col0{\n",
       "            background-color:  #fed8c7;\n",
       "            color:  #000000;\n",
       "        }#T_2c64a95e_52b8_11ec_a41a_acde48001122row11_col0{\n",
       "            background-color:  #fee2d5;\n",
       "            color:  #000000;\n",
       "        }#T_2c64a95e_52b8_11ec_a41a_acde48001122row12_col0,#T_2c64a95e_52b8_11ec_a41a_acde48001122row13_col0{\n",
       "            background-color:  #fee8de;\n",
       "            color:  #000000;\n",
       "        }#T_2c64a95e_52b8_11ec_a41a_acde48001122row14_col0{\n",
       "            background-color:  #feeae0;\n",
       "            color:  #000000;\n",
       "        }#T_2c64a95e_52b8_11ec_a41a_acde48001122row15_col0{\n",
       "            background-color:  #ffece3;\n",
       "            color:  #000000;\n",
       "        }#T_2c64a95e_52b8_11ec_a41a_acde48001122row16_col0{\n",
       "            background-color:  #ffede5;\n",
       "            color:  #000000;\n",
       "        }#T_2c64a95e_52b8_11ec_a41a_acde48001122row17_col0{\n",
       "            background-color:  #fff0e9;\n",
       "            color:  #000000;\n",
       "        }#T_2c64a95e_52b8_11ec_a41a_acde48001122row18_col0,#T_2c64a95e_52b8_11ec_a41a_acde48001122row19_col0,#T_2c64a95e_52b8_11ec_a41a_acde48001122row20_col0{\n",
       "            background-color:  #fff4ee;\n",
       "            color:  #000000;\n",
       "        }#T_2c64a95e_52b8_11ec_a41a_acde48001122row21_col0,#T_2c64a95e_52b8_11ec_a41a_acde48001122row22_col0,#T_2c64a95e_52b8_11ec_a41a_acde48001122row23_col0,#T_2c64a95e_52b8_11ec_a41a_acde48001122row24_col0{\n",
       "            background-color:  #fff5f0;\n",
       "            color:  #000000;\n",
       "        }</style><table id=\"T_2c64a95e_52b8_11ec_a41a_acde48001122\" ><thead>    <tr>        <th class=\"blank level0\" ></th>        <th class=\"col_heading level0 col0\" >Total Active</th>    </tr>    <tr>        <th class=\"index_name level0\" >Name of State / UT</th>        <th class=\"blank\" ></th>    </tr></thead><tbody>\n",
       "                <tr>\n",
       "                        <th id=\"T_2c64a95e_52b8_11ec_a41a_acde48001122level0_row0\" class=\"row_heading level0 row0\" >Kerala</th>\n",
       "                        <td id=\"T_2c64a95e_52b8_11ec_a41a_acde48001122row0_col0\" class=\"data row0 col0\" >105</td>\n",
       "            </tr>\n",
       "            <tr>\n",
       "                        <th id=\"T_2c64a95e_52b8_11ec_a41a_acde48001122level0_row1\" class=\"row_heading level0 row1\" >Maharashtra</th>\n",
       "                        <td id=\"T_2c64a95e_52b8_11ec_a41a_acde48001122row1_col0\" class=\"data row1 col0\" >99</td>\n",
       "            </tr>\n",
       "            <tr>\n",
       "                        <th id=\"T_2c64a95e_52b8_11ec_a41a_acde48001122level0_row2\" class=\"row_heading level0 row2\" >Karnataka</th>\n",
       "                        <td id=\"T_2c64a95e_52b8_11ec_a41a_acde48001122row2_col0\" class=\"data row2 col0\" >37</td>\n",
       "            </tr>\n",
       "            <tr>\n",
       "                        <th id=\"T_2c64a95e_52b8_11ec_a41a_acde48001122level0_row3\" class=\"row_heading level0 row3\" >Telengana</th>\n",
       "                        <td id=\"T_2c64a95e_52b8_11ec_a41a_acde48001122row3_col0\" class=\"data row3 col0\" >34</td>\n",
       "            </tr>\n",
       "            <tr>\n",
       "                        <th id=\"T_2c64a95e_52b8_11ec_a41a_acde48001122level0_row4\" class=\"row_heading level0 row4\" >Gujarat</th>\n",
       "                        <td id=\"T_2c64a95e_52b8_11ec_a41a_acde48001122row4_col0\" class=\"data row4 col0\" >32</td>\n",
       "            </tr>\n",
       "            <tr>\n",
       "                        <th id=\"T_2c64a95e_52b8_11ec_a41a_acde48001122level0_row5\" class=\"row_heading level0 row5\" >Rajasthan</th>\n",
       "                        <td id=\"T_2c64a95e_52b8_11ec_a41a_acde48001122row5_col0\" class=\"data row5 col0\" >29</td>\n",
       "            </tr>\n",
       "            <tr>\n",
       "                        <th id=\"T_2c64a95e_52b8_11ec_a41a_acde48001122level0_row6\" class=\"row_heading level0 row6\" >Punjab</th>\n",
       "                        <td id=\"T_2c64a95e_52b8_11ec_a41a_acde48001122row6_col0\" class=\"data row6 col0\" >28</td>\n",
       "            </tr>\n",
       "            <tr>\n",
       "                        <th id=\"T_2c64a95e_52b8_11ec_a41a_acde48001122level0_row7\" class=\"row_heading level0 row7\" >Uttar Pradesh</th>\n",
       "                        <td id=\"T_2c64a95e_52b8_11ec_a41a_acde48001122row7_col0\" class=\"data row7 col0\" >24</td>\n",
       "            </tr>\n",
       "            <tr>\n",
       "                        <th id=\"T_2c64a95e_52b8_11ec_a41a_acde48001122level0_row8\" class=\"row_heading level0 row8\" >Delhi</th>\n",
       "                        <td id=\"T_2c64a95e_52b8_11ec_a41a_acde48001122row8_col0\" class=\"data row8 col0\" >24</td>\n",
       "            </tr>\n",
       "            <tr>\n",
       "                        <th id=\"T_2c64a95e_52b8_11ec_a41a_acde48001122level0_row9\" class=\"row_heading level0 row9\" >Tamil Nadu</th>\n",
       "                        <td id=\"T_2c64a95e_52b8_11ec_a41a_acde48001122row9_col0\" class=\"data row9 col0\" >17</td>\n",
       "            </tr>\n",
       "            <tr>\n",
       "                        <th id=\"T_2c64a95e_52b8_11ec_a41a_acde48001122level0_row10\" class=\"row_heading level0 row10\" >Haryana</th>\n",
       "                        <td id=\"T_2c64a95e_52b8_11ec_a41a_acde48001122row10_col0\" class=\"data row10 col0\" >17</td>\n",
       "            </tr>\n",
       "            <tr>\n",
       "                        <th id=\"T_2c64a95e_52b8_11ec_a41a_acde48001122level0_row11\" class=\"row_heading level0 row11\" >Ladakh</th>\n",
       "                        <td id=\"T_2c64a95e_52b8_11ec_a41a_acde48001122row11_col0\" class=\"data row11 col0\" >13</td>\n",
       "            </tr>\n",
       "            <tr>\n",
       "                        <th id=\"T_2c64a95e_52b8_11ec_a41a_acde48001122level0_row12\" class=\"row_heading level0 row12\" >Madhya Pradesh</th>\n",
       "                        <td id=\"T_2c64a95e_52b8_11ec_a41a_acde48001122row12_col0\" class=\"data row12 col0\" >9</td>\n",
       "            </tr>\n",
       "            <tr>\n",
       "                        <th id=\"T_2c64a95e_52b8_11ec_a41a_acde48001122level0_row13\" class=\"row_heading level0 row13\" >Andhra Pradesh</th>\n",
       "                        <td id=\"T_2c64a95e_52b8_11ec_a41a_acde48001122row13_col0\" class=\"data row13 col0\" >9</td>\n",
       "            </tr>\n",
       "            <tr>\n",
       "                        <th id=\"T_2c64a95e_52b8_11ec_a41a_acde48001122level0_row14\" class=\"row_heading level0 row14\" >West Bengal</th>\n",
       "                        <td id=\"T_2c64a95e_52b8_11ec_a41a_acde48001122row14_col0\" class=\"data row14 col0\" >8</td>\n",
       "            </tr>\n",
       "            <tr>\n",
       "                        <th id=\"T_2c64a95e_52b8_11ec_a41a_acde48001122level0_row15\" class=\"row_heading level0 row15\" >Chandigarh</th>\n",
       "                        <td id=\"T_2c64a95e_52b8_11ec_a41a_acde48001122row15_col0\" class=\"data row15 col0\" >7</td>\n",
       "            </tr>\n",
       "            <tr>\n",
       "                        <th id=\"T_2c64a95e_52b8_11ec_a41a_acde48001122level0_row16\" class=\"row_heading level0 row16\" >Jammu and Kashmir</th>\n",
       "                        <td id=\"T_2c64a95e_52b8_11ec_a41a_acde48001122row16_col0\" class=\"data row16 col0\" >6</td>\n",
       "            </tr>\n",
       "            <tr>\n",
       "                        <th id=\"T_2c64a95e_52b8_11ec_a41a_acde48001122level0_row17\" class=\"row_heading level0 row17\" >Uttarakhand</th>\n",
       "                        <td id=\"T_2c64a95e_52b8_11ec_a41a_acde48001122row17_col0\" class=\"data row17 col0\" >4</td>\n",
       "            </tr>\n",
       "            <tr>\n",
       "                        <th id=\"T_2c64a95e_52b8_11ec_a41a_acde48001122level0_row18\" class=\"row_heading level0 row18\" >Himachal Pradesh</th>\n",
       "                        <td id=\"T_2c64a95e_52b8_11ec_a41a_acde48001122row18_col0\" class=\"data row18 col0\" >2</td>\n",
       "            </tr>\n",
       "            <tr>\n",
       "                        <th id=\"T_2c64a95e_52b8_11ec_a41a_acde48001122level0_row19\" class=\"row_heading level0 row19\" >Odisha</th>\n",
       "                        <td id=\"T_2c64a95e_52b8_11ec_a41a_acde48001122row19_col0\" class=\"data row19 col0\" >2</td>\n",
       "            </tr>\n",
       "            <tr>\n",
       "                        <th id=\"T_2c64a95e_52b8_11ec_a41a_acde48001122level0_row20\" class=\"row_heading level0 row20\" >Bihar</th>\n",
       "                        <td id=\"T_2c64a95e_52b8_11ec_a41a_acde48001122row20_col0\" class=\"data row20 col0\" >2</td>\n",
       "            </tr>\n",
       "            <tr>\n",
       "                        <th id=\"T_2c64a95e_52b8_11ec_a41a_acde48001122level0_row21\" class=\"row_heading level0 row21\" >Manipur</th>\n",
       "                        <td id=\"T_2c64a95e_52b8_11ec_a41a_acde48001122row21_col0\" class=\"data row21 col0\" >1</td>\n",
       "            </tr>\n",
       "            <tr>\n",
       "                        <th id=\"T_2c64a95e_52b8_11ec_a41a_acde48001122level0_row22\" class=\"row_heading level0 row22\" >Mizoram</th>\n",
       "                        <td id=\"T_2c64a95e_52b8_11ec_a41a_acde48001122row22_col0\" class=\"data row22 col0\" >1</td>\n",
       "            </tr>\n",
       "            <tr>\n",
       "                        <th id=\"T_2c64a95e_52b8_11ec_a41a_acde48001122level0_row23\" class=\"row_heading level0 row23\" >Puducherry</th>\n",
       "                        <td id=\"T_2c64a95e_52b8_11ec_a41a_acde48001122row23_col0\" class=\"data row23 col0\" >1</td>\n",
       "            </tr>\n",
       "            <tr>\n",
       "                        <th id=\"T_2c64a95e_52b8_11ec_a41a_acde48001122level0_row24\" class=\"row_heading level0 row24\" >Chhattisgarh</th>\n",
       "                        <td id=\"T_2c64a95e_52b8_11ec_a41a_acde48001122row24_col0\" class=\"data row24 col0\" >1</td>\n",
       "            </tr>\n",
       "    </tbody></table>"
      ],
      "text/plain": [
       "<pandas.io.formats.style.Styler at 0x7fdb6e493af0>"
      ]
     },
     "execution_count": 6,
     "metadata": {},
     "output_type": "execute_result"
    }
   ],
   "source": [
    "# Total Active  is the Total cases - (Number of death + Cured)\n",
    "df['Total Active'] = df['Total cases'] - (df['Death'] + df['Cured'])\n",
    "total_active = df['Total Active'].sum()\n",
    "print('Total number of active COVID 2019 cases across India:', total_active)\n",
    "Tot_Cases = df.groupby('Name of State / UT')['Total Active'].sum().sort_values(ascending=False).to_frame()\n",
    "Tot_Cases.style.background_gradient(cmap='Reds')"
   ]
  },
  {
   "cell_type": "markdown",
   "metadata": {
    "colab_type": "text",
    "id": "0q44og8xdhE1"
   },
   "source": [
    "## 1.4 Visualizing the Spread Geographically"
   ]
  },
  {
   "cell_type": "code",
   "execution_count": 7,
   "metadata": {
    "_kg_hide-input": true,
    "_kg_hide-output": false,
    "colab": {
     "base_uri": "https://localhost:8080/",
     "height": 583
    },
    "colab_type": "code",
    "id": "d6_6oRNadhE5",
    "outputId": "030dd43a-c2da-46b4-89f9-90f36dbbd6c1"
   },
   "outputs": [
    {
     "data": {
      "text/html": [
       "<div style=\"width:100%;\"><div style=\"position:relative;width:100%;height:0;padding-bottom:60%;\"><span style=\"color:#565656\">Make this Notebook Trusted to load map: File -> Trust Notebook</span><iframe src=\"about:blank\" style=\"position:absolute;width:100%;height:100%;left:0;top:0;border:none !important;\" data-html=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 onload=\"this.contentDocument.open();this.contentDocument.write(atob(this.getAttribute('data-html')));this.contentDocument.close();\" allowfullscreen webkitallowfullscreen mozallowfullscreen></iframe></div></div>"
      ],
      "text/plain": [
       "<folium.folium.Map at 0x7fdb6e4821f0>"
      ]
     },
     "execution_count": 7,
     "metadata": {},
     "output_type": "execute_result"
    }
   ],
   "source": [
    "# Use folium to create a zoomable map\n",
    "df_full = pd.merge(India_coord,df,on='Name of State / UT')\n",
    "map = folium.Map(location=[20, 70], zoom_start=4,tiles='Stamenterrain')\n",
    "\n",
    "for lat, lon, value, name in zip(df_full['Latitude'], df_full['Longitude'], df_full['Total cases'], df_full['Name of State / UT']):\n",
    "    folium.CircleMarker([lat, lon], radius=value*0.8, popup = ('<strong>State</strong>: ' + str(name).capitalize() + '<br>''<strong>Total Cases</strong>: ' + str(value) + '<br>'),color='red',fill_color='red',fill_opacity=0.3 ).add_to(map)\n",
    "map"
   ]
  },
  {
   "cell_type": "markdown",
   "metadata": {
    "colab_type": "text",
    "id": "bl6V3wPkdhFE"
   },
   "source": [
    "## 1.5 Confirmed vs Recovered Figures"
   ]
  },
  {
   "cell_type": "code",
   "execution_count": 8,
   "metadata": {
    "_kg_hide-input": true,
    "_kg_hide-output": false,
    "colab": {
     "base_uri": "https://localhost:8080/",
     "height": 497
    },
    "colab_type": "code",
    "id": "yBavZ1TndhFG",
    "outputId": "45447482-00f0-4d29-e367-8d8a4c4e1a14"
   },
   "outputs": [
    {
     "data": {
      "image/png": "[encoded data removed]",
      "text/plain": [
       "<Figure size 864x576 with 1 Axes>"
      ]
     },
     "metadata": {
      "needs_background": "light"
     },
     "output_type": "display_data"
    }
   ],
   "source": [
    "# Use Seaborn for visualization\n",
    "f, ax = plt.subplots(figsize=(12, 8))\n",
    "data = df_full[['Name of State / UT','Total cases','Cured','Death']]\n",
    "data.sort_values('Total cases',ascending=False,inplace=True)\n",
    "sns.set_color_codes(\"pastel\")\n",
    "sns.barplot(x=\"Total cases\", y=\"Name of State / UT\", data=data,label=\"Total\", color=\"r\")\n",
    "\n",
    "sns.set_color_codes(\"muted\")\n",
    "sns.barplot(x=\"Cured\", y=\"Name of State / UT\", data=data, label=\"Cured\", color=\"g\")\n",
    "\n",
    "\n",
    "# Add a legend and informative axis label\n",
    "ax.legend(ncol=2, loc=\"lower right\", frameon=True)\n",
    "ax.set(xlim=(0, 35), ylabel=\"\",xlabel=\"Cases\")\n",
    "sns.despine(left=True, bottom=True)"
   ]
  },
  {
   "cell_type": "markdown",
   "metadata": {
    "colab_type": "text",
    "id": "8cj9ugfEdhFL"
   },
   "source": [
    "## 1.6 How Are the COVID Cases Rising?"
   ]
  },
  {
   "cell_type": "code",
   "execution_count": 9,
   "metadata": {
    "colab": {},
    "colab_type": "code",
    "id": "ee1EkgweFR3i"
   },
   "outputs": [
    {
     "data": {
      "text/html": [
       "        <script type=\"text/javascript\">\n",
       "        window.PlotlyConfig = {MathJaxConfig: 'local'};\n",
       "        if (window.MathJax) {MathJax.Hub.Config({SVG: {font: \"STIX-Web\"}});}\n",
       "        if (typeof require !== 'undefined') {\n",
       "        require.undef(\"plotly\");\n",
       "        requirejs.config({\n",
       "            paths: {\n",
       "                'plotly': ['https://cdn.plot.ly/plotly-latest.min']\n",
       "            }\n",
       "        });\n",
       "        require(['plotly'], function(Plotly) {\n",
       "            window._Plotly = Plotly;\n",
       "        });\n",
       "        }\n",
       "        </script>\n",
       "        "
      ]
     },
     "metadata": {},
     "output_type": "display_data"
    }
   ],
   "source": [
    "import plotly\n",
    "\n",
    "from plotly.offline import init_notebook_mode,iplot\n",
    "init_notebook_mode(connected=True)\n",
    "\n",
    "plotly.io.renderers.default = 'colab'"
   ]
  },
  {
   "cell_type": "code",
   "execution_count": 10,
   "metadata": {
    "_kg_hide-input": true,
    "_kg_hide-output": false,
    "colab": {
     "base_uri": "https://localhost:8080/",
     "height": 942
    },
    "colab_type": "code",
    "id": "sAu20QbRdhFO",
    "outputId": "33515fc2-9d12-423c-94a3-0554a7675a7b"
   },
   "outputs": [
    {
     "data": {
      "text/plain": [
       "'temp-plot.html'"
      ]
     },
     "execution_count": 10,
     "metadata": {},
     "output_type": "execute_result"
    }
   ],
   "source": [
    "# Create interactive graphs using plotly\n",
    "# import plotly.graph_objects as go\n",
    "# Rise of COVID-19 cases in India\n",
    "plotly.offline.plot({\n",
    "\"data\": [go.Scatter(x=dbd_India['Date'], y = dbd_India['Total Cases'], mode='lines+markers',name='Total Cases')],\n",
    "\"layout\": go.Layout(title_text='Trend of Coronavirus Cases in India (Cumulative cases)',plot_bgcolor='rgb(230, 230, 230)')\n",
    "}, auto_open=True)\n",
    "\n",
    "# New COVID-19 cases reported daily in India\n",
    "\n",
    "# import plotly.express as px\n",
    "# fig = px.bar(dbd_India, x=\"Date\", y=\"New Cases\", barmode='group', height=400)\n",
    "# fig.update_layout(title_text='Coronavirus Cases in India on daily basis',plot_bgcolor='rgb(230, 230, 230)')\n",
    "\n",
    "# fig.show()"
   ]
  },
  {
   "cell_type": "markdown",
   "metadata": {
    "colab_type": "text",
    "id": "7auHzQ1edhFV"
   },
   "source": [
    "# Part 2: Is the Trend Similar to Italy/ S. Korea/ Wuhan?\n"
   ]
  },
  {
   "cell_type": "markdown",
   "metadata": {
    "colab_type": "text",
    "id": "pNymUdqdpLMd"
   },
   "source": [
    "India has already crossed 562 cases. It is very important to contain the situation in the coming 21 days.The numbers of coronavirus patients starting doubling after these countries hit the 100 mark and almost starting increasing exponentially."
   ]
  },
  {
   "cell_type": "markdown",
   "metadata": {
    "colab_type": "text",
    "id": "PfZbFocZdhFh"
   },
   "source": [
    "## 2.1 Cumulative Cases in India, Italy, S. Korea, and Wuhan"
   ]
  },
  {
   "cell_type": "code",
   "execution_count": 11,
   "metadata": {
    "_kg_hide-input": true,
    "_kg_hide-output": false,
    "colab": {
     "base_uri": "https://localhost:8080/",
     "height": 1000
    },
    "colab_type": "code",
    "id": "EhWz417_dhFk",
    "outputId": "691ff722-eb6e-45bc-fc37-b64e6505e2b1"
   },
   "outputs": [
    {
     "data": {
      "text/html": [
       "<html>\n",
       "<head><meta charset=\"utf-8\" /></head>\n",
       "<body>\n",
       "    <div>\n",
       "            <script src=\"https://cdnjs.cloudflare.com/ajax/libs/mathjax/2.7.5/MathJax.js?config=TeX-AMS-MML_SVG\"></script><script type=\"text/javascript\">if (window.MathJax) {MathJax.Hub.Config({SVG: {font: \"STIX-Web\"}});}</script>\n",
       "                <script type=\"text/javascript\">window.PlotlyConfig = {MathJaxConfig: 'local'};</script>\n",
       "        <script src=\"https://cdn.plot.ly/plotly-latest.min.js\"></script>    \n",
       "            <div id=\"d35e1def-b424-4778-85ac-e2a612187160\" class=\"plotly-graph-div\" style=\"height:600px; width:100%;\"></div>\n",
       "            <script type=\"text/javascript\">\n",
       "                \n",
       "                    window.PLOTLYENV=window.PLOTLYENV || {};\n",
       "                    \n",
       "                if (document.getElementById(\"d35e1def-b424-4778-85ac-e2a612187160\")) {\n",
       "                    Plotly.newPlot(\n",
       "                        'd35e1def-b424-4778-85ac-e2a612187160',\n",
       "                        [{\"alignmentgroup\": \"True\", \"hovertemplate\": \"Date=%{x}<br>Total Cases=%{marker.color}<extra></extra>\", \"legendgroup\": \"\", \"marker\": {\"color\": [1, 1, 1, 2, 3, 3, 3, 3, 3, 3, 3, 3, 3, 3, 3, 3, 3, 3, 3, 3, 3, 3, 3, 3, 3, 3, 3, 3, 3, 3, 3, 3, 6, 9, 28, 30, 31, 34, 39, 43, 56, 62, 73, 82, 102, 113, 119, 142, 156, 194, 244, 330, 396, 499, 536, 562], \"coloraxis\": \"coloraxis\"}, \"name\": \"\", \"offsetgroup\": \"\", \"orientation\": \"v\", \"showlegend\": false, \"textposition\": \"auto\", \"type\": \"bar\", \"x\": [\"2020-01-30T00:00:00\", \"2020-01-31T00:00:00\", \"2020-02-01T00:00:00\", \"2020-02-02T00:00:00\", \"2020-02-03T00:00:00\", \"2020-02-04T00:00:00\", \"2020-02-05T00:00:00\", \"2020-02-06T00:00:00\", \"2020-02-07T00:00:00\", \"2020-02-08T00:00:00\", \"2020-02-09T00:00:00\", \"2020-02-10T00:00:00\", \"2020-02-11T00:00:00\", \"2020-02-12T00:00:00\", \"2020-02-13T00:00:00\", \"2020-02-14T00:00:00\", \"2020-02-15T00:00:00\", \"2020-02-16T00:00:00\", \"2020-02-17T00:00:00\", \"2020-02-18T00:00:00\", \"2020-02-19T00:00:00\", \"2020-02-20T00:00:00\", \"2020-02-21T00:00:00\", \"2020-02-22T00:00:00\", \"2020-02-23T00:00:00\", \"2020-02-24T00:00:00\", \"2020-02-25T00:00:00\", \"2020-02-26T00:00:00\", \"2020-02-27T00:00:00\", \"2020-02-28T00:00:00\", \"2020-02-29T00:00:00\", \"2020-03-01T00:00:00\", \"2020-03-02T00:00:00\", \"2020-03-03T00:00:00\", \"2020-03-04T00:00:00\", \"2020-03-05T00:00:00\", \"2020-03-06T00:00:00\", \"2020-03-07T00:00:00\", \"2020-03-08T00:00:00\", \"2020-03-09T00:00:00\", \"2020-03-10T00:00:00\", \"2020-03-11T00:00:00\", \"2020-03-12T00:00:00\", \"2020-03-13T00:00:00\", \"2020-03-14T00:00:00\", \"2020-03-15T00:00:00\", \"2020-03-16T00:00:00\", \"2020-03-17T00:00:00\", \"2020-03-18T00:00:00\", \"2020-03-19T00:00:00\", \"2020-03-20T00:00:00\", \"2020-03-21T00:00:00\", \"2020-03-22T00:00:00\", \"2020-03-23T00:00:00\", \"2020-03-24T00:00:00\", \"2020-03-25T00:00:00\"], \"xaxis\": \"x\", \"y\": [1, 1, 1, 2, 3, 3, 3, 3, 3, 3, 3, 3, 3, 3, 3, 3, 3, 3, 3, 3, 3, 3, 3, 3, 3, 3, 3, 3, 3, 3, 3, 3, 6, 9, 28, 30, 31, 34, 39, 43, 56, 62, 73, 82, 102, 113, 119, 142, 156, 194, 244, 330, 396, 499, 536, 562], \"yaxis\": \"y\"}],\n",
       "                        {\"barmode\": \"relative\", \"coloraxis\": {\"colorbar\": {\"title\": {\"text\": \"Total Cases\"}}, \"colorscale\": [[0.0, \"#0d0887\"], [0.1111111111111111, \"#46039f\"], [0.2222222222222222, \"#7201a8\"], [0.3333333333333333, \"#9c179e\"], [0.4444444444444444, \"#bd3786\"], [0.5555555555555556, \"#d8576b\"], [0.6666666666666666, \"#ed7953\"], [0.7777777777777778, \"#fb9f3a\"], [0.8888888888888888, \"#fdca26\"], [1.0, \"#f0f921\"]]}, \"height\": 600, \"legend\": {\"tracegroupgap\": 0}, \"plot_bgcolor\": \"rgb(230, 230, 230)\", \"template\": {\"data\": {\"bar\": [{\"error_x\": {\"color\": \"#2a3f5f\"}, \"error_y\": {\"color\": \"#2a3f5f\"}, \"marker\": {\"line\": {\"color\": \"#E5ECF6\", \"width\": 0.5}}, \"type\": \"bar\"}], \"barpolar\": [{\"marker\": {\"line\": {\"color\": \"#E5ECF6\", \"width\": 0.5}}, \"type\": \"barpolar\"}], \"carpet\": [{\"aaxis\": {\"endlinecolor\": \"#2a3f5f\", \"gridcolor\": \"white\", \"linecolor\": \"white\", \"minorgridcolor\": \"white\", \"startlinecolor\": \"#2a3f5f\"}, \"baxis\": {\"endlinecolor\": \"#2a3f5f\", \"gridcolor\": \"white\", \"linecolor\": \"white\", \"minorgridcolor\": \"white\", \"startlinecolor\": \"#2a3f5f\"}, \"type\": \"carpet\"}], \"choropleth\": [{\"colorbar\": {\"outlinewidth\": 0, \"ticks\": \"\"}, \"type\": \"choropleth\"}], \"contour\": [{\"colorbar\": {\"outlinewidth\": 0, \"ticks\": \"\"}, \"colorscale\": [[0.0, \"#0d0887\"], [0.1111111111111111, \"#46039f\"], [0.2222222222222222, \"#7201a8\"], [0.3333333333333333, \"#9c179e\"], [0.4444444444444444, \"#bd3786\"], [0.5555555555555556, \"#d8576b\"], [0.6666666666666666, \"#ed7953\"], [0.7777777777777778, \"#fb9f3a\"], [0.8888888888888888, \"#fdca26\"], [1.0, \"#f0f921\"]], \"type\": \"contour\"}], \"contourcarpet\": [{\"colorbar\": {\"outlinewidth\": 0, \"ticks\": \"\"}, \"type\": \"contourcarpet\"}], \"heatmap\": [{\"colorbar\": {\"outlinewidth\": 0, \"ticks\": \"\"}, \"colorscale\": [[0.0, \"#0d0887\"], [0.1111111111111111, \"#46039f\"], [0.2222222222222222, \"#7201a8\"], [0.3333333333333333, \"#9c179e\"], [0.4444444444444444, \"#bd3786\"], [0.5555555555555556, \"#d8576b\"], [0.6666666666666666, \"#ed7953\"], [0.7777777777777778, \"#fb9f3a\"], [0.8888888888888888, \"#fdca26\"], [1.0, \"#f0f921\"]], \"type\": \"heatmap\"}], \"heatmapgl\": [{\"colorbar\": {\"outlinewidth\": 0, \"ticks\": \"\"}, \"colorscale\": [[0.0, \"#0d0887\"], [0.1111111111111111, \"#46039f\"], [0.2222222222222222, \"#7201a8\"], [0.3333333333333333, \"#9c179e\"], [0.4444444444444444, \"#bd3786\"], [0.5555555555555556, \"#d8576b\"], [0.6666666666666666, \"#ed7953\"], [0.7777777777777778, \"#fb9f3a\"], [0.8888888888888888, \"#fdca26\"], [1.0, \"#f0f921\"]], \"type\": \"heatmapgl\"}], \"histogram\": [{\"marker\": {\"colorbar\": {\"outlinewidth\": 0, \"ticks\": \"\"}}, \"type\": \"histogram\"}], \"histogram2d\": [{\"colorbar\": {\"outlinewidth\": 0, \"ticks\": \"\"}, \"colorscale\": [[0.0, \"#0d0887\"], [0.1111111111111111, \"#46039f\"], [0.2222222222222222, \"#7201a8\"], [0.3333333333333333, \"#9c179e\"], [0.4444444444444444, \"#bd3786\"], [0.5555555555555556, \"#d8576b\"], [0.6666666666666666, \"#ed7953\"], [0.7777777777777778, \"#fb9f3a\"], [0.8888888888888888, \"#fdca26\"], [1.0, \"#f0f921\"]], \"type\": \"histogram2d\"}], \"histogram2dcontour\": [{\"colorbar\": {\"outlinewidth\": 0, \"ticks\": \"\"}, \"colorscale\": [[0.0, \"#0d0887\"], [0.1111111111111111, \"#46039f\"], [0.2222222222222222, \"#7201a8\"], [0.3333333333333333, \"#9c179e\"], [0.4444444444444444, \"#bd3786\"], [0.5555555555555556, \"#d8576b\"], [0.6666666666666666, \"#ed7953\"], [0.7777777777777778, \"#fb9f3a\"], [0.8888888888888888, \"#fdca26\"], [1.0, \"#f0f921\"]], \"type\": \"histogram2dcontour\"}], \"mesh3d\": [{\"colorbar\": {\"outlinewidth\": 0, \"ticks\": \"\"}, \"type\": \"mesh3d\"}], \"parcoords\": [{\"line\": {\"colorbar\": {\"outlinewidth\": 0, \"ticks\": \"\"}}, \"type\": \"parcoords\"}], \"pie\": [{\"automargin\": true, \"type\": \"pie\"}], \"scatter\": [{\"marker\": {\"colorbar\": {\"outlinewidth\": 0, \"ticks\": \"\"}}, \"type\": \"scatter\"}], \"scatter3d\": [{\"line\": {\"colorbar\": {\"outlinewidth\": 0, \"ticks\": \"\"}}, \"marker\": {\"colorbar\": {\"outlinewidth\": 0, \"ticks\": \"\"}}, \"type\": \"scatter3d\"}], \"scattercarpet\": [{\"marker\": {\"colorbar\": {\"outlinewidth\": 0, \"ticks\": \"\"}}, \"type\": \"scattercarpet\"}], \"scattergeo\": [{\"marker\": {\"colorbar\": {\"outlinewidth\": 0, \"ticks\": \"\"}}, \"type\": \"scattergeo\"}], \"scattergl\": [{\"marker\": {\"colorbar\": {\"outlinewidth\": 0, \"ticks\": \"\"}}, \"type\": \"scattergl\"}], \"scattermapbox\": [{\"marker\": {\"colorbar\": {\"outlinewidth\": 0, \"ticks\": \"\"}}, \"type\": \"scattermapbox\"}], \"scatterpolar\": [{\"marker\": {\"colorbar\": {\"outlinewidth\": 0, \"ticks\": \"\"}}, \"type\": \"scatterpolar\"}], \"scatterpolargl\": [{\"marker\": {\"colorbar\": {\"outlinewidth\": 0, \"ticks\": \"\"}}, \"type\": \"scatterpolargl\"}], \"scatterternary\": [{\"marker\": {\"colorbar\": {\"outlinewidth\": 0, \"ticks\": \"\"}}, \"type\": \"scatterternary\"}], \"surface\": [{\"colorbar\": {\"outlinewidth\": 0, \"ticks\": \"\"}, \"colorscale\": [[0.0, \"#0d0887\"], [0.1111111111111111, \"#46039f\"], [0.2222222222222222, \"#7201a8\"], [0.3333333333333333, \"#9c179e\"], [0.4444444444444444, \"#bd3786\"], [0.5555555555555556, \"#d8576b\"], [0.6666666666666666, \"#ed7953\"], [0.7777777777777778, \"#fb9f3a\"], [0.8888888888888888, \"#fdca26\"], [1.0, \"#f0f921\"]], \"type\": \"surface\"}], \"table\": [{\"cells\": {\"fill\": {\"color\": \"#EBF0F8\"}, \"line\": {\"color\": \"white\"}}, \"header\": {\"fill\": {\"color\": \"#C8D4E3\"}, \"line\": {\"color\": \"white\"}}, \"type\": \"table\"}]}, \"layout\": {\"annotationdefaults\": {\"arrowcolor\": \"#2a3f5f\", \"arrowhead\": 0, \"arrowwidth\": 1}, \"coloraxis\": {\"colorbar\": {\"outlinewidth\": 0, \"ticks\": \"\"}}, \"colorscale\": {\"diverging\": [[0, \"#8e0152\"], [0.1, \"#c51b7d\"], [0.2, \"#de77ae\"], [0.3, \"#f1b6da\"], [0.4, \"#fde0ef\"], [0.5, \"#f7f7f7\"], [0.6, \"#e6f5d0\"], [0.7, \"#b8e186\"], [0.8, \"#7fbc41\"], [0.9, \"#4d9221\"], [1, \"#276419\"]], \"sequential\": [[0.0, \"#0d0887\"], [0.1111111111111111, \"#46039f\"], [0.2222222222222222, \"#7201a8\"], [0.3333333333333333, \"#9c179e\"], [0.4444444444444444, \"#bd3786\"], [0.5555555555555556, \"#d8576b\"], [0.6666666666666666, \"#ed7953\"], [0.7777777777777778, \"#fb9f3a\"], [0.8888888888888888, \"#fdca26\"], [1.0, \"#f0f921\"]], \"sequentialminus\": [[0.0, \"#0d0887\"], [0.1111111111111111, \"#46039f\"], [0.2222222222222222, \"#7201a8\"], [0.3333333333333333, \"#9c179e\"], [0.4444444444444444, \"#bd3786\"], [0.5555555555555556, \"#d8576b\"], [0.6666666666666666, \"#ed7953\"], [0.7777777777777778, \"#fb9f3a\"], [0.8888888888888888, \"#fdca26\"], [1.0, \"#f0f921\"]]}, \"colorway\": [\"#636efa\", \"#EF553B\", \"#00cc96\", \"#ab63fa\", \"#FFA15A\", \"#19d3f3\", \"#FF6692\", \"#B6E880\", \"#FF97FF\", \"#FECB52\"], \"font\": {\"color\": \"#2a3f5f\"}, \"geo\": {\"bgcolor\": \"white\", \"lakecolor\": \"white\", \"landcolor\": \"#E5ECF6\", \"showlakes\": true, \"showland\": true, \"subunitcolor\": \"white\"}, \"hoverlabel\": {\"align\": \"left\"}, \"hovermode\": \"closest\", \"mapbox\": {\"style\": \"light\"}, \"paper_bgcolor\": \"white\", \"plot_bgcolor\": \"#E5ECF6\", \"polar\": {\"angularaxis\": {\"gridcolor\": \"white\", \"linecolor\": \"white\", \"ticks\": \"\"}, \"bgcolor\": \"#E5ECF6\", \"radialaxis\": {\"gridcolor\": \"white\", \"linecolor\": \"white\", \"ticks\": \"\"}}, \"scene\": {\"xaxis\": {\"backgroundcolor\": \"#E5ECF6\", \"gridcolor\": \"white\", \"gridwidth\": 2, \"linecolor\": \"white\", \"showbackground\": true, \"ticks\": \"\", \"zerolinecolor\": \"white\"}, \"yaxis\": {\"backgroundcolor\": \"#E5ECF6\", \"gridcolor\": \"white\", \"gridwidth\": 2, \"linecolor\": \"white\", \"showbackground\": true, \"ticks\": \"\", \"zerolinecolor\": \"white\"}, \"zaxis\": {\"backgroundcolor\": \"#E5ECF6\", \"gridcolor\": \"white\", \"gridwidth\": 2, \"linecolor\": \"white\", \"showbackground\": true, \"ticks\": \"\", \"zerolinecolor\": \"white\"}}, \"shapedefaults\": {\"line\": {\"color\": \"#2a3f5f\"}}, \"ternary\": {\"aaxis\": {\"gridcolor\": \"white\", \"linecolor\": \"white\", \"ticks\": \"\"}, \"baxis\": {\"gridcolor\": \"white\", \"linecolor\": \"white\", \"ticks\": \"\"}, \"bgcolor\": \"#E5ECF6\", \"caxis\": {\"gridcolor\": \"white\", \"linecolor\": \"white\", \"ticks\": \"\"}}, \"title\": {\"x\": 0.05}, \"xaxis\": {\"automargin\": true, \"gridcolor\": \"white\", \"linecolor\": \"white\", \"ticks\": \"\", \"title\": {\"standoff\": 15}, \"zerolinecolor\": \"white\", \"zerolinewidth\": 2}, \"yaxis\": {\"automargin\": true, \"gridcolor\": \"white\", \"linecolor\": \"white\", \"ticks\": \"\", \"title\": {\"standoff\": 15}, \"zerolinecolor\": \"white\", \"zerolinewidth\": 2}}}, \"title\": {\"text\": \"Confirmed Cases in India\"}, \"xaxis\": {\"anchor\": \"y\", \"domain\": [0.0, 1.0], \"title\": {\"text\": \"Date\"}}, \"yaxis\": {\"anchor\": \"x\", \"domain\": [0.0, 1.0], \"title\": {\"text\": \"Total Cases\"}}},\n",
       "                        {\"responsive\": true}\n",
       "                    ).then(function(){\n",
       "                            \n",
       "var gd = document.getElementById('d35e1def-b424-4778-85ac-e2a612187160');\n",
       "var x = new MutationObserver(function (mutations, observer) {{\n",
       "        var display = window.getComputedStyle(gd).display;\n",
       "        if (!display || display === 'none') {{\n",
       "            console.log([gd, 'removed!']);\n",
       "            Plotly.purge(gd);\n",
       "            observer.disconnect();\n",
       "        }}\n",
       "}});\n",
       "\n",
       "// Listen for the removal of the full notebook cells\n",
       "var notebookContainer = gd.closest('#notebook-container');\n",
       "if (notebookContainer) {{\n",
       "    x.observe(notebookContainer, {childList: true});\n",
       "}}\n",
       "\n",
       "// Listen for the clearing of the current output cell\n",
       "var outputEl = gd.closest('.output');\n",
       "if (outputEl) {{\n",
       "    x.observe(outputEl, {childList: true});\n",
       "}}\n",
       "\n",
       "                        })\n",
       "                };\n",
       "                \n",
       "            </script>\n",
       "        </div>\n",
       "</body>\n",
       "</html>"
      ]
     },
     "metadata": {},
     "output_type": "display_data"
    },
    {
     "data": {
      "text/html": [
       "<html>\n",
       "<head><meta charset=\"utf-8\" /></head>\n",
       "<body>\n",
       "    <div>\n",
       "            <script src=\"https://cdnjs.cloudflare.com/ajax/libs/mathjax/2.7.5/MathJax.js?config=TeX-AMS-MML_SVG\"></script><script type=\"text/javascript\">if (window.MathJax) {MathJax.Hub.Config({SVG: {font: \"STIX-Web\"}});}</script>\n",
       "                <script type=\"text/javascript\">window.PlotlyConfig = {MathJaxConfig: 'local'};</script>\n",
       "        <script src=\"https://cdn.plot.ly/plotly-latest.min.js\"></script>    \n",
       "            <div id=\"917a4a22-8121-4f27-bf59-468c2243727e\" class=\"plotly-graph-div\" style=\"height:600px; width:100%;\"></div>\n",
       "            <script type=\"text/javascript\">\n",
       "                \n",
       "                    window.PLOTLYENV=window.PLOTLYENV || {};\n",
       "                    \n",
       "                if (document.getElementById(\"917a4a22-8121-4f27-bf59-468c2243727e\")) {\n",
       "                    Plotly.newPlot(\n",
       "                        '917a4a22-8121-4f27-bf59-468c2243727e',\n",
       "                        [{\"alignmentgroup\": \"True\", \"hovertemplate\": \"Date=%{x}<br>Total Cases=%{marker.color}<extra></extra>\", \"legendgroup\": \"\", \"marker\": {\"color\": [2, 2, 2, 2, 2, 2, 3, 3, 3, 3, 3, 3, 3, 3, 3, 3, 3, 3, 3, 3, 3, 3, 20, 79, 157, 229, 323, 470, 655, 889, 1128, 1701, 2036, 2502, 3089, 3858, 4636, 5883, 7375, 9172, 10149, 12462, 15113, 17660, 21157, 24747, 27980, 31506, 35713, 41035, 47021, 53578, 59138, 63927, 69176], \"coloraxis\": \"coloraxis\"}, \"name\": \"\", \"offsetgroup\": \"\", \"orientation\": \"v\", \"showlegend\": false, \"textposition\": \"auto\", \"type\": \"bar\", \"x\": [\"2020-01-31T00:00:00\", \"2020-02-01T00:00:00\", \"2020-02-02T00:00:00\", \"2020-02-03T00:00:00\", \"2020-02-04T00:00:00\", \"2020-02-05T00:00:00\", \"2020-02-06T00:00:00\", \"2020-02-07T00:00:00\", \"2020-02-08T00:00:00\", \"2020-02-09T00:00:00\", \"2020-02-10T00:00:00\", \"2020-02-11T00:00:00\", \"2020-02-12T00:00:00\", \"2020-02-13T00:00:00\", \"2020-02-14T00:00:00\", \"2020-02-15T00:00:00\", \"2020-02-15T00:00:00\", \"2020-02-16T00:00:00\", \"2020-02-17T00:00:00\", \"2020-02-18T00:00:00\", \"2020-02-19T00:00:00\", \"2020-02-20T00:00:00\", \"2020-02-21T00:00:00\", \"2020-02-22T00:00:00\", \"2020-02-23T00:00:00\", \"2020-02-24T00:00:00\", \"2020-02-25T00:00:00\", \"2020-02-26T00:00:00\", \"2020-02-27T00:00:00\", \"2020-02-28T00:00:00\", \"2020-02-29T00:00:00\", \"2020-03-01T00:00:00\", \"2020-03-02T00:00:00\", \"2020-03-03T00:00:00\", \"2020-03-04T00:00:00\", \"2020-03-05T00:00:00\", \"2020-03-06T00:00:00\", \"2020-03-07T00:00:00\", \"2020-03-08T00:00:00\", \"2020-03-09T00:00:00\", \"2020-03-10T00:00:00\", \"2020-03-11T00:00:00\", \"2020-03-12T00:00:00\", \"2020-03-13T00:00:00\", \"2020-03-14T00:00:00\", \"2020-03-15T00:00:00\", \"2020-03-16T00:00:00\", \"2020-03-17T00:00:00\", \"2020-03-18T00:00:00\", \"2020-03-19T00:00:00\", \"2020-03-20T00:00:00\", \"2020-03-21T00:00:00\", \"2020-03-22T00:00:00\", \"2020-03-23T00:00:00\", \"2020-03-24T00:00:00\"], \"xaxis\": \"x\", \"y\": [2, 2, 2, 2, 2, 2, 3, 3, 3, 3, 3, 3, 3, 3, 3, 3, 3, 3, 3, 3, 3, 3, 20, 79, 157, 229, 323, 470, 655, 889, 1128, 1701, 2036, 2502, 3089, 3858, 4636, 5883, 7375, 9172, 10149, 12462, 15113, 17660, 21157, 24747, 27980, 31506, 35713, 41035, 47021, 53578, 59138, 63927, 69176], \"yaxis\": \"y\"}],\n",
       "                        {\"barmode\": \"relative\", \"coloraxis\": {\"colorbar\": {\"title\": {\"text\": \"Total Cases\"}}, \"colorscale\": [[0.0, \"#0d0887\"], [0.1111111111111111, \"#46039f\"], [0.2222222222222222, \"#7201a8\"], [0.3333333333333333, \"#9c179e\"], [0.4444444444444444, \"#bd3786\"], [0.5555555555555556, \"#d8576b\"], [0.6666666666666666, \"#ed7953\"], [0.7777777777777778, \"#fb9f3a\"], [0.8888888888888888, \"#fdca26\"], [1.0, \"#f0f921\"]]}, \"height\": 600, \"legend\": {\"tracegroupgap\": 0}, \"plot_bgcolor\": \"rgb(230, 230, 230)\", \"template\": {\"data\": {\"bar\": [{\"error_x\": {\"color\": \"#2a3f5f\"}, \"error_y\": {\"color\": \"#2a3f5f\"}, \"marker\": {\"line\": {\"color\": \"#E5ECF6\", \"width\": 0.5}}, \"type\": \"bar\"}], \"barpolar\": [{\"marker\": {\"line\": {\"color\": \"#E5ECF6\", \"width\": 0.5}}, \"type\": \"barpolar\"}], \"carpet\": [{\"aaxis\": {\"endlinecolor\": \"#2a3f5f\", \"gridcolor\": \"white\", \"linecolor\": \"white\", \"minorgridcolor\": \"white\", \"startlinecolor\": \"#2a3f5f\"}, \"baxis\": {\"endlinecolor\": \"#2a3f5f\", \"gridcolor\": \"white\", \"linecolor\": \"white\", \"minorgridcolor\": \"white\", \"startlinecolor\": \"#2a3f5f\"}, \"type\": \"carpet\"}], \"choropleth\": [{\"colorbar\": {\"outlinewidth\": 0, \"ticks\": \"\"}, \"type\": \"choropleth\"}], \"contour\": [{\"colorbar\": {\"outlinewidth\": 0, \"ticks\": \"\"}, \"colorscale\": [[0.0, \"#0d0887\"], [0.1111111111111111, \"#46039f\"], [0.2222222222222222, \"#7201a8\"], [0.3333333333333333, \"#9c179e\"], [0.4444444444444444, \"#bd3786\"], [0.5555555555555556, \"#d8576b\"], [0.6666666666666666, \"#ed7953\"], [0.7777777777777778, \"#fb9f3a\"], [0.8888888888888888, \"#fdca26\"], [1.0, \"#f0f921\"]], \"type\": \"contour\"}], \"contourcarpet\": [{\"colorbar\": {\"outlinewidth\": 0, \"ticks\": \"\"}, \"type\": \"contourcarpet\"}], \"heatmap\": [{\"colorbar\": {\"outlinewidth\": 0, \"ticks\": \"\"}, \"colorscale\": [[0.0, \"#0d0887\"], [0.1111111111111111, \"#46039f\"], [0.2222222222222222, \"#7201a8\"], [0.3333333333333333, \"#9c179e\"], [0.4444444444444444, \"#bd3786\"], [0.5555555555555556, \"#d8576b\"], [0.6666666666666666, \"#ed7953\"], [0.7777777777777778, \"#fb9f3a\"], [0.8888888888888888, \"#fdca26\"], [1.0, \"#f0f921\"]], \"type\": \"heatmap\"}], \"heatmapgl\": [{\"colorbar\": {\"outlinewidth\": 0, \"ticks\": \"\"}, \"colorscale\": [[0.0, \"#0d0887\"], [0.1111111111111111, \"#46039f\"], [0.2222222222222222, \"#7201a8\"], [0.3333333333333333, \"#9c179e\"], [0.4444444444444444, \"#bd3786\"], [0.5555555555555556, \"#d8576b\"], [0.6666666666666666, \"#ed7953\"], [0.7777777777777778, \"#fb9f3a\"], [0.8888888888888888, \"#fdca26\"], [1.0, \"#f0f921\"]], \"type\": \"heatmapgl\"}], \"histogram\": [{\"marker\": {\"colorbar\": {\"outlinewidth\": 0, \"ticks\": \"\"}}, \"type\": \"histogram\"}], \"histogram2d\": [{\"colorbar\": {\"outlinewidth\": 0, \"ticks\": \"\"}, \"colorscale\": [[0.0, \"#0d0887\"], [0.1111111111111111, \"#46039f\"], [0.2222222222222222, \"#7201a8\"], [0.3333333333333333, \"#9c179e\"], [0.4444444444444444, \"#bd3786\"], [0.5555555555555556, \"#d8576b\"], [0.6666666666666666, \"#ed7953\"], [0.7777777777777778, \"#fb9f3a\"], [0.8888888888888888, \"#fdca26\"], [1.0, \"#f0f921\"]], \"type\": \"histogram2d\"}], \"histogram2dcontour\": [{\"colorbar\": {\"outlinewidth\": 0, \"ticks\": \"\"}, \"colorscale\": [[0.0, \"#0d0887\"], [0.1111111111111111, \"#46039f\"], [0.2222222222222222, \"#7201a8\"], [0.3333333333333333, \"#9c179e\"], [0.4444444444444444, \"#bd3786\"], [0.5555555555555556, \"#d8576b\"], [0.6666666666666666, \"#ed7953\"], [0.7777777777777778, \"#fb9f3a\"], [0.8888888888888888, \"#fdca26\"], [1.0, \"#f0f921\"]], \"type\": \"histogram2dcontour\"}], \"mesh3d\": [{\"colorbar\": {\"outlinewidth\": 0, \"ticks\": \"\"}, \"type\": \"mesh3d\"}], \"parcoords\": [{\"line\": {\"colorbar\": {\"outlinewidth\": 0, \"ticks\": \"\"}}, \"type\": \"parcoords\"}], \"pie\": [{\"automargin\": true, \"type\": \"pie\"}], \"scatter\": [{\"marker\": {\"colorbar\": {\"outlinewidth\": 0, \"ticks\": \"\"}}, \"type\": \"scatter\"}], \"scatter3d\": [{\"line\": {\"colorbar\": {\"outlinewidth\": 0, \"ticks\": \"\"}}, \"marker\": {\"colorbar\": {\"outlinewidth\": 0, \"ticks\": \"\"}}, \"type\": \"scatter3d\"}], \"scattercarpet\": [{\"marker\": {\"colorbar\": {\"outlinewidth\": 0, \"ticks\": \"\"}}, \"type\": \"scattercarpet\"}], \"scattergeo\": [{\"marker\": {\"colorbar\": {\"outlinewidth\": 0, \"ticks\": \"\"}}, \"type\": \"scattergeo\"}], \"scattergl\": [{\"marker\": {\"colorbar\": {\"outlinewidth\": 0, \"ticks\": \"\"}}, \"type\": \"scattergl\"}], \"scattermapbox\": [{\"marker\": {\"colorbar\": {\"outlinewidth\": 0, \"ticks\": \"\"}}, \"type\": \"scattermapbox\"}], \"scatterpolar\": [{\"marker\": {\"colorbar\": {\"outlinewidth\": 0, \"ticks\": \"\"}}, \"type\": \"scatterpolar\"}], \"scatterpolargl\": [{\"marker\": {\"colorbar\": {\"outlinewidth\": 0, \"ticks\": \"\"}}, \"type\": \"scatterpolargl\"}], \"scatterternary\": [{\"marker\": {\"colorbar\": {\"outlinewidth\": 0, \"ticks\": \"\"}}, \"type\": \"scatterternary\"}], \"surface\": [{\"colorbar\": {\"outlinewidth\": 0, \"ticks\": \"\"}, \"colorscale\": [[0.0, \"#0d0887\"], [0.1111111111111111, \"#46039f\"], [0.2222222222222222, \"#7201a8\"], [0.3333333333333333, \"#9c179e\"], [0.4444444444444444, \"#bd3786\"], [0.5555555555555556, \"#d8576b\"], [0.6666666666666666, \"#ed7953\"], [0.7777777777777778, \"#fb9f3a\"], [0.8888888888888888, \"#fdca26\"], [1.0, \"#f0f921\"]], \"type\": \"surface\"}], \"table\": [{\"cells\": {\"fill\": {\"color\": \"#EBF0F8\"}, \"line\": {\"color\": \"white\"}}, \"header\": {\"fill\": {\"color\": \"#C8D4E3\"}, \"line\": {\"color\": \"white\"}}, \"type\": \"table\"}]}, \"layout\": {\"annotationdefaults\": {\"arrowcolor\": \"#2a3f5f\", \"arrowhead\": 0, \"arrowwidth\": 1}, \"coloraxis\": {\"colorbar\": {\"outlinewidth\": 0, \"ticks\": \"\"}}, \"colorscale\": {\"diverging\": [[0, \"#8e0152\"], [0.1, \"#c51b7d\"], [0.2, \"#de77ae\"], [0.3, \"#f1b6da\"], [0.4, \"#fde0ef\"], [0.5, \"#f7f7f7\"], [0.6, \"#e6f5d0\"], [0.7, \"#b8e186\"], [0.8, \"#7fbc41\"], [0.9, \"#4d9221\"], [1, \"#276419\"]], \"sequential\": [[0.0, \"#0d0887\"], [0.1111111111111111, \"#46039f\"], [0.2222222222222222, \"#7201a8\"], [0.3333333333333333, \"#9c179e\"], [0.4444444444444444, \"#bd3786\"], [0.5555555555555556, \"#d8576b\"], [0.6666666666666666, \"#ed7953\"], [0.7777777777777778, \"#fb9f3a\"], [0.8888888888888888, \"#fdca26\"], [1.0, \"#f0f921\"]], \"sequentialminus\": [[0.0, \"#0d0887\"], [0.1111111111111111, \"#46039f\"], [0.2222222222222222, \"#7201a8\"], [0.3333333333333333, \"#9c179e\"], [0.4444444444444444, \"#bd3786\"], [0.5555555555555556, \"#d8576b\"], [0.6666666666666666, \"#ed7953\"], [0.7777777777777778, \"#fb9f3a\"], [0.8888888888888888, \"#fdca26\"], [1.0, \"#f0f921\"]]}, \"colorway\": [\"#636efa\", \"#EF553B\", \"#00cc96\", \"#ab63fa\", \"#FFA15A\", \"#19d3f3\", \"#FF6692\", \"#B6E880\", \"#FF97FF\", \"#FECB52\"], \"font\": {\"color\": \"#2a3f5f\"}, \"geo\": {\"bgcolor\": \"white\", \"lakecolor\": \"white\", \"landcolor\": \"#E5ECF6\", \"showlakes\": true, \"showland\": true, \"subunitcolor\": \"white\"}, \"hoverlabel\": {\"align\": \"left\"}, \"hovermode\": \"closest\", \"mapbox\": {\"style\": \"light\"}, \"paper_bgcolor\": \"white\", \"plot_bgcolor\": \"#E5ECF6\", \"polar\": {\"angularaxis\": {\"gridcolor\": \"white\", \"linecolor\": \"white\", \"ticks\": \"\"}, \"bgcolor\": \"#E5ECF6\", \"radialaxis\": {\"gridcolor\": \"white\", \"linecolor\": \"white\", \"ticks\": \"\"}}, \"scene\": {\"xaxis\": {\"backgroundcolor\": \"#E5ECF6\", \"gridcolor\": \"white\", \"gridwidth\": 2, \"linecolor\": \"white\", \"showbackground\": true, \"ticks\": \"\", \"zerolinecolor\": \"white\"}, \"yaxis\": {\"backgroundcolor\": \"#E5ECF6\", \"gridcolor\": \"white\", \"gridwidth\": 2, \"linecolor\": \"white\", \"showbackground\": true, \"ticks\": \"\", \"zerolinecolor\": \"white\"}, \"zaxis\": {\"backgroundcolor\": \"#E5ECF6\", \"gridcolor\": \"white\", \"gridwidth\": 2, \"linecolor\": \"white\", \"showbackground\": true, \"ticks\": \"\", \"zerolinecolor\": \"white\"}}, \"shapedefaults\": {\"line\": {\"color\": \"#2a3f5f\"}}, \"ternary\": {\"aaxis\": {\"gridcolor\": \"white\", \"linecolor\": \"white\", \"ticks\": \"\"}, \"baxis\": {\"gridcolor\": \"white\", \"linecolor\": \"white\", \"ticks\": \"\"}, \"bgcolor\": \"#E5ECF6\", \"caxis\": {\"gridcolor\": \"white\", \"linecolor\": \"white\", \"ticks\": \"\"}}, \"title\": {\"x\": 0.05}, \"xaxis\": {\"automargin\": true, \"gridcolor\": \"white\", \"linecolor\": \"white\", \"ticks\": \"\", \"title\": {\"standoff\": 15}, \"zerolinecolor\": \"white\", \"zerolinewidth\": 2}, \"yaxis\": {\"automargin\": true, \"gridcolor\": \"white\", \"linecolor\": \"white\", \"ticks\": \"\", \"title\": {\"standoff\": 15}, \"zerolinecolor\": \"white\", \"zerolinewidth\": 2}}}, \"title\": {\"text\": \"Confirmed Cases in Italy\"}, \"xaxis\": {\"anchor\": \"y\", \"domain\": [0.0, 1.0], \"title\": {\"text\": \"Date\"}}, \"yaxis\": {\"anchor\": \"x\", \"domain\": [0.0, 1.0], \"title\": {\"text\": \"Total Cases\"}}},\n",
       "                        {\"responsive\": true}\n",
       "                    ).then(function(){\n",
       "                            \n",
       "var gd = document.getElementById('917a4a22-8121-4f27-bf59-468c2243727e');\n",
       "var x = new MutationObserver(function (mutations, observer) {{\n",
       "        var display = window.getComputedStyle(gd).display;\n",
       "        if (!display || display === 'none') {{\n",
       "            console.log([gd, 'removed!']);\n",
       "            Plotly.purge(gd);\n",
       "            observer.disconnect();\n",
       "        }}\n",
       "}});\n",
       "\n",
       "// Listen for the removal of the full notebook cells\n",
       "var notebookContainer = gd.closest('#notebook-container');\n",
       "if (notebookContainer) {{\n",
       "    x.observe(notebookContainer, {childList: true});\n",
       "}}\n",
       "\n",
       "// Listen for the clearing of the current output cell\n",
       "var outputEl = gd.closest('.output');\n",
       "if (outputEl) {{\n",
       "    x.observe(outputEl, {childList: true});\n",
       "}}\n",
       "\n",
       "                        })\n",
       "                };\n",
       "                \n",
       "            </script>\n",
       "        </div>\n",
       "</body>\n",
       "</html>"
      ]
     },
     "metadata": {},
     "output_type": "display_data"
    },
    {
     "data": {
      "text/html": [
       "<html>\n",
       "<head><meta charset=\"utf-8\" /></head>\n",
       "<body>\n",
       "    <div>\n",
       "            <script src=\"https://cdnjs.cloudflare.com/ajax/libs/mathjax/2.7.5/MathJax.js?config=TeX-AMS-MML_SVG\"></script><script type=\"text/javascript\">if (window.MathJax) {MathJax.Hub.Config({SVG: {font: \"STIX-Web\"}});}</script>\n",
       "                <script type=\"text/javascript\">window.PlotlyConfig = {MathJaxConfig: 'local'};</script>\n",
       "        <script src=\"https://cdn.plot.ly/plotly-latest.min.js\"></script>    \n",
       "            <div id=\"f10c7a27-408d-4604-b7f1-de96a5ca1e51\" class=\"plotly-graph-div\" style=\"height:600px; width:100%;\"></div>\n",
       "            <script type=\"text/javascript\">\n",
       "                \n",
       "                    window.PLOTLYENV=window.PLOTLYENV || {};\n",
       "                    \n",
       "                if (document.getElementById(\"f10c7a27-408d-4604-b7f1-de96a5ca1e51\")) {\n",
       "                    Plotly.newPlot(\n",
       "                        'f10c7a27-408d-4604-b7f1-de96a5ca1e51',\n",
       "                        [{\"alignmentgroup\": \"True\", \"hovertemplate\": \"Date=%{x}<br>Total Cases=%{marker.color}<extra></extra>\", \"legendgroup\": \"\", \"marker\": {\"color\": [1, 1, 1, 1, 2, 2, 3, 4, 4, 4, 6, 11, 12, 15, 15, 16, 19, 23, 24, 24, 27, 27, 28, 28, 28, 28, 28, 29, 30, 31, 58, 111, 209, 436, 602, 833, 977, 1261, 1766, 2337, 3150, 3736, 4335, 5186, 5621, 6284, 6593, 7041, 7313, 7478, 7513, 7755, 7869, 7979, 8086, 8162, 8236, 8320, 8413, 8565, 8652, 8799, 8961, 8961, 9037], \"coloraxis\": \"coloraxis\"}, \"name\": \"\", \"offsetgroup\": \"\", \"orientation\": \"v\", \"showlegend\": false, \"textposition\": \"auto\", \"type\": \"bar\", \"x\": [\"2020-01-20T00:00:00\", \"2020-01-21T00:00:00\", \"2020-01-22T00:00:00\", \"2020-01-23T00:00:00\", \"2020-01-24T00:00:00\", \"2020-01-25T00:00:00\", \"2020-01-26T00:00:00\", \"2020-01-27T00:00:00\", \"2020-01-28T00:00:00\", \"2020-01-29T00:00:00\", \"2020-01-30T00:00:00\", \"2020-01-31T00:00:00\", \"2020-02-01T00:00:00\", \"2020-02-02T00:00:00\", \"2020-02-03T00:00:00\", \"2020-02-04T00:00:00\", \"2020-02-05T00:00:00\", \"2020-02-06T00:00:00\", \"2020-02-07T00:00:00\", \"2020-02-08T00:00:00\", \"2020-02-09T00:00:00\", \"2020-02-10T00:00:00\", \"2020-02-11T00:00:00\", \"2020-02-12T00:00:00\", \"2020-02-13T00:00:00\", \"2020-02-14T00:00:00\", \"2020-02-15T00:00:00\", \"2020-02-16T00:00:00\", \"2020-02-17T00:00:00\", \"2020-02-18T00:00:00\", \"2020-02-19T00:00:00\", \"2020-02-20T00:00:00\", \"2020-02-21T00:00:00\", \"2020-02-22T00:00:00\", \"2020-02-23T00:00:00\", \"2020-02-24T00:00:00\", \"2020-02-25T00:00:00\", \"2020-02-26T00:00:00\", \"2020-02-27T00:00:00\", \"2020-02-28T00:00:00\", \"2020-02-29T00:00:00\", \"2020-03-01T00:00:00\", \"2020-03-02T00:00:00\", \"2020-03-03T00:00:00\", \"2020-03-04T00:00:00\", \"2020-03-05T00:00:00\", \"2020-03-06T00:00:00\", \"2020-03-07T00:00:00\", \"2020-03-08T00:00:00\", \"2020-03-09T00:00:00\", \"2020-03-10T00:00:00\", \"2020-03-11T00:00:00\", \"2020-03-12T00:00:00\", \"2020-03-13T00:00:00\", \"2020-03-14T00:00:00\", \"2020-03-15T00:00:00\", \"2020-03-16T00:00:00\", \"2020-03-17T00:00:00\", \"2020-03-18T00:00:00\", \"2020-03-19T00:00:00\", \"2020-03-20T00:00:00\", \"2020-03-21T00:00:00\", \"2020-03-22T00:00:00\", \"2020-03-23T00:00:00\", \"2020-03-24T00:00:00\"], \"xaxis\": \"x\", \"y\": [1, 1, 1, 1, 2, 2, 3, 4, 4, 4, 6, 11, 12, 15, 15, 16, 19, 23, 24, 24, 27, 27, 28, 28, 28, 28, 28, 29, 30, 31, 58, 111, 209, 436, 602, 833, 977, 1261, 1766, 2337, 3150, 3736, 4335, 5186, 5621, 6284, 6593, 7041, 7313, 7478, 7513, 7755, 7869, 7979, 8086, 8162, 8236, 8320, 8413, 8565, 8652, 8799, 8961, 8961, 9037], \"yaxis\": \"y\"}],\n",
       "                        {\"barmode\": \"relative\", \"coloraxis\": {\"colorbar\": {\"title\": {\"text\": \"Total Cases\"}}, \"colorscale\": [[0.0, \"#0d0887\"], [0.1111111111111111, \"#46039f\"], [0.2222222222222222, \"#7201a8\"], [0.3333333333333333, \"#9c179e\"], [0.4444444444444444, \"#bd3786\"], [0.5555555555555556, \"#d8576b\"], [0.6666666666666666, \"#ed7953\"], [0.7777777777777778, \"#fb9f3a\"], [0.8888888888888888, \"#fdca26\"], [1.0, \"#f0f921\"]]}, \"height\": 600, \"legend\": {\"tracegroupgap\": 0}, \"plot_bgcolor\": \"rgb(230, 230, 230)\", \"template\": {\"data\": {\"bar\": [{\"error_x\": {\"color\": \"#2a3f5f\"}, \"error_y\": {\"color\": \"#2a3f5f\"}, \"marker\": {\"line\": {\"color\": \"#E5ECF6\", \"width\": 0.5}}, \"type\": \"bar\"}], \"barpolar\": [{\"marker\": {\"line\": {\"color\": \"#E5ECF6\", \"width\": 0.5}}, \"type\": \"barpolar\"}], \"carpet\": [{\"aaxis\": {\"endlinecolor\": \"#2a3f5f\", \"gridcolor\": \"white\", \"linecolor\": \"white\", \"minorgridcolor\": \"white\", \"startlinecolor\": \"#2a3f5f\"}, \"baxis\": {\"endlinecolor\": \"#2a3f5f\", \"gridcolor\": \"white\", \"linecolor\": \"white\", \"minorgridcolor\": \"white\", \"startlinecolor\": \"#2a3f5f\"}, \"type\": \"carpet\"}], \"choropleth\": [{\"colorbar\": {\"outlinewidth\": 0, \"ticks\": \"\"}, \"type\": \"choropleth\"}], \"contour\": [{\"colorbar\": {\"outlinewidth\": 0, \"ticks\": \"\"}, \"colorscale\": [[0.0, \"#0d0887\"], [0.1111111111111111, \"#46039f\"], [0.2222222222222222, \"#7201a8\"], [0.3333333333333333, \"#9c179e\"], [0.4444444444444444, \"#bd3786\"], [0.5555555555555556, \"#d8576b\"], [0.6666666666666666, \"#ed7953\"], [0.7777777777777778, \"#fb9f3a\"], [0.8888888888888888, \"#fdca26\"], [1.0, \"#f0f921\"]], \"type\": \"contour\"}], \"contourcarpet\": [{\"colorbar\": {\"outlinewidth\": 0, \"ticks\": \"\"}, \"type\": \"contourcarpet\"}], \"heatmap\": [{\"colorbar\": {\"outlinewidth\": 0, \"ticks\": \"\"}, \"colorscale\": [[0.0, \"#0d0887\"], [0.1111111111111111, \"#46039f\"], [0.2222222222222222, \"#7201a8\"], [0.3333333333333333, \"#9c179e\"], [0.4444444444444444, \"#bd3786\"], [0.5555555555555556, \"#d8576b\"], [0.6666666666666666, \"#ed7953\"], [0.7777777777777778, \"#fb9f3a\"], [0.8888888888888888, \"#fdca26\"], [1.0, \"#f0f921\"]], \"type\": \"heatmap\"}], \"heatmapgl\": [{\"colorbar\": {\"outlinewidth\": 0, \"ticks\": \"\"}, \"colorscale\": [[0.0, \"#0d0887\"], [0.1111111111111111, \"#46039f\"], [0.2222222222222222, \"#7201a8\"], [0.3333333333333333, \"#9c179e\"], [0.4444444444444444, \"#bd3786\"], [0.5555555555555556, \"#d8576b\"], [0.6666666666666666, \"#ed7953\"], [0.7777777777777778, \"#fb9f3a\"], [0.8888888888888888, \"#fdca26\"], [1.0, \"#f0f921\"]], \"type\": \"heatmapgl\"}], \"histogram\": [{\"marker\": {\"colorbar\": {\"outlinewidth\": 0, \"ticks\": \"\"}}, \"type\": \"histogram\"}], \"histogram2d\": [{\"colorbar\": {\"outlinewidth\": 0, \"ticks\": \"\"}, \"colorscale\": [[0.0, \"#0d0887\"], [0.1111111111111111, \"#46039f\"], [0.2222222222222222, \"#7201a8\"], [0.3333333333333333, \"#9c179e\"], [0.4444444444444444, \"#bd3786\"], [0.5555555555555556, \"#d8576b\"], [0.6666666666666666, \"#ed7953\"], [0.7777777777777778, \"#fb9f3a\"], [0.8888888888888888, \"#fdca26\"], [1.0, \"#f0f921\"]], \"type\": \"histogram2d\"}], \"histogram2dcontour\": [{\"colorbar\": {\"outlinewidth\": 0, \"ticks\": \"\"}, \"colorscale\": [[0.0, \"#0d0887\"], [0.1111111111111111, \"#46039f\"], [0.2222222222222222, \"#7201a8\"], [0.3333333333333333, \"#9c179e\"], [0.4444444444444444, \"#bd3786\"], [0.5555555555555556, \"#d8576b\"], [0.6666666666666666, \"#ed7953\"], [0.7777777777777778, \"#fb9f3a\"], [0.8888888888888888, \"#fdca26\"], [1.0, \"#f0f921\"]], \"type\": \"histogram2dcontour\"}], \"mesh3d\": [{\"colorbar\": {\"outlinewidth\": 0, \"ticks\": \"\"}, \"type\": \"mesh3d\"}], \"parcoords\": [{\"line\": {\"colorbar\": {\"outlinewidth\": 0, \"ticks\": \"\"}}, \"type\": \"parcoords\"}], \"pie\": [{\"automargin\": true, \"type\": \"pie\"}], \"scatter\": [{\"marker\": {\"colorbar\": {\"outlinewidth\": 0, \"ticks\": \"\"}}, \"type\": \"scatter\"}], \"scatter3d\": [{\"line\": {\"colorbar\": {\"outlinewidth\": 0, \"ticks\": \"\"}}, \"marker\": {\"colorbar\": {\"outlinewidth\": 0, \"ticks\": \"\"}}, \"type\": \"scatter3d\"}], \"scattercarpet\": [{\"marker\": {\"colorbar\": {\"outlinewidth\": 0, \"ticks\": \"\"}}, \"type\": \"scattercarpet\"}], \"scattergeo\": [{\"marker\": {\"colorbar\": {\"outlinewidth\": 0, \"ticks\": \"\"}}, \"type\": \"scattergeo\"}], \"scattergl\": [{\"marker\": {\"colorbar\": {\"outlinewidth\": 0, \"ticks\": \"\"}}, \"type\": \"scattergl\"}], \"scattermapbox\": [{\"marker\": {\"colorbar\": {\"outlinewidth\": 0, \"ticks\": \"\"}}, \"type\": \"scattermapbox\"}], \"scatterpolar\": [{\"marker\": {\"colorbar\": {\"outlinewidth\": 0, \"ticks\": \"\"}}, \"type\": \"scatterpolar\"}], \"scatterpolargl\": [{\"marker\": {\"colorbar\": {\"outlinewidth\": 0, \"ticks\": \"\"}}, \"type\": \"scatterpolargl\"}], \"scatterternary\": [{\"marker\": {\"colorbar\": {\"outlinewidth\": 0, \"ticks\": \"\"}}, \"type\": \"scatterternary\"}], \"surface\": [{\"colorbar\": {\"outlinewidth\": 0, \"ticks\": \"\"}, \"colorscale\": [[0.0, \"#0d0887\"], [0.1111111111111111, \"#46039f\"], [0.2222222222222222, \"#7201a8\"], [0.3333333333333333, \"#9c179e\"], [0.4444444444444444, \"#bd3786\"], [0.5555555555555556, \"#d8576b\"], [0.6666666666666666, \"#ed7953\"], [0.7777777777777778, \"#fb9f3a\"], [0.8888888888888888, \"#fdca26\"], [1.0, \"#f0f921\"]], \"type\": \"surface\"}], \"table\": [{\"cells\": {\"fill\": {\"color\": \"#EBF0F8\"}, \"line\": {\"color\": \"white\"}}, \"header\": {\"fill\": {\"color\": \"#C8D4E3\"}, \"line\": {\"color\": \"white\"}}, \"type\": \"table\"}]}, \"layout\": {\"annotationdefaults\": {\"arrowcolor\": \"#2a3f5f\", \"arrowhead\": 0, \"arrowwidth\": 1}, \"coloraxis\": {\"colorbar\": {\"outlinewidth\": 0, \"ticks\": \"\"}}, \"colorscale\": {\"diverging\": [[0, \"#8e0152\"], [0.1, \"#c51b7d\"], [0.2, \"#de77ae\"], [0.3, \"#f1b6da\"], [0.4, \"#fde0ef\"], [0.5, \"#f7f7f7\"], [0.6, \"#e6f5d0\"], [0.7, \"#b8e186\"], [0.8, \"#7fbc41\"], [0.9, \"#4d9221\"], [1, \"#276419\"]], \"sequential\": [[0.0, \"#0d0887\"], [0.1111111111111111, \"#46039f\"], [0.2222222222222222, \"#7201a8\"], [0.3333333333333333, \"#9c179e\"], [0.4444444444444444, \"#bd3786\"], [0.5555555555555556, \"#d8576b\"], [0.6666666666666666, \"#ed7953\"], [0.7777777777777778, \"#fb9f3a\"], [0.8888888888888888, \"#fdca26\"], [1.0, \"#f0f921\"]], \"sequentialminus\": [[0.0, \"#0d0887\"], [0.1111111111111111, \"#46039f\"], [0.2222222222222222, \"#7201a8\"], [0.3333333333333333, \"#9c179e\"], [0.4444444444444444, \"#bd3786\"], [0.5555555555555556, \"#d8576b\"], [0.6666666666666666, \"#ed7953\"], [0.7777777777777778, \"#fb9f3a\"], [0.8888888888888888, \"#fdca26\"], [1.0, \"#f0f921\"]]}, \"colorway\": [\"#636efa\", \"#EF553B\", \"#00cc96\", \"#ab63fa\", \"#FFA15A\", \"#19d3f3\", \"#FF6692\", \"#B6E880\", \"#FF97FF\", \"#FECB52\"], \"font\": {\"color\": \"#2a3f5f\"}, \"geo\": {\"bgcolor\": \"white\", \"lakecolor\": \"white\", \"landcolor\": \"#E5ECF6\", \"showlakes\": true, \"showland\": true, \"subunitcolor\": \"white\"}, \"hoverlabel\": {\"align\": \"left\"}, \"hovermode\": \"closest\", \"mapbox\": {\"style\": \"light\"}, \"paper_bgcolor\": \"white\", \"plot_bgcolor\": \"#E5ECF6\", \"polar\": {\"angularaxis\": {\"gridcolor\": \"white\", \"linecolor\": \"white\", \"ticks\": \"\"}, \"bgcolor\": \"#E5ECF6\", \"radialaxis\": {\"gridcolor\": \"white\", \"linecolor\": \"white\", \"ticks\": \"\"}}, \"scene\": {\"xaxis\": {\"backgroundcolor\": \"#E5ECF6\", \"gridcolor\": \"white\", \"gridwidth\": 2, \"linecolor\": \"white\", \"showbackground\": true, \"ticks\": \"\", \"zerolinecolor\": \"white\"}, \"yaxis\": {\"backgroundcolor\": \"#E5ECF6\", \"gridcolor\": \"white\", \"gridwidth\": 2, \"linecolor\": \"white\", \"showbackground\": true, \"ticks\": \"\", \"zerolinecolor\": \"white\"}, \"zaxis\": {\"backgroundcolor\": \"#E5ECF6\", \"gridcolor\": \"white\", \"gridwidth\": 2, \"linecolor\": \"white\", \"showbackground\": true, \"ticks\": \"\", \"zerolinecolor\": \"white\"}}, \"shapedefaults\": {\"line\": {\"color\": \"#2a3f5f\"}}, \"ternary\": {\"aaxis\": {\"gridcolor\": \"white\", \"linecolor\": \"white\", \"ticks\": \"\"}, \"baxis\": {\"gridcolor\": \"white\", \"linecolor\": \"white\", \"ticks\": \"\"}, \"bgcolor\": \"#E5ECF6\", \"caxis\": {\"gridcolor\": \"white\", \"linecolor\": \"white\", \"ticks\": \"\"}}, \"title\": {\"x\": 0.05}, \"xaxis\": {\"automargin\": true, \"gridcolor\": \"white\", \"linecolor\": \"white\", \"ticks\": \"\", \"title\": {\"standoff\": 15}, \"zerolinecolor\": \"white\", \"zerolinewidth\": 2}, \"yaxis\": {\"automargin\": true, \"gridcolor\": \"white\", \"linecolor\": \"white\", \"ticks\": \"\", \"title\": {\"standoff\": 15}, \"zerolinecolor\": \"white\", \"zerolinewidth\": 2}}}, \"title\": {\"text\": \"Confirmed Cases in South Korea\"}, \"xaxis\": {\"anchor\": \"y\", \"domain\": [0.0, 1.0], \"title\": {\"text\": \"Date\"}}, \"yaxis\": {\"anchor\": \"x\", \"domain\": [0.0, 1.0], \"title\": {\"text\": \"Total Cases\"}}},\n",
       "                        {\"responsive\": true}\n",
       "                    ).then(function(){\n",
       "                            \n",
       "var gd = document.getElementById('f10c7a27-408d-4604-b7f1-de96a5ca1e51');\n",
       "var x = new MutationObserver(function (mutations, observer) {{\n",
       "        var display = window.getComputedStyle(gd).display;\n",
       "        if (!display || display === 'none') {{\n",
       "            console.log([gd, 'removed!']);\n",
       "            Plotly.purge(gd);\n",
       "            observer.disconnect();\n",
       "        }}\n",
       "}});\n",
       "\n",
       "// Listen for the removal of the full notebook cells\n",
       "var notebookContainer = gd.closest('#notebook-container');\n",
       "if (notebookContainer) {{\n",
       "    x.observe(notebookContainer, {childList: true});\n",
       "}}\n",
       "\n",
       "// Listen for the clearing of the current output cell\n",
       "var outputEl = gd.closest('.output');\n",
       "if (outputEl) {{\n",
       "    x.observe(outputEl, {childList: true});\n",
       "}}\n",
       "\n",
       "                        })\n",
       "                };\n",
       "                \n",
       "            </script>\n",
       "        </div>\n",
       "</body>\n",
       "</html>"
      ]
     },
     "metadata": {},
     "output_type": "display_data"
    },
    {
     "data": {
      "text/html": [
       "<html>\n",
       "<head><meta charset=\"utf-8\" /></head>\n",
       "<body>\n",
       "    <div>\n",
       "            <script src=\"https://cdnjs.cloudflare.com/ajax/libs/mathjax/2.7.5/MathJax.js?config=TeX-AMS-MML_SVG\"></script><script type=\"text/javascript\">if (window.MathJax) {MathJax.Hub.Config({SVG: {font: \"STIX-Web\"}});}</script>\n",
       "                <script type=\"text/javascript\">window.PlotlyConfig = {MathJaxConfig: 'local'};</script>\n",
       "        <script src=\"https://cdn.plot.ly/plotly-latest.min.js\"></script>    \n",
       "            <div id=\"caf7128c-b4d5-4e05-b639-c121a515d07a\" class=\"plotly-graph-div\" style=\"height:600px; width:100%;\"></div>\n",
       "            <script type=\"text/javascript\">\n",
       "                \n",
       "                    window.PLOTLYENV=window.PLOTLYENV || {};\n",
       "                    \n",
       "                if (document.getElementById(\"caf7128c-b4d5-4e05-b639-c121a515d07a\")) {\n",
       "                    Plotly.newPlot(\n",
       "                        'caf7128c-b4d5-4e05-b639-c121a515d07a',\n",
       "                        [{\"alignmentgroup\": \"True\", \"hovertemplate\": \"Date=%{x}<br>Total Cases=%{marker.color}<extra></extra>\", \"legendgroup\": \"\", \"marker\": {\"color\": [444, 444, 549, 761, 1058, 1423, 3554, 3554, 4903, 5806, 7153, 11177, 13522, 16678, 19665, 22112, 24953, 27100, 29631, 31728, 33366, 33366, 48206, 54406, 56249, 58182, 59989, 61682, 62031, 62442, 62662, 64084, 64084, 64287, 64786, 65187, 65596, 65914, 66337, 66907, 67103, 67217, 67332, 67466, 67592, 67666, 67707, 67743, 67760, 67773, 67781, 67786, 67790, 67794, 67798, 67799, 67800, 67800, 67800, 67800, 67800, 67800, 67801], \"coloraxis\": \"coloraxis\"}, \"name\": \"\", \"offsetgroup\": \"\", \"orientation\": \"v\", \"showlegend\": false, \"textposition\": \"auto\", \"type\": \"bar\", \"x\": [\"2020-01-22T00:00:00\", \"2020-01-23T00:00:00\", \"2020-01-24T00:00:00\", \"2020-01-25T00:00:00\", \"2020-01-26T00:00:00\", \"2020-01-27T00:00:00\", \"2020-01-28T00:00:00\", \"2020-01-29T00:00:00\", \"2020-01-30T00:00:00\", \"2020-01-31T00:00:00\", \"2020-01-02T00:00:00\", \"2020-02-02T00:00:00\", \"2020-02-03T00:00:00\", \"2020-02-04T00:00:00\", \"2020-02-05T00:00:00\", \"2020-02-06T00:00:00\", \"2020-02-07T00:00:00\", \"2020-02-08T00:00:00\", \"2020-02-09T00:00:00\", \"2020-02-10T00:00:00\", \"2020-02-11T00:00:00\", \"2020-02-12T00:00:00\", \"2020-02-13T00:00:00\", \"2020-02-14T00:00:00\", \"2020-02-15T00:00:00\", \"2020-02-16T00:00:00\", \"2020-02-17T00:00:00\", \"2020-02-18T00:00:00\", \"2020-02-19T00:00:00\", \"2020-02-20T00:00:00\", \"2020-02-21T00:00:00\", \"2020-02-22T00:00:00\", \"2020-02-23T00:00:00\", \"2020-02-24T00:00:00\", \"2020-02-25T00:00:00\", \"2020-02-26T00:00:00\", \"2020-02-27T00:00:00\", \"2020-02-28T00:00:00\", \"2020-02-29T00:00:00\", \"2020-03-01T00:00:00\", \"2020-03-02T00:00:00\", \"2020-03-03T00:00:00\", \"2020-03-04T00:00:00\", \"2020-03-05T00:00:00\", \"2020-03-06T00:00:00\", \"2020-03-07T00:00:00\", \"2020-03-08T00:00:00\", \"2020-03-09T00:00:00\", \"2020-03-10T00:00:00\", \"2020-03-11T00:00:00\", \"2020-03-12T00:00:00\", \"2020-03-13T00:00:00\", \"2020-03-14T00:00:00\", \"2020-03-15T00:00:00\", \"2020-03-16T00:00:00\", \"2020-03-17T00:00:00\", \"2020-03-18T00:00:00\", \"2020-03-19T00:00:00\", \"2020-03-20T00:00:00\", \"2020-03-21T00:00:00\", \"2020-03-22T00:00:00\", \"2020-03-23T00:00:00\", \"2020-03-24T00:00:00\"], \"xaxis\": \"x\", \"y\": [444, 444, 549, 761, 1058, 1423, 3554, 3554, 4903, 5806, 7153, 11177, 13522, 16678, 19665, 22112, 24953, 27100, 29631, 31728, 33366, 33366, 48206, 54406, 56249, 58182, 59989, 61682, 62031, 62442, 62662, 64084, 64084, 64287, 64786, 65187, 65596, 65914, 66337, 66907, 67103, 67217, 67332, 67466, 67592, 67666, 67707, 67743, 67760, 67773, 67781, 67786, 67790, 67794, 67798, 67799, 67800, 67800, 67800, 67800, 67800, 67800, 67801], \"yaxis\": \"y\"}],\n",
       "                        {\"barmode\": \"relative\", \"coloraxis\": {\"colorbar\": {\"title\": {\"text\": \"Total Cases\"}}, \"colorscale\": [[0.0, \"#0d0887\"], [0.1111111111111111, \"#46039f\"], [0.2222222222222222, \"#7201a8\"], [0.3333333333333333, \"#9c179e\"], [0.4444444444444444, \"#bd3786\"], [0.5555555555555556, \"#d8576b\"], [0.6666666666666666, \"#ed7953\"], [0.7777777777777778, \"#fb9f3a\"], [0.8888888888888888, \"#fdca26\"], [1.0, \"#f0f921\"]]}, \"height\": 600, \"legend\": {\"tracegroupgap\": 0}, \"plot_bgcolor\": \"rgb(230, 230, 230)\", \"template\": {\"data\": {\"bar\": [{\"error_x\": {\"color\": \"#2a3f5f\"}, \"error_y\": {\"color\": \"#2a3f5f\"}, \"marker\": {\"line\": {\"color\": \"#E5ECF6\", \"width\": 0.5}}, \"type\": \"bar\"}], \"barpolar\": [{\"marker\": {\"line\": {\"color\": \"#E5ECF6\", \"width\": 0.5}}, \"type\": \"barpolar\"}], \"carpet\": [{\"aaxis\": {\"endlinecolor\": \"#2a3f5f\", \"gridcolor\": \"white\", \"linecolor\": \"white\", \"minorgridcolor\": \"white\", \"startlinecolor\": \"#2a3f5f\"}, \"baxis\": {\"endlinecolor\": \"#2a3f5f\", \"gridcolor\": \"white\", \"linecolor\": \"white\", \"minorgridcolor\": \"white\", \"startlinecolor\": \"#2a3f5f\"}, \"type\": \"carpet\"}], \"choropleth\": [{\"colorbar\": {\"outlinewidth\": 0, \"ticks\": \"\"}, \"type\": \"choropleth\"}], \"contour\": [{\"colorbar\": {\"outlinewidth\": 0, \"ticks\": \"\"}, \"colorscale\": [[0.0, \"#0d0887\"], [0.1111111111111111, \"#46039f\"], [0.2222222222222222, \"#7201a8\"], [0.3333333333333333, \"#9c179e\"], [0.4444444444444444, \"#bd3786\"], [0.5555555555555556, \"#d8576b\"], [0.6666666666666666, \"#ed7953\"], [0.7777777777777778, \"#fb9f3a\"], [0.8888888888888888, \"#fdca26\"], [1.0, \"#f0f921\"]], \"type\": \"contour\"}], \"contourcarpet\": [{\"colorbar\": {\"outlinewidth\": 0, \"ticks\": \"\"}, \"type\": \"contourcarpet\"}], \"heatmap\": [{\"colorbar\": {\"outlinewidth\": 0, \"ticks\": \"\"}, \"colorscale\": [[0.0, \"#0d0887\"], [0.1111111111111111, \"#46039f\"], [0.2222222222222222, \"#7201a8\"], [0.3333333333333333, \"#9c179e\"], [0.4444444444444444, \"#bd3786\"], [0.5555555555555556, \"#d8576b\"], [0.6666666666666666, \"#ed7953\"], [0.7777777777777778, \"#fb9f3a\"], [0.8888888888888888, \"#fdca26\"], [1.0, \"#f0f921\"]], \"type\": \"heatmap\"}], \"heatmapgl\": [{\"colorbar\": {\"outlinewidth\": 0, \"ticks\": \"\"}, \"colorscale\": [[0.0, \"#0d0887\"], [0.1111111111111111, \"#46039f\"], [0.2222222222222222, \"#7201a8\"], [0.3333333333333333, \"#9c179e\"], [0.4444444444444444, \"#bd3786\"], [0.5555555555555556, \"#d8576b\"], [0.6666666666666666, \"#ed7953\"], [0.7777777777777778, \"#fb9f3a\"], [0.8888888888888888, \"#fdca26\"], [1.0, \"#f0f921\"]], \"type\": \"heatmapgl\"}], \"histogram\": [{\"marker\": {\"colorbar\": {\"outlinewidth\": 0, \"ticks\": \"\"}}, \"type\": \"histogram\"}], \"histogram2d\": [{\"colorbar\": {\"outlinewidth\": 0, \"ticks\": \"\"}, \"colorscale\": [[0.0, \"#0d0887\"], [0.1111111111111111, \"#46039f\"], [0.2222222222222222, \"#7201a8\"], [0.3333333333333333, \"#9c179e\"], [0.4444444444444444, \"#bd3786\"], [0.5555555555555556, \"#d8576b\"], [0.6666666666666666, \"#ed7953\"], [0.7777777777777778, \"#fb9f3a\"], [0.8888888888888888, \"#fdca26\"], [1.0, \"#f0f921\"]], \"type\": \"histogram2d\"}], \"histogram2dcontour\": [{\"colorbar\": {\"outlinewidth\": 0, \"ticks\": \"\"}, \"colorscale\": [[0.0, \"#0d0887\"], [0.1111111111111111, \"#46039f\"], [0.2222222222222222, \"#7201a8\"], [0.3333333333333333, \"#9c179e\"], [0.4444444444444444, \"#bd3786\"], [0.5555555555555556, \"#d8576b\"], [0.6666666666666666, \"#ed7953\"], [0.7777777777777778, \"#fb9f3a\"], [0.8888888888888888, \"#fdca26\"], [1.0, \"#f0f921\"]], \"type\": \"histogram2dcontour\"}], \"mesh3d\": [{\"colorbar\": {\"outlinewidth\": 0, \"ticks\": \"\"}, \"type\": \"mesh3d\"}], \"parcoords\": [{\"line\": {\"colorbar\": {\"outlinewidth\": 0, \"ticks\": \"\"}}, \"type\": \"parcoords\"}], \"pie\": [{\"automargin\": true, \"type\": \"pie\"}], \"scatter\": [{\"marker\": {\"colorbar\": {\"outlinewidth\": 0, \"ticks\": \"\"}}, \"type\": \"scatter\"}], \"scatter3d\": [{\"line\": {\"colorbar\": {\"outlinewidth\": 0, \"ticks\": \"\"}}, \"marker\": {\"colorbar\": {\"outlinewidth\": 0, \"ticks\": \"\"}}, \"type\": \"scatter3d\"}], \"scattercarpet\": [{\"marker\": {\"colorbar\": {\"outlinewidth\": 0, \"ticks\": \"\"}}, \"type\": \"scattercarpet\"}], \"scattergeo\": [{\"marker\": {\"colorbar\": {\"outlinewidth\": 0, \"ticks\": \"\"}}, \"type\": \"scattergeo\"}], \"scattergl\": [{\"marker\": {\"colorbar\": {\"outlinewidth\": 0, \"ticks\": \"\"}}, \"type\": \"scattergl\"}], \"scattermapbox\": [{\"marker\": {\"colorbar\": {\"outlinewidth\": 0, \"ticks\": \"\"}}, \"type\": \"scattermapbox\"}], \"scatterpolar\": [{\"marker\": {\"colorbar\": {\"outlinewidth\": 0, \"ticks\": \"\"}}, \"type\": \"scatterpolar\"}], \"scatterpolargl\": [{\"marker\": {\"colorbar\": {\"outlinewidth\": 0, \"ticks\": \"\"}}, \"type\": \"scatterpolargl\"}], \"scatterternary\": [{\"marker\": {\"colorbar\": {\"outlinewidth\": 0, \"ticks\": \"\"}}, \"type\": \"scatterternary\"}], \"surface\": [{\"colorbar\": {\"outlinewidth\": 0, \"ticks\": \"\"}, \"colorscale\": [[0.0, \"#0d0887\"], [0.1111111111111111, \"#46039f\"], [0.2222222222222222, \"#7201a8\"], [0.3333333333333333, \"#9c179e\"], [0.4444444444444444, \"#bd3786\"], [0.5555555555555556, \"#d8576b\"], [0.6666666666666666, \"#ed7953\"], [0.7777777777777778, \"#fb9f3a\"], [0.8888888888888888, \"#fdca26\"], [1.0, \"#f0f921\"]], \"type\": \"surface\"}], \"table\": [{\"cells\": {\"fill\": {\"color\": \"#EBF0F8\"}, \"line\": {\"color\": \"white\"}}, \"header\": {\"fill\": {\"color\": \"#C8D4E3\"}, \"line\": {\"color\": \"white\"}}, \"type\": \"table\"}]}, \"layout\": {\"annotationdefaults\": {\"arrowcolor\": \"#2a3f5f\", \"arrowhead\": 0, \"arrowwidth\": 1}, \"coloraxis\": {\"colorbar\": {\"outlinewidth\": 0, \"ticks\": \"\"}}, \"colorscale\": {\"diverging\": [[0, \"#8e0152\"], [0.1, \"#c51b7d\"], [0.2, \"#de77ae\"], [0.3, \"#f1b6da\"], [0.4, \"#fde0ef\"], [0.5, \"#f7f7f7\"], [0.6, \"#e6f5d0\"], [0.7, \"#b8e186\"], [0.8, \"#7fbc41\"], [0.9, \"#4d9221\"], [1, \"#276419\"]], \"sequential\": [[0.0, \"#0d0887\"], [0.1111111111111111, \"#46039f\"], [0.2222222222222222, \"#7201a8\"], [0.3333333333333333, \"#9c179e\"], [0.4444444444444444, \"#bd3786\"], [0.5555555555555556, \"#d8576b\"], [0.6666666666666666, \"#ed7953\"], [0.7777777777777778, \"#fb9f3a\"], [0.8888888888888888, \"#fdca26\"], [1.0, \"#f0f921\"]], \"sequentialminus\": [[0.0, \"#0d0887\"], [0.1111111111111111, \"#46039f\"], [0.2222222222222222, \"#7201a8\"], [0.3333333333333333, \"#9c179e\"], [0.4444444444444444, \"#bd3786\"], [0.5555555555555556, \"#d8576b\"], [0.6666666666666666, \"#ed7953\"], [0.7777777777777778, \"#fb9f3a\"], [0.8888888888888888, \"#fdca26\"], [1.0, \"#f0f921\"]]}, \"colorway\": [\"#636efa\", \"#EF553B\", \"#00cc96\", \"#ab63fa\", \"#FFA15A\", \"#19d3f3\", \"#FF6692\", \"#B6E880\", \"#FF97FF\", \"#FECB52\"], \"font\": {\"color\": \"#2a3f5f\"}, \"geo\": {\"bgcolor\": \"white\", \"lakecolor\": \"white\", \"landcolor\": \"#E5ECF6\", \"showlakes\": true, \"showland\": true, \"subunitcolor\": \"white\"}, \"hoverlabel\": {\"align\": \"left\"}, \"hovermode\": \"closest\", \"mapbox\": {\"style\": \"light\"}, \"paper_bgcolor\": \"white\", \"plot_bgcolor\": \"#E5ECF6\", \"polar\": {\"angularaxis\": {\"gridcolor\": \"white\", \"linecolor\": \"white\", \"ticks\": \"\"}, \"bgcolor\": \"#E5ECF6\", \"radialaxis\": {\"gridcolor\": \"white\", \"linecolor\": \"white\", \"ticks\": \"\"}}, \"scene\": {\"xaxis\": {\"backgroundcolor\": \"#E5ECF6\", \"gridcolor\": \"white\", \"gridwidth\": 2, \"linecolor\": \"white\", \"showbackground\": true, \"ticks\": \"\", \"zerolinecolor\": \"white\"}, \"yaxis\": {\"backgroundcolor\": \"#E5ECF6\", \"gridcolor\": \"white\", \"gridwidth\": 2, \"linecolor\": \"white\", \"showbackground\": true, \"ticks\": \"\", \"zerolinecolor\": \"white\"}, \"zaxis\": {\"backgroundcolor\": \"#E5ECF6\", \"gridcolor\": \"white\", \"gridwidth\": 2, \"linecolor\": \"white\", \"showbackground\": true, \"ticks\": \"\", \"zerolinecolor\": \"white\"}}, \"shapedefaults\": {\"line\": {\"color\": \"#2a3f5f\"}}, \"ternary\": {\"aaxis\": {\"gridcolor\": \"white\", \"linecolor\": \"white\", \"ticks\": \"\"}, \"baxis\": {\"gridcolor\": \"white\", \"linecolor\": \"white\", \"ticks\": \"\"}, \"bgcolor\": \"#E5ECF6\", \"caxis\": {\"gridcolor\": \"white\", \"linecolor\": \"white\", \"ticks\": \"\"}}, \"title\": {\"x\": 0.05}, \"xaxis\": {\"automargin\": true, \"gridcolor\": \"white\", \"linecolor\": \"white\", \"ticks\": \"\", \"title\": {\"standoff\": 15}, \"zerolinecolor\": \"white\", \"zerolinewidth\": 2}, \"yaxis\": {\"automargin\": true, \"gridcolor\": \"white\", \"linecolor\": \"white\", \"ticks\": \"\", \"title\": {\"standoff\": 15}, \"zerolinecolor\": \"white\", \"zerolinewidth\": 2}}}, \"title\": {\"text\": \"Confirmed Cases in Wuhan\"}, \"xaxis\": {\"anchor\": \"y\", \"domain\": [0.0, 1.0], \"title\": {\"text\": \"Date\"}}, \"yaxis\": {\"anchor\": \"x\", \"domain\": [0.0, 1.0], \"title\": {\"text\": \"Total Cases\"}}},\n",
       "                        {\"responsive\": true}\n",
       "                    ).then(function(){\n",
       "                            \n",
       "var gd = document.getElementById('caf7128c-b4d5-4e05-b639-c121a515d07a');\n",
       "var x = new MutationObserver(function (mutations, observer) {{\n",
       "        var display = window.getComputedStyle(gd).display;\n",
       "        if (!display || display === 'none') {{\n",
       "            console.log([gd, 'removed!']);\n",
       "            Plotly.purge(gd);\n",
       "            observer.disconnect();\n",
       "        }}\n",
       "}});\n",
       "\n",
       "// Listen for the removal of the full notebook cells\n",
       "var notebookContainer = gd.closest('#notebook-container');\n",
       "if (notebookContainer) {{\n",
       "    x.observe(notebookContainer, {childList: true});\n",
       "}}\n",
       "\n",
       "// Listen for the clearing of the current output cell\n",
       "var outputEl = gd.closest('.output');\n",
       "if (outputEl) {{\n",
       "    x.observe(outputEl, {childList: true});\n",
       "}}\n",
       "\n",
       "                        })\n",
       "                };\n",
       "                \n",
       "            </script>\n",
       "        </div>\n",
       "</body>\n",
       "</html>"
      ]
     },
     "metadata": {},
     "output_type": "display_data"
    }
   ],
   "source": [
    "import plotly.express as px\n",
    "fig = px.bar(dbd_India, x=\"Date\", y=\"Total Cases\", color='Total Cases', orientation='v', height=600,\n",
    "             title='Confirmed Cases in India', color_discrete_sequence = px.colors.cyclical.IceFire)\n",
    "\n",
    "'''Colour Scale for plotly\n",
    "https://plot.ly/python/builtin-colorscales/\n",
    "'''\n",
    "\n",
    "fig.update_layout(plot_bgcolor='rgb(230, 230, 230)')\n",
    "fig.show()\n",
    "\n",
    "fig = px.bar(dbd_Italy, x=\"Date\", y=\"Total Cases\", color='Total Cases', orientation='v', height=600,\n",
    "             title='Confirmed Cases in Italy', color_discrete_sequence = px.colors.cyclical.IceFire)\n",
    "\n",
    "fig.update_layout(plot_bgcolor='rgb(230, 230, 230)')\n",
    "fig.show()\n",
    "\n",
    "fig = px.bar(dbd_Korea, x=\"Date\", y=\"Total Cases\", color='Total Cases', orientation='v', height=600,\n",
    "             title='Confirmed Cases in South Korea', color_discrete_sequence = px.colors.cyclical.IceFire)\n",
    "\n",
    "fig.update_layout(plot_bgcolor='rgb(230, 230, 230)')\n",
    "fig.show()\n",
    "\n",
    "fig = px.bar(dbd_Wuhan, x=\"Date\", y=\"Total Cases\", color='Total Cases', orientation='v', height=600,\n",
    "             title='Confirmed Cases in Wuhan', color_discrete_sequence = px.colors.cyclical.IceFire)\n",
    "\n",
    "fig.update_layout(plot_bgcolor='rgb(230, 230, 230)')\n",
    "fig.show()"
   ]
  },
  {
   "cell_type": "markdown",
   "metadata": {
    "colab_type": "text",
    "id": "b6jg777KVgw2"
   },
   "source": [
    "### Visualization Inference\n",
    "- Confirmed cases in India is rising exponentially with no fixed pattern (Very less test in India)\n",
    "- Confirmed cases in Italy is rising exponentially with certain fixed pattern\n",
    "- Confirmed cases in S.Korea is rising gradually\n",
    "- There has been only 3 confirmed cases in Wuhan since last week. They have almost controlled the COVID-19\n",
    " "
   ]
  },
  {
   "cell_type": "markdown",
   "metadata": {
    "colab_type": "text",
    "id": "y7skIt4NW2K1"
   },
   "source": [
    "### Recent Updates from Wuhan\n",
    "- China on Tuesday decided to lift the three-month lockdown on more than 56 million people in the central Hubei province.\n",
    "- Bus services began in Wuhan for the first time since January 23 as a bus departed from its terminus at Hankou railway station at 5:25 am on Wednesday\n",
    "- The prolonged lockdown of Hubei's capital Wuhan will end on April 8, lifting the mass quarantine over the city with a population of over 11 million."
   ]
  },
  {
   "cell_type": "markdown",
   "metadata": {
    "colab_type": "text",
    "id": "QvCUF8AQdhFv"
   },
   "source": [
    "## 2.2 Comparison Among the Rise of Cases in Wuhan, S. Korea, Italy and India"
   ]
  },
  {
   "cell_type": "code",
   "execution_count": 12,
   "metadata": {
    "_kg_hide-input": true,
    "_kg_hide-output": false,
    "colab": {
     "base_uri": "https://localhost:8080/",
     "height": 542
    },
    "colab_type": "code",
    "id": "eupJkZqpdhFy",
    "outputId": "7ef572c7-c9ab-4e0d-8621-c5d6961548a7"
   },
   "outputs": [
    {
     "data": {
      "text/plain": [
       "'temp-plot.html'"
      ]
     },
     "execution_count": 12,
     "metadata": {},
     "output_type": "execute_result"
    }
   ],
   "source": [
    "# Create subplots using plotly\n",
    "# import plotly.graph_objects as go\n",
    "from plotly.subplots import make_subplots\n",
    "\n",
    "fig = make_subplots(\n",
    "    rows=2, cols=2,\n",
    "    specs=[[{}, {}],\n",
    "           [{\"colspan\": 2}, None]],\n",
    "    subplot_titles=(\"S.Korea\",\"Italy\", \"India\",\"Wuhan\"))\n",
    "\n",
    "fig.add_trace(go.Bar(x=dbd_Korea['Date'], y=dbd_Korea['Total Cases'],\n",
    "                    marker=dict(color=dbd_Korea['Total Cases'], coloraxis=\"coloraxis\")),1, 1)\n",
    "\n",
    "fig.add_trace(go.Bar(x=dbd_Italy['Date'], y=dbd_Italy['Total Cases'],\n",
    "                    marker=dict(color=dbd_Italy['Total Cases'], coloraxis=\"coloraxis\")),1, 2)\n",
    "\n",
    "fig.add_trace(go.Bar(x=dbd_India['Date'], y=dbd_India['Total Cases'],\n",
    "                    marker=dict(color=dbd_India['Total Cases'], coloraxis=\"coloraxis\")),2, 1)\n",
    "\n",
    "# fig.add_trace(go.Bar(x=dbd_Wuhan['Date'], y=dbd_Wuhan['Total Cases'],\n",
    "#                     marker=dict(color=dbd_Wuhan['Total Cases'], coloraxis=\"coloraxis\")),2, 2)\n",
    "\n",
    "layout = go.Layout(coloraxis=dict(colorscale='Bluered_r'), showlegend=False,title_text=\"Total Confirmed cases(Cumulative)\",\n",
    "                   plot_bgcolor='rgb(230, 230, 230)')\n",
    "\n",
    "plotly.offline.plot({\n",
    " \"data\":fig,\n",
    "    \"layout\":layout\n",
    "    }, auto_open=True)\n",
    "\n",
    "# fig.show()"
   ]
  },
  {
   "cell_type": "markdown",
   "metadata": {
    "colab_type": "text",
    "id": "AQ73T8PrdhGB"
   },
   "source": [
    "## 2.3 Trend After Crossing 100 Cases"
   ]
  },
  {
   "cell_type": "code",
   "execution_count": 13,
   "metadata": {
    "_kg_hide-input": true,
    "_kg_hide-output": false,
    "colab": {
     "base_uri": "https://localhost:8080/",
     "height": 542
    },
    "colab_type": "code",
    "id": "lGP06omtdhGD",
    "outputId": "795d4063-3828-49b5-979a-5d5986b542ca"
   },
   "outputs": [
    {
     "data": {
      "text/plain": [
       "'temp-plot.html'"
      ]
     },
     "execution_count": 13,
     "metadata": {},
     "output_type": "execute_result"
    }
   ],
   "source": [
    "# import plotly.graph_objects as go\n",
    "\n",
    "title = 'Main Source for News'\n",
    "labels = ['S.Korea', 'Italy', 'India']\n",
    "colors = ['rgb(122,128,0)', 'rgb(255,0,0)', 'rgb(49,130,189)']\n",
    "\n",
    "mode_size = [10, 10, 12]\n",
    "line_size = [1, 1, 8]\n",
    "\n",
    "fig = go.Figure()\n",
    "\n",
    "\n",
    "fig.add_trace(go.Scatter(x=dbd_Korea['Days after surpassing 100 cases'], \n",
    "                 y=dbd_Korea['Total Cases'],mode='lines',\n",
    "                 name=labels[0],\n",
    "                 line=dict(color=colors[0], width=line_size[0]),            \n",
    "                 connectgaps=True))\n",
    "fig.add_trace(go.Scatter(x=dbd_Italy['Days after surpassing 100 cases'], \n",
    "                 y=dbd_Italy['Total Cases'],mode='lines',\n",
    "                 name=labels[1],\n",
    "                 line=dict(color=colors[1], width=line_size[1]),            \n",
    "                 connectgaps=True))\n",
    "\n",
    "fig.add_trace(go.Scatter(x=dbd_India['Days after surpassing 100 cases'], \n",
    "                 y=dbd_India['Total Cases'],mode='lines',\n",
    "                 name=labels[2],\n",
    "                 line=dict(color=colors[2], width=line_size[2]),            \n",
    "                 connectgaps=True))\n",
    "    \n",
    "    \n",
    "    \n",
    "annotations = []\n",
    "\n",
    "annotations.append(dict(xref='paper', yref='paper', x=0.5, y=-0.1,\n",
    "                              xanchor='center', yanchor='top',\n",
    "                              text='Days after crossing 100 cases ',\n",
    "                              font=dict(family='Arial',\n",
    "                                        size=12,\n",
    "                                        color='rgb(150,150,150)'),\n",
    "                              showarrow=False))\n",
    "\n",
    "layout = go.Layout(plot_bgcolor='white',yaxis_title='Cumulative cases')\n",
    "plotly.offline.plot({\n",
    " \"data\":fig,\n",
    "    \"layout\":layout\n",
    "    }, auto_open=True)\n",
    "\n",
    "# fig.show()"
   ]
  },
  {
   "cell_type": "markdown",
   "metadata": {
    "colab_type": "text",
    "id": "uDIBn_O4511_"
   },
   "source": [
    "\n",
    "**Visualization Inference:** \n",
    "\n",
    "* Above graph depicts the number of days after the COVID-19 cases crosses 100 vs total number of cases in each country. \n",
    "* Both Italy and S.Korea have crossed the mark of 5600 in the next 13 days.\n",
    "* Number of cases detected(trend) in India is less as compared to Italy and S.Korea"
   ]
  },
  {
   "cell_type": "markdown",
   "metadata": {
    "colab_type": "text",
    "id": "PNpM1HZdGHfE"
   },
   "source": [
    "# Part 3:  Exploring Global Data\n"
   ]
  },
  {
   "cell_type": "code",
   "execution_count": 14,
   "metadata": {
    "colab": {},
    "colab_type": "code",
    "id": "FxUI1AFfL9lR"
   },
   "outputs": [],
   "source": [
    "df = pd.read_csv('./content/covid_19_clean_complete.csv',parse_dates=['Date'])\n",
    "df.rename(columns={'ObservationDate':'Date', 'Country/Region':'Country'}, inplace=True)\n",
    "\n",
    "df_confirmed = pd.read_csv(\"./content/time_series_covid19_confirmed_global.csv\")\n",
    "df_recovered = pd.read_csv(\"./content/time_series_covid19_recovered_global.csv\")\n",
    "df_deaths = pd.read_csv(\"./content/time_series_covid19_deaths_global.csv\")\n",
    "\n",
    "df_confirmed.rename(columns={'Country/Region':'Country'}, inplace=True)\n",
    "df_recovered.rename(columns={'Country/Region':'Country'}, inplace=True)\n",
    "df_deaths.rename(columns={'Country/Region':'Country'}, inplace=True)"
   ]
  },
  {
   "cell_type": "code",
   "execution_count": 15,
   "metadata": {
    "colab": {
     "base_uri": "https://localhost:8080/",
     "height": 224
    },
    "colab_type": "code",
    "id": "my9r-690MR6R",
    "outputId": "41b4871d-9ba2-4495-b295-19cff74209db"
   },
   "outputs": [
    {
     "data": {
      "text/html": [
       "<div>\n",
       "<style scoped>\n",
       "    .dataframe tbody tr th:only-of-type {\n",
       "        vertical-align: middle;\n",
       "    }\n",
       "\n",
       "    .dataframe tbody tr th {\n",
       "        vertical-align: top;\n",
       "    }\n",
       "\n",
       "    .dataframe thead th {\n",
       "        text-align: right;\n",
       "    }\n",
       "</style>\n",
       "<table border=\"1\" class=\"dataframe\">\n",
       "  <thead>\n",
       "    <tr style=\"text-align: right;\">\n",
       "      <th></th>\n",
       "      <th>Province/State</th>\n",
       "      <th>Country</th>\n",
       "      <th>Lat</th>\n",
       "      <th>Long</th>\n",
       "      <th>1/22/20</th>\n",
       "      <th>1/23/20</th>\n",
       "      <th>1/24/20</th>\n",
       "      <th>1/25/20</th>\n",
       "      <th>1/26/20</th>\n",
       "      <th>1/27/20</th>\n",
       "      <th>...</th>\n",
       "      <th>3/15/20</th>\n",
       "      <th>3/16/20</th>\n",
       "      <th>3/17/20</th>\n",
       "      <th>3/18/20</th>\n",
       "      <th>3/19/20</th>\n",
       "      <th>3/20/20</th>\n",
       "      <th>3/21/20</th>\n",
       "      <th>3/22/20</th>\n",
       "      <th>3/23/20</th>\n",
       "      <th>3/24/20</th>\n",
       "    </tr>\n",
       "  </thead>\n",
       "  <tbody>\n",
       "    <tr>\n",
       "      <th>0</th>\n",
       "      <td>NaN</td>\n",
       "      <td>Afghanistan</td>\n",
       "      <td>33.0000</td>\n",
       "      <td>65.0000</td>\n",
       "      <td>0</td>\n",
       "      <td>0</td>\n",
       "      <td>0</td>\n",
       "      <td>0</td>\n",
       "      <td>0</td>\n",
       "      <td>0</td>\n",
       "      <td>...</td>\n",
       "      <td>0</td>\n",
       "      <td>0</td>\n",
       "      <td>0</td>\n",
       "      <td>0</td>\n",
       "      <td>0</td>\n",
       "      <td>0</td>\n",
       "      <td>0</td>\n",
       "      <td>1</td>\n",
       "      <td>1</td>\n",
       "      <td>1</td>\n",
       "    </tr>\n",
       "    <tr>\n",
       "      <th>1</th>\n",
       "      <td>NaN</td>\n",
       "      <td>Albania</td>\n",
       "      <td>41.1533</td>\n",
       "      <td>20.1683</td>\n",
       "      <td>0</td>\n",
       "      <td>0</td>\n",
       "      <td>0</td>\n",
       "      <td>0</td>\n",
       "      <td>0</td>\n",
       "      <td>0</td>\n",
       "      <td>...</td>\n",
       "      <td>1</td>\n",
       "      <td>1</td>\n",
       "      <td>1</td>\n",
       "      <td>2</td>\n",
       "      <td>2</td>\n",
       "      <td>2</td>\n",
       "      <td>2</td>\n",
       "      <td>2</td>\n",
       "      <td>4</td>\n",
       "      <td>5</td>\n",
       "    </tr>\n",
       "    <tr>\n",
       "      <th>2</th>\n",
       "      <td>NaN</td>\n",
       "      <td>Algeria</td>\n",
       "      <td>28.0339</td>\n",
       "      <td>1.6596</td>\n",
       "      <td>0</td>\n",
       "      <td>0</td>\n",
       "      <td>0</td>\n",
       "      <td>0</td>\n",
       "      <td>0</td>\n",
       "      <td>0</td>\n",
       "      <td>...</td>\n",
       "      <td>4</td>\n",
       "      <td>4</td>\n",
       "      <td>4</td>\n",
       "      <td>7</td>\n",
       "      <td>9</td>\n",
       "      <td>11</td>\n",
       "      <td>15</td>\n",
       "      <td>17</td>\n",
       "      <td>17</td>\n",
       "      <td>19</td>\n",
       "    </tr>\n",
       "    <tr>\n",
       "      <th>3</th>\n",
       "      <td>NaN</td>\n",
       "      <td>Andorra</td>\n",
       "      <td>42.5063</td>\n",
       "      <td>1.5218</td>\n",
       "      <td>0</td>\n",
       "      <td>0</td>\n",
       "      <td>0</td>\n",
       "      <td>0</td>\n",
       "      <td>0</td>\n",
       "      <td>0</td>\n",
       "      <td>...</td>\n",
       "      <td>0</td>\n",
       "      <td>0</td>\n",
       "      <td>0</td>\n",
       "      <td>0</td>\n",
       "      <td>0</td>\n",
       "      <td>0</td>\n",
       "      <td>0</td>\n",
       "      <td>1</td>\n",
       "      <td>1</td>\n",
       "      <td>1</td>\n",
       "    </tr>\n",
       "    <tr>\n",
       "      <th>4</th>\n",
       "      <td>NaN</td>\n",
       "      <td>Angola</td>\n",
       "      <td>-11.2027</td>\n",
       "      <td>17.8739</td>\n",
       "      <td>0</td>\n",
       "      <td>0</td>\n",
       "      <td>0</td>\n",
       "      <td>0</td>\n",
       "      <td>0</td>\n",
       "      <td>0</td>\n",
       "      <td>...</td>\n",
       "      <td>0</td>\n",
       "      <td>0</td>\n",
       "      <td>0</td>\n",
       "      <td>0</td>\n",
       "      <td>0</td>\n",
       "      <td>0</td>\n",
       "      <td>0</td>\n",
       "      <td>0</td>\n",
       "      <td>0</td>\n",
       "      <td>0</td>\n",
       "    </tr>\n",
       "  </tbody>\n",
       "</table>\n",
       "<p>5 rows × 67 columns</p>\n",
       "</div>"
      ],
      "text/plain": [
       "  Province/State      Country      Lat     Long  1/22/20  1/23/20  1/24/20  \\\n",
       "0            NaN  Afghanistan  33.0000  65.0000        0        0        0   \n",
       "1            NaN      Albania  41.1533  20.1683        0        0        0   \n",
       "2            NaN      Algeria  28.0339   1.6596        0        0        0   \n",
       "3            NaN      Andorra  42.5063   1.5218        0        0        0   \n",
       "4            NaN       Angola -11.2027  17.8739        0        0        0   \n",
       "\n",
       "   1/25/20  1/26/20  1/27/20  ...  3/15/20  3/16/20  3/17/20  3/18/20  \\\n",
       "0        0        0        0  ...        0        0        0        0   \n",
       "1        0        0        0  ...        1        1        1        2   \n",
       "2        0        0        0  ...        4        4        4        7   \n",
       "3        0        0        0  ...        0        0        0        0   \n",
       "4        0        0        0  ...        0        0        0        0   \n",
       "\n",
       "   3/19/20  3/20/20  3/21/20  3/22/20  3/23/20  3/24/20  \n",
       "0        0        0        0        1        1        1  \n",
       "1        2        2        2        2        4        5  \n",
       "2        9       11       15       17       17       19  \n",
       "3        0        0        0        1        1        1  \n",
       "4        0        0        0        0        0        0  \n",
       "\n",
       "[5 rows x 67 columns]"
      ]
     },
     "execution_count": 15,
     "metadata": {},
     "output_type": "execute_result"
    }
   ],
   "source": [
    "df_deaths.head()"
   ]
  },
  {
   "cell_type": "code",
   "execution_count": 16,
   "metadata": {
    "colab": {
     "base_uri": "https://localhost:8080/",
     "height": 204
    },
    "colab_type": "code",
    "id": "n6DDJosMMbpp",
    "outputId": "3ab0c96d-d699-4fd3-f988-7069b2526d39"
   },
   "outputs": [
    {
     "data": {
      "text/html": [
       "<div>\n",
       "<style scoped>\n",
       "    .dataframe tbody tr th:only-of-type {\n",
       "        vertical-align: middle;\n",
       "    }\n",
       "\n",
       "    .dataframe tbody tr th {\n",
       "        vertical-align: top;\n",
       "    }\n",
       "\n",
       "    .dataframe thead th {\n",
       "        text-align: right;\n",
       "    }\n",
       "</style>\n",
       "<table border=\"1\" class=\"dataframe\">\n",
       "  <thead>\n",
       "    <tr style=\"text-align: right;\">\n",
       "      <th></th>\n",
       "      <th>Province/State</th>\n",
       "      <th>Country</th>\n",
       "      <th>Lat</th>\n",
       "      <th>Long</th>\n",
       "      <th>Date</th>\n",
       "      <th>Confirmed</th>\n",
       "      <th>Deaths</th>\n",
       "      <th>Recovered</th>\n",
       "    </tr>\n",
       "  </thead>\n",
       "  <tbody>\n",
       "    <tr>\n",
       "      <th>0</th>\n",
       "      <td>NaN</td>\n",
       "      <td>Thailand</td>\n",
       "      <td>15.0000</td>\n",
       "      <td>101.0000</td>\n",
       "      <td>2020-01-22</td>\n",
       "      <td>2.0</td>\n",
       "      <td>0.0</td>\n",
       "      <td>0.0</td>\n",
       "    </tr>\n",
       "    <tr>\n",
       "      <th>1</th>\n",
       "      <td>NaN</td>\n",
       "      <td>Japan</td>\n",
       "      <td>36.0000</td>\n",
       "      <td>138.0000</td>\n",
       "      <td>2020-01-22</td>\n",
       "      <td>2.0</td>\n",
       "      <td>0.0</td>\n",
       "      <td>0.0</td>\n",
       "    </tr>\n",
       "    <tr>\n",
       "      <th>2</th>\n",
       "      <td>NaN</td>\n",
       "      <td>Singapore</td>\n",
       "      <td>1.2833</td>\n",
       "      <td>103.8333</td>\n",
       "      <td>2020-01-22</td>\n",
       "      <td>0.0</td>\n",
       "      <td>0.0</td>\n",
       "      <td>0.0</td>\n",
       "    </tr>\n",
       "    <tr>\n",
       "      <th>3</th>\n",
       "      <td>NaN</td>\n",
       "      <td>Nepal</td>\n",
       "      <td>28.1667</td>\n",
       "      <td>84.2500</td>\n",
       "      <td>2020-01-22</td>\n",
       "      <td>0.0</td>\n",
       "      <td>0.0</td>\n",
       "      <td>0.0</td>\n",
       "    </tr>\n",
       "    <tr>\n",
       "      <th>4</th>\n",
       "      <td>NaN</td>\n",
       "      <td>Malaysia</td>\n",
       "      <td>2.5000</td>\n",
       "      <td>112.5000</td>\n",
       "      <td>2020-01-22</td>\n",
       "      <td>0.0</td>\n",
       "      <td>0.0</td>\n",
       "      <td>0.0</td>\n",
       "    </tr>\n",
       "  </tbody>\n",
       "</table>\n",
       "</div>"
      ],
      "text/plain": [
       "  Province/State    Country      Lat      Long       Date  Confirmed  Deaths  \\\n",
       "0            NaN   Thailand  15.0000  101.0000 2020-01-22        2.0     0.0   \n",
       "1            NaN      Japan  36.0000  138.0000 2020-01-22        2.0     0.0   \n",
       "2            NaN  Singapore   1.2833  103.8333 2020-01-22        0.0     0.0   \n",
       "3            NaN      Nepal  28.1667   84.2500 2020-01-22        0.0     0.0   \n",
       "4            NaN   Malaysia   2.5000  112.5000 2020-01-22        0.0     0.0   \n",
       "\n",
       "   Recovered  \n",
       "0        0.0  \n",
       "1        0.0  \n",
       "2        0.0  \n",
       "3        0.0  \n",
       "4        0.0  "
      ]
     },
     "execution_count": 16,
     "metadata": {},
     "output_type": "execute_result"
    }
   ],
   "source": [
    "df.head()"
   ]
  },
  {
   "cell_type": "code",
   "execution_count": 17,
   "metadata": {
    "colab": {
     "base_uri": "https://localhost:8080/",
     "height": 204
    },
    "colab_type": "code",
    "id": "bdTJxBp0MgcN",
    "outputId": "557e69f1-a392-4418-b844-f6026dd62403"
   },
   "outputs": [
    {
     "data": {
      "text/html": [
       "<div>\n",
       "<style scoped>\n",
       "    .dataframe tbody tr th:only-of-type {\n",
       "        vertical-align: middle;\n",
       "    }\n",
       "\n",
       "    .dataframe tbody tr th {\n",
       "        vertical-align: top;\n",
       "    }\n",
       "\n",
       "    .dataframe thead th {\n",
       "        text-align: right;\n",
       "    }\n",
       "</style>\n",
       "<table border=\"1\" class=\"dataframe\">\n",
       "  <thead>\n",
       "    <tr style=\"text-align: right;\">\n",
       "      <th></th>\n",
       "      <th>Date</th>\n",
       "      <th>Country</th>\n",
       "      <th>Province/State</th>\n",
       "      <th>Confirmed</th>\n",
       "      <th>Deaths</th>\n",
       "      <th>Recovered</th>\n",
       "    </tr>\n",
       "  </thead>\n",
       "  <tbody>\n",
       "    <tr>\n",
       "      <th>0</th>\n",
       "      <td>2020-01-22</td>\n",
       "      <td>Australia</td>\n",
       "      <td>Australian Capital Territory</td>\n",
       "      <td>0.0</td>\n",
       "      <td>0.0</td>\n",
       "      <td>0.0</td>\n",
       "    </tr>\n",
       "    <tr>\n",
       "      <th>1</th>\n",
       "      <td>2020-01-22</td>\n",
       "      <td>Australia</td>\n",
       "      <td>From Diamond Princess</td>\n",
       "      <td>0.0</td>\n",
       "      <td>0.0</td>\n",
       "      <td>0.0</td>\n",
       "    </tr>\n",
       "    <tr>\n",
       "      <th>2</th>\n",
       "      <td>2020-01-22</td>\n",
       "      <td>Australia</td>\n",
       "      <td>New South Wales</td>\n",
       "      <td>0.0</td>\n",
       "      <td>0.0</td>\n",
       "      <td>0.0</td>\n",
       "    </tr>\n",
       "    <tr>\n",
       "      <th>3</th>\n",
       "      <td>2020-01-22</td>\n",
       "      <td>Australia</td>\n",
       "      <td>Northern Territory</td>\n",
       "      <td>0.0</td>\n",
       "      <td>0.0</td>\n",
       "      <td>0.0</td>\n",
       "    </tr>\n",
       "    <tr>\n",
       "      <th>4</th>\n",
       "      <td>2020-01-22</td>\n",
       "      <td>Australia</td>\n",
       "      <td>Queensland</td>\n",
       "      <td>0.0</td>\n",
       "      <td>0.0</td>\n",
       "      <td>0.0</td>\n",
       "    </tr>\n",
       "  </tbody>\n",
       "</table>\n",
       "</div>"
      ],
      "text/plain": [
       "        Date    Country                Province/State  Confirmed  Deaths  \\\n",
       "0 2020-01-22  Australia  Australian Capital Territory        0.0     0.0   \n",
       "1 2020-01-22  Australia         From Diamond Princess        0.0     0.0   \n",
       "2 2020-01-22  Australia               New South Wales        0.0     0.0   \n",
       "3 2020-01-22  Australia            Northern Territory        0.0     0.0   \n",
       "4 2020-01-22  Australia                    Queensland        0.0     0.0   \n",
       "\n",
       "   Recovered  \n",
       "0        0.0  \n",
       "1        0.0  \n",
       "2        0.0  \n",
       "3        0.0  \n",
       "4        0.0  "
      ]
     },
     "execution_count": 17,
     "metadata": {},
     "output_type": "execute_result"
    }
   ],
   "source": [
    "df2 = df.groupby([\"Date\", \"Country\", \"Province/State\"])[['Date', 'Province/State', 'Country', 'Confirmed', 'Deaths', 'Recovered']].sum().reset_index()\n",
    "df2.head()"
   ]
  },
  {
   "cell_type": "code",
   "execution_count": 18,
   "metadata": {
    "colab": {
     "base_uri": "https://localhost:8080/",
     "height": 419
    },
    "colab_type": "code",
    "id": "XL1R4UaYMtUZ",
    "outputId": "29094800-8a2c-440f-abde-08daf94b5c63"
   },
   "outputs": [
    {
     "data": {
      "text/html": [
       "<div>\n",
       "<style scoped>\n",
       "    .dataframe tbody tr th:only-of-type {\n",
       "        vertical-align: middle;\n",
       "    }\n",
       "\n",
       "    .dataframe tbody tr th {\n",
       "        vertical-align: top;\n",
       "    }\n",
       "\n",
       "    .dataframe thead th {\n",
       "        text-align: right;\n",
       "    }\n",
       "</style>\n",
       "<table border=\"1\" class=\"dataframe\">\n",
       "  <thead>\n",
       "    <tr style=\"text-align: right;\">\n",
       "      <th></th>\n",
       "      <th>Date</th>\n",
       "      <th>Confirmed</th>\n",
       "      <th>Deaths</th>\n",
       "      <th>Recovered</th>\n",
       "    </tr>\n",
       "  </thead>\n",
       "  <tbody>\n",
       "    <tr>\n",
       "      <th>0</th>\n",
       "      <td>2020-01-22</td>\n",
       "      <td>0.0</td>\n",
       "      <td>0.0</td>\n",
       "      <td>0.0</td>\n",
       "    </tr>\n",
       "    <tr>\n",
       "      <th>1</th>\n",
       "      <td>2020-01-23</td>\n",
       "      <td>0.0</td>\n",
       "      <td>0.0</td>\n",
       "      <td>0.0</td>\n",
       "    </tr>\n",
       "    <tr>\n",
       "      <th>2</th>\n",
       "      <td>2020-01-24</td>\n",
       "      <td>0.0</td>\n",
       "      <td>0.0</td>\n",
       "      <td>0.0</td>\n",
       "    </tr>\n",
       "    <tr>\n",
       "      <th>3</th>\n",
       "      <td>2020-01-25</td>\n",
       "      <td>0.0</td>\n",
       "      <td>0.0</td>\n",
       "      <td>0.0</td>\n",
       "    </tr>\n",
       "    <tr>\n",
       "      <th>4</th>\n",
       "      <td>2020-01-26</td>\n",
       "      <td>0.0</td>\n",
       "      <td>0.0</td>\n",
       "      <td>0.0</td>\n",
       "    </tr>\n",
       "    <tr>\n",
       "      <th>...</th>\n",
       "      <td>...</td>\n",
       "      <td>...</td>\n",
       "      <td>...</td>\n",
       "      <td>...</td>\n",
       "    </tr>\n",
       "    <tr>\n",
       "      <th>57</th>\n",
       "      <td>2020-03-19</td>\n",
       "      <td>194.0</td>\n",
       "      <td>4.0</td>\n",
       "      <td>15.0</td>\n",
       "    </tr>\n",
       "    <tr>\n",
       "      <th>58</th>\n",
       "      <td>2020-03-20</td>\n",
       "      <td>244.0</td>\n",
       "      <td>5.0</td>\n",
       "      <td>20.0</td>\n",
       "    </tr>\n",
       "    <tr>\n",
       "      <th>59</th>\n",
       "      <td>2020-03-21</td>\n",
       "      <td>330.0</td>\n",
       "      <td>4.0</td>\n",
       "      <td>23.0</td>\n",
       "    </tr>\n",
       "    <tr>\n",
       "      <th>60</th>\n",
       "      <td>2020-03-22</td>\n",
       "      <td>396.0</td>\n",
       "      <td>7.0</td>\n",
       "      <td>27.0</td>\n",
       "    </tr>\n",
       "    <tr>\n",
       "      <th>61</th>\n",
       "      <td>2020-03-23</td>\n",
       "      <td>396.0</td>\n",
       "      <td>7.0</td>\n",
       "      <td>27.0</td>\n",
       "    </tr>\n",
       "  </tbody>\n",
       "</table>\n",
       "<p>62 rows × 4 columns</p>\n",
       "</div>"
      ],
      "text/plain": [
       "         Date  Confirmed  Deaths  Recovered\n",
       "0  2020-01-22        0.0     0.0        0.0\n",
       "1  2020-01-23        0.0     0.0        0.0\n",
       "2  2020-01-24        0.0     0.0        0.0\n",
       "3  2020-01-25        0.0     0.0        0.0\n",
       "4  2020-01-26        0.0     0.0        0.0\n",
       "..        ...        ...     ...        ...\n",
       "57 2020-03-19      194.0     4.0       15.0\n",
       "58 2020-03-20      244.0     5.0       20.0\n",
       "59 2020-03-21      330.0     4.0       23.0\n",
       "60 2020-03-22      396.0     7.0       27.0\n",
       "61 2020-03-23      396.0     7.0       27.0\n",
       "\n",
       "[62 rows x 4 columns]"
      ]
     },
     "execution_count": 18,
     "metadata": {},
     "output_type": "execute_result"
    }
   ],
   "source": [
    "# Check for India's data\n",
    "df.query('Country==\"India\"').groupby(\"Date\")[['Confirmed', 'Deaths', 'Recovered']].sum().reset_index()"
   ]
  },
  {
   "cell_type": "code",
   "execution_count": 19,
   "metadata": {
    "colab": {
     "base_uri": "https://localhost:8080/",
     "height": 235
    },
    "colab_type": "code",
    "id": "njoxWBE0M3XE",
    "outputId": "e9a84ef1-2355-48f0-9f0d-c426e09619ea"
   },
   "outputs": [
    {
     "data": {
      "text/html": [
       "<div>\n",
       "<style scoped>\n",
       "    .dataframe tbody tr th:only-of-type {\n",
       "        vertical-align: middle;\n",
       "    }\n",
       "\n",
       "    .dataframe tbody tr th {\n",
       "        vertical-align: top;\n",
       "    }\n",
       "\n",
       "    .dataframe thead th {\n",
       "        text-align: right;\n",
       "    }\n",
       "</style>\n",
       "<table border=\"1\" class=\"dataframe\">\n",
       "  <thead>\n",
       "    <tr style=\"text-align: right;\">\n",
       "      <th></th>\n",
       "      <th>Lat</th>\n",
       "      <th>Long</th>\n",
       "      <th>Confirmed</th>\n",
       "      <th>Deaths</th>\n",
       "      <th>Recovered</th>\n",
       "    </tr>\n",
       "    <tr>\n",
       "      <th>Date</th>\n",
       "      <th></th>\n",
       "      <th></th>\n",
       "      <th></th>\n",
       "      <th></th>\n",
       "      <th></th>\n",
       "    </tr>\n",
       "  </thead>\n",
       "  <tbody>\n",
       "    <tr>\n",
       "      <th>2020-01-22</th>\n",
       "      <td>7777.4793</td>\n",
       "      <td>1639.7021</td>\n",
       "      <td>554.0</td>\n",
       "      <td>17.0</td>\n",
       "      <td>28.0</td>\n",
       "    </tr>\n",
       "    <tr>\n",
       "      <th>2020-01-23</th>\n",
       "      <td>7777.4793</td>\n",
       "      <td>1639.7021</td>\n",
       "      <td>652.0</td>\n",
       "      <td>18.0</td>\n",
       "      <td>30.0</td>\n",
       "    </tr>\n",
       "    <tr>\n",
       "      <th>2020-01-24</th>\n",
       "      <td>7777.4793</td>\n",
       "      <td>1639.7021</td>\n",
       "      <td>939.0</td>\n",
       "      <td>26.0</td>\n",
       "      <td>36.0</td>\n",
       "    </tr>\n",
       "    <tr>\n",
       "      <th>2020-01-25</th>\n",
       "      <td>7777.4793</td>\n",
       "      <td>1639.7021</td>\n",
       "      <td>1432.0</td>\n",
       "      <td>42.0</td>\n",
       "      <td>39.0</td>\n",
       "    </tr>\n",
       "    <tr>\n",
       "      <th>2020-01-26</th>\n",
       "      <td>7777.4793</td>\n",
       "      <td>1639.7021</td>\n",
       "      <td>2113.0</td>\n",
       "      <td>56.0</td>\n",
       "      <td>52.0</td>\n",
       "    </tr>\n",
       "  </tbody>\n",
       "</table>\n",
       "</div>"
      ],
      "text/plain": [
       "                  Lat       Long  Confirmed  Deaths  Recovered\n",
       "Date                                                          \n",
       "2020-01-22  7777.4793  1639.7021      554.0    17.0       28.0\n",
       "2020-01-23  7777.4793  1639.7021      652.0    18.0       30.0\n",
       "2020-01-24  7777.4793  1639.7021      939.0    26.0       36.0\n",
       "2020-01-25  7777.4793  1639.7021     1432.0    42.0       39.0\n",
       "2020-01-26  7777.4793  1639.7021     2113.0    56.0       52.0"
      ]
     },
     "execution_count": 19,
     "metadata": {},
     "output_type": "execute_result"
    }
   ],
   "source": [
    "# Overall worldwide Confirmed/ Deaths/ Recovered cases \n",
    "df.groupby('Date').sum().head()"
   ]
  },
  {
   "cell_type": "markdown",
   "metadata": {
    "colab_type": "text",
    "id": "nZxXuyvkNnMm"
   },
   "source": [
    "## 3.1 Visualizing: Global COVID-19 Cases  "
   ]
  },
  {
   "cell_type": "code",
   "execution_count": 20,
   "metadata": {
    "colab": {},
    "colab_type": "code",
    "id": "UmKuQ54RNVvL"
   },
   "outputs": [],
   "source": [
    "confirmed = df.groupby('Date').sum()['Confirmed'].reset_index()\n",
    "deaths = df.groupby('Date').sum()['Deaths'].reset_index()\n",
    "recovered = df.groupby('Date').sum()['Recovered'].reset_index()"
   ]
  },
  {
   "cell_type": "code",
   "execution_count": 21,
   "metadata": {
    "colab": {
     "base_uri": "https://localhost:8080/",
     "height": 542
    },
    "colab_type": "code",
    "id": "FC5JJSvkN1MB",
    "outputId": "b0b98799-22be-465d-aafe-6b62c94a8bf2"
   },
   "outputs": [
    {
     "data": {
      "text/plain": [
       "'temp-plot.html'"
      ]
     },
     "execution_count": 21,
     "metadata": {},
     "output_type": "execute_result"
    }
   ],
   "source": [
    "fig = go.Figure()\n",
    "# Plotting datewise confirmed cases\n",
    "fig.add_trace(go.Scatter(x=confirmed['Date'], y=confirmed['Confirmed'], mode='lines+markers', name='Confirmed',line=dict(color='blue', width=2)))\n",
    "fig.add_trace(go.Scatter(x=deaths['Date'], y=deaths['Deaths'], mode='lines+markers', name='Deaths', line=dict(color='Red', width=2)))\n",
    "fig.add_trace(go.Scatter(x=recovered['Date'], y=recovered['Recovered'], mode='lines+markers', name='Recovered', line=dict(color='Green', width=2)))\n",
    "layout = go.Layout(title='Worldwide NCOVID-19 Cases', xaxis_tickfont_size=14,yaxis=dict(title='Number of Cases'))\n",
    "plotly.offline.plot({\n",
    " \"data\":fig,\n",
    "    \"layout\":layout\n",
    "    }, auto_open=True)\n",
    "# fig.show()"
   ]
  },
  {
   "cell_type": "markdown",
   "metadata": {
    "colab_type": "text",
    "id": "guIlgMVOXrPl"
   },
   "source": [
    "# Part 4: Forecasting Total Number of Cases Worldwide\n"
   ]
  },
  {
   "cell_type": "code",
   "execution_count": 22,
   "metadata": {
    "colab": {},
    "colab_type": "code",
    "id": "7Uhg_dqpUqi7"
   },
   "outputs": [],
   "source": [
    "from fbprophet import Prophet"
   ]
  },
  {
   "cell_type": "code",
   "execution_count": 23,
   "metadata": {
    "colab": {},
    "colab_type": "code",
    "id": "JF1sy1gmP8Ur"
   },
   "outputs": [],
   "source": [
    "confirmed = df.groupby('Date').sum()['Confirmed'].reset_index()\n",
    "deaths = df.groupby('Date').sum()['Deaths'].reset_index()\n",
    "recovered = df.groupby('Date').sum()['Recovered'].reset_index()"
   ]
  },
  {
   "cell_type": "markdown",
   "metadata": {},
   "source": [
    "The input to **Prophet** is always a dataframe with two columns: **ds** and **y**. The **ds** (datestamp) column should be of a format expected by **Pandas**, ideally YYYY-MM-DD for a date or YYYY-MM-DD HH:MM:SS for a timestamp. The **y** column must be numeric, and represents the measurement we wish to forecast."
   ]
  },
  {
   "cell_type": "code",
   "execution_count": 24,
   "metadata": {
    "colab": {},
    "colab_type": "code",
    "id": "rn3z-futUCXy"
   },
   "outputs": [],
   "source": [
    "confirmed.columns = ['ds','y']\n",
    "# confirmed['ds'] = confirmed['ds'].dt.date\n",
    "confirmed['ds'] = pd.to_datetime(confirmed['ds'])"
   ]
  },
  {
   "cell_type": "code",
   "execution_count": 25,
   "metadata": {
    "colab": {
     "base_uri": "https://localhost:8080/",
     "height": 204
    },
    "colab_type": "code",
    "id": "0WcK1FkfUEq9",
    "outputId": "b1773e12-98b6-4ea5-e340-bde3fedaafd2"
   },
   "outputs": [
    {
     "data": {
      "text/html": [
       "<div>\n",
       "<style scoped>\n",
       "    .dataframe tbody tr th:only-of-type {\n",
       "        vertical-align: middle;\n",
       "    }\n",
       "\n",
       "    .dataframe tbody tr th {\n",
       "        vertical-align: top;\n",
       "    }\n",
       "\n",
       "    .dataframe thead th {\n",
       "        text-align: right;\n",
       "    }\n",
       "</style>\n",
       "<table border=\"1\" class=\"dataframe\">\n",
       "  <thead>\n",
       "    <tr style=\"text-align: right;\">\n",
       "      <th></th>\n",
       "      <th>ds</th>\n",
       "      <th>y</th>\n",
       "    </tr>\n",
       "  </thead>\n",
       "  <tbody>\n",
       "    <tr>\n",
       "      <th>57</th>\n",
       "      <td>2020-03-19</td>\n",
       "      <td>242708.0</td>\n",
       "    </tr>\n",
       "    <tr>\n",
       "      <th>58</th>\n",
       "      <td>2020-03-20</td>\n",
       "      <td>272166.0</td>\n",
       "    </tr>\n",
       "    <tr>\n",
       "      <th>59</th>\n",
       "      <td>2020-03-21</td>\n",
       "      <td>304524.0</td>\n",
       "    </tr>\n",
       "    <tr>\n",
       "      <th>60</th>\n",
       "      <td>2020-03-22</td>\n",
       "      <td>335955.0</td>\n",
       "    </tr>\n",
       "    <tr>\n",
       "      <th>61</th>\n",
       "      <td>2020-03-23</td>\n",
       "      <td>336004.0</td>\n",
       "    </tr>\n",
       "  </tbody>\n",
       "</table>\n",
       "</div>"
      ],
      "text/plain": [
       "           ds         y\n",
       "57 2020-03-19  242708.0\n",
       "58 2020-03-20  272166.0\n",
       "59 2020-03-21  304524.0\n",
       "60 2020-03-22  335955.0\n",
       "61 2020-03-23  336004.0"
      ]
     },
     "execution_count": 25,
     "metadata": {},
     "output_type": "execute_result"
    }
   ],
   "source": [
    "confirmed.tail()"
   ]
  },
  {
   "cell_type": "markdown",
   "metadata": {
    "colab_type": "text",
    "id": "bZVTsSqMaDLO"
   },
   "source": [
    "\n",
    "## 4.1 Forecasting Confirmed COVID-19 Cases Worldwide with Prophet (Base model)\n",
    "\n",
    "Generating a week ahead forecast of confirmed cases of COVID-19 using Prophet, with 95% prediction interval by creating a base model with no tweaking of seasonality-related parameters and additional regressors."
   ]
  },
  {
   "cell_type": "code",
   "execution_count": 26,
   "metadata": {
    "colab": {
     "base_uri": "https://localhost:8080/",
     "height": 238
    },
    "colab_type": "code",
    "id": "5pw5VDIlUH-F",
    "outputId": "0833d2a5-28a1-49ea-e10a-91d2db9cbcc7"
   },
   "outputs": [
    {
     "data": {
      "text/html": [
       "<div>\n",
       "<style scoped>\n",
       "    .dataframe tbody tr th:only-of-type {\n",
       "        vertical-align: middle;\n",
       "    }\n",
       "\n",
       "    .dataframe tbody tr th {\n",
       "        vertical-align: top;\n",
       "    }\n",
       "\n",
       "    .dataframe thead th {\n",
       "        text-align: right;\n",
       "    }\n",
       "</style>\n",
       "<table border=\"1\" class=\"dataframe\">\n",
       "  <thead>\n",
       "    <tr style=\"text-align: right;\">\n",
       "      <th></th>\n",
       "      <th>ds</th>\n",
       "    </tr>\n",
       "  </thead>\n",
       "  <tbody>\n",
       "    <tr>\n",
       "      <th>64</th>\n",
       "      <td>2020-03-26</td>\n",
       "    </tr>\n",
       "    <tr>\n",
       "      <th>65</th>\n",
       "      <td>2020-03-27</td>\n",
       "    </tr>\n",
       "    <tr>\n",
       "      <th>66</th>\n",
       "      <td>2020-03-28</td>\n",
       "    </tr>\n",
       "    <tr>\n",
       "      <th>67</th>\n",
       "      <td>2020-03-29</td>\n",
       "    </tr>\n",
       "    <tr>\n",
       "      <th>68</th>\n",
       "      <td>2020-03-30</td>\n",
       "    </tr>\n",
       "  </tbody>\n",
       "</table>\n",
       "</div>"
      ],
      "text/plain": [
       "           ds\n",
       "64 2020-03-26\n",
       "65 2020-03-27\n",
       "66 2020-03-28\n",
       "67 2020-03-29\n",
       "68 2020-03-30"
      ]
     },
     "execution_count": 26,
     "metadata": {},
     "output_type": "execute_result"
    }
   ],
   "source": [
    "m = Prophet(interval_width=0.95, yearly_seasonality=True, daily_seasonality=True)\n",
    "m.fit(confirmed)\n",
    "future = m.make_future_dataframe(periods=7)\n",
    "future.tail()"
   ]
  },
  {
   "cell_type": "markdown",
   "metadata": {
    "colab_type": "text",
    "id": "jZBSljBVdZ-2"
   },
   "source": [
    "The **predict** method will assign each row in future a predicted value which it names **yhat**. If you pass in historical dates, it will provide an in-sample fit. The **forecast object** here is a new dataframe that includes a column yhat with the forecast, as well as columns for components and uncertainty intervals."
   ]
  },
  {
   "cell_type": "code",
   "execution_count": 27,
   "metadata": {
    "colab": {
     "base_uri": "https://localhost:8080/",
     "height": 204
    },
    "colab_type": "code",
    "id": "CdJu5EnIUPhB",
    "outputId": "a3233f6b-e131-4cba-931e-12a87d5c41bc"
   },
   "outputs": [
    {
     "data": {
      "text/html": [
       "<div>\n",
       "<style scoped>\n",
       "    .dataframe tbody tr th:only-of-type {\n",
       "        vertical-align: middle;\n",
       "    }\n",
       "\n",
       "    .dataframe tbody tr th {\n",
       "        vertical-align: top;\n",
       "    }\n",
       "\n",
       "    .dataframe thead th {\n",
       "        text-align: right;\n",
       "    }\n",
       "</style>\n",
       "<table border=\"1\" class=\"dataframe\">\n",
       "  <thead>\n",
       "    <tr style=\"text-align: right;\">\n",
       "      <th></th>\n",
       "      <th>ds</th>\n",
       "      <th>yhat</th>\n",
       "      <th>yhat_lower</th>\n",
       "      <th>yhat_upper</th>\n",
       "    </tr>\n",
       "  </thead>\n",
       "  <tbody>\n",
       "    <tr>\n",
       "      <th>64</th>\n",
       "      <td>2020-03-26</td>\n",
       "      <td>382990.296551</td>\n",
       "      <td>376725.506571</td>\n",
       "      <td>388990.602949</td>\n",
       "    </tr>\n",
       "    <tr>\n",
       "      <th>65</th>\n",
       "      <td>2020-03-27</td>\n",
       "      <td>375123.092000</td>\n",
       "      <td>369190.288772</td>\n",
       "      <td>381303.177786</td>\n",
       "    </tr>\n",
       "    <tr>\n",
       "      <th>66</th>\n",
       "      <td>2020-03-28</td>\n",
       "      <td>348861.066405</td>\n",
       "      <td>343228.518838</td>\n",
       "      <td>354826.955015</td>\n",
       "    </tr>\n",
       "    <tr>\n",
       "      <th>67</th>\n",
       "      <td>2020-03-29</td>\n",
       "      <td>300722.270070</td>\n",
       "      <td>294723.987640</td>\n",
       "      <td>306716.272251</td>\n",
       "    </tr>\n",
       "    <tr>\n",
       "      <th>68</th>\n",
       "      <td>2020-03-30</td>\n",
       "      <td>222341.471360</td>\n",
       "      <td>216650.908237</td>\n",
       "      <td>228370.476489</td>\n",
       "    </tr>\n",
       "  </tbody>\n",
       "</table>\n",
       "</div>"
      ],
      "text/plain": [
       "           ds           yhat     yhat_lower     yhat_upper\n",
       "64 2020-03-26  382990.296551  376725.506571  388990.602949\n",
       "65 2020-03-27  375123.092000  369190.288772  381303.177786\n",
       "66 2020-03-28  348861.066405  343228.518838  354826.955015\n",
       "67 2020-03-29  300722.270070  294723.987640  306716.272251\n",
       "68 2020-03-30  222341.471360  216650.908237  228370.476489"
      ]
     },
     "execution_count": 27,
     "metadata": {},
     "output_type": "execute_result"
    }
   ],
   "source": [
    "# Predicting the future with date, and upper and lower limit of y value\n",
    "forecast = m.predict(future)\n",
    "forecast[['ds', 'yhat', 'yhat_lower', 'yhat_upper']].tail()"
   ]
  },
  {
   "cell_type": "code",
   "execution_count": 28,
   "metadata": {
    "colab": {
     "base_uri": "https://localhost:8080/",
     "height": 441
    },
    "colab_type": "code",
    "id": "ePoOz6wwU3c0",
    "outputId": "091836b6-b73f-451b-9dbd-761cfc3b2d6c"
   },
   "outputs": [
    {
     "data": {
      "image/png": "[encoded data removed]",
      "text/plain": [
       "<Figure size 720x432 with 1 Axes>"
      ]
     },
     "metadata": {},
     "output_type": "display_data"
    }
   ],
   "source": [
    "confirmed_forecast_plot = m.plot(forecast)"
   ]
  },
  {
   "cell_type": "code",
   "execution_count": 29,
   "metadata": {
    "colab": {
     "base_uri": "https://localhost:8080/",
     "height": 441
    },
    "colab_type": "code",
    "id": "UDv_-qMRepkF",
    "outputId": "b541c602-f906-4748-b03a-5b7409a48baa"
   },
   "outputs": [
    {
     "data": {
      "image/png": "[encoded data removed]",
      "text/plain": [
       "<Figure size 648x864 with 4 Axes>"
      ]
     },
     "metadata": {},
     "output_type": "display_data"
    }
   ],
   "source": [
    "confirmed_forecast_plot =m.plot_components(forecast)"
   ]
  },
  {
   "cell_type": "markdown",
   "metadata": {
    "colab_type": "text",
    "id": "IeR0wJvMbGPH"
   },
   "source": [
    "## 4.2 Forecasting Worldwide Deaths using Prophet (Base model)\n",
    "\n",
    "Generating a week ahead forecast of confirmed cases of NCOVID-19 using Prophet, with 95% prediction interval by creating a base model with no tweaking of seasonality-related parameters and additional regressors."
   ]
  },
  {
   "cell_type": "code",
   "execution_count": 30,
   "metadata": {
    "colab": {},
    "colab_type": "code",
    "id": "mBh3fYTPU8x5"
   },
   "outputs": [],
   "source": [
    "deaths.columns = ['ds','y']\n",
    "deaths['ds'] = pd.to_datetime(deaths['ds'])"
   ]
  },
  {
   "cell_type": "code",
   "execution_count": 31,
   "metadata": {
    "colab": {
     "base_uri": "https://localhost:8080/",
     "height": 238
    },
    "colab_type": "code",
    "id": "2644baabbXuU",
    "outputId": "8c8d393b-ed66-426b-ec41-fe0d237b805b"
   },
   "outputs": [
    {
     "data": {
      "text/html": [
       "<div>\n",
       "<style scoped>\n",
       "    .dataframe tbody tr th:only-of-type {\n",
       "        vertical-align: middle;\n",
       "    }\n",
       "\n",
       "    .dataframe tbody tr th {\n",
       "        vertical-align: top;\n",
       "    }\n",
       "\n",
       "    .dataframe thead th {\n",
       "        text-align: right;\n",
       "    }\n",
       "</style>\n",
       "<table border=\"1\" class=\"dataframe\">\n",
       "  <thead>\n",
       "    <tr style=\"text-align: right;\">\n",
       "      <th></th>\n",
       "      <th>ds</th>\n",
       "    </tr>\n",
       "  </thead>\n",
       "  <tbody>\n",
       "    <tr>\n",
       "      <th>64</th>\n",
       "      <td>2020-03-26</td>\n",
       "    </tr>\n",
       "    <tr>\n",
       "      <th>65</th>\n",
       "      <td>2020-03-27</td>\n",
       "    </tr>\n",
       "    <tr>\n",
       "      <th>66</th>\n",
       "      <td>2020-03-28</td>\n",
       "    </tr>\n",
       "    <tr>\n",
       "      <th>67</th>\n",
       "      <td>2020-03-29</td>\n",
       "    </tr>\n",
       "    <tr>\n",
       "      <th>68</th>\n",
       "      <td>2020-03-30</td>\n",
       "    </tr>\n",
       "  </tbody>\n",
       "</table>\n",
       "</div>"
      ],
      "text/plain": [
       "           ds\n",
       "64 2020-03-26\n",
       "65 2020-03-27\n",
       "66 2020-03-28\n",
       "67 2020-03-29\n",
       "68 2020-03-30"
      ]
     },
     "execution_count": 31,
     "metadata": {},
     "output_type": "execute_result"
    }
   ],
   "source": [
    "m = Prophet(interval_width=0.95, yearly_seasonality=True, daily_seasonality=True)\n",
    "m.fit(deaths)\n",
    "future = m.make_future_dataframe(periods=7)\n",
    "future.tail()"
   ]
  },
  {
   "cell_type": "code",
   "execution_count": 32,
   "metadata": {
    "colab": {
     "base_uri": "https://localhost:8080/",
     "height": 204
    },
    "colab_type": "code",
    "id": "5yAFR7chbZgj",
    "outputId": "a7131788-a1f0-4552-f923-d4b2a0088b54"
   },
   "outputs": [
    {
     "data": {
      "text/html": [
       "<div>\n",
       "<style scoped>\n",
       "    .dataframe tbody tr th:only-of-type {\n",
       "        vertical-align: middle;\n",
       "    }\n",
       "\n",
       "    .dataframe tbody tr th {\n",
       "        vertical-align: top;\n",
       "    }\n",
       "\n",
       "    .dataframe thead th {\n",
       "        text-align: right;\n",
       "    }\n",
       "</style>\n",
       "<table border=\"1\" class=\"dataframe\">\n",
       "  <thead>\n",
       "    <tr style=\"text-align: right;\">\n",
       "      <th></th>\n",
       "      <th>ds</th>\n",
       "      <th>yhat</th>\n",
       "      <th>yhat_lower</th>\n",
       "      <th>yhat_upper</th>\n",
       "    </tr>\n",
       "  </thead>\n",
       "  <tbody>\n",
       "    <tr>\n",
       "      <th>64</th>\n",
       "      <td>2020-03-26</td>\n",
       "      <td>18295.309254</td>\n",
       "      <td>18036.530773</td>\n",
       "      <td>18563.869697</td>\n",
       "    </tr>\n",
       "    <tr>\n",
       "      <th>65</th>\n",
       "      <td>2020-03-27</td>\n",
       "      <td>18824.556639</td>\n",
       "      <td>18566.690266</td>\n",
       "      <td>19107.182897</td>\n",
       "    </tr>\n",
       "    <tr>\n",
       "      <th>66</th>\n",
       "      <td>2020-03-28</td>\n",
       "      <td>18879.661552</td>\n",
       "      <td>18604.347690</td>\n",
       "      <td>19146.516524</td>\n",
       "    </tr>\n",
       "    <tr>\n",
       "      <th>67</th>\n",
       "      <td>2020-03-29</td>\n",
       "      <td>18327.582824</td>\n",
       "      <td>18047.881108</td>\n",
       "      <td>18604.808970</td>\n",
       "    </tr>\n",
       "    <tr>\n",
       "      <th>68</th>\n",
       "      <td>2020-03-30</td>\n",
       "      <td>16843.677051</td>\n",
       "      <td>16571.082173</td>\n",
       "      <td>17108.987511</td>\n",
       "    </tr>\n",
       "  </tbody>\n",
       "</table>\n",
       "</div>"
      ],
      "text/plain": [
       "           ds          yhat    yhat_lower    yhat_upper\n",
       "64 2020-03-26  18295.309254  18036.530773  18563.869697\n",
       "65 2020-03-27  18824.556639  18566.690266  19107.182897\n",
       "66 2020-03-28  18879.661552  18604.347690  19146.516524\n",
       "67 2020-03-29  18327.582824  18047.881108  18604.808970\n",
       "68 2020-03-30  16843.677051  16571.082173  17108.987511"
      ]
     },
     "execution_count": 32,
     "metadata": {},
     "output_type": "execute_result"
    }
   ],
   "source": [
    "forecast = m.predict(future)\n",
    "forecast[['ds', 'yhat', 'yhat_lower', 'yhat_upper']].tail()"
   ]
  },
  {
   "cell_type": "code",
   "execution_count": 33,
   "metadata": {
    "colab": {
     "base_uri": "https://localhost:8080/",
     "height": 441
    },
    "colab_type": "code",
    "id": "uKVaQnPebdJc",
    "outputId": "996a6a6d-949a-41b9-9f2e-462a3c9de99a"
   },
   "outputs": [
    {
     "data": {
      "image/png": "[encoded data removed]",
      "text/plain": [
       "<Figure size 720x432 with 1 Axes>"
      ]
     },
     "metadata": {},
     "output_type": "display_data"
    }
   ],
   "source": [
    "deaths_forecast_plot = m.plot(forecast)"
   ]
  },
  {
   "cell_type": "code",
   "execution_count": 34,
   "metadata": {
    "colab": {
     "base_uri": "https://localhost:8080/",
     "height": 441
    },
    "colab_type": "code",
    "id": "DB9Qq43peepR",
    "outputId": "7f4ef810-6ae9-465d-9e2f-6071cd6ecca1"
   },
   "outputs": [
    {
     "data": {
      "image/png": "[encoded data removed]",
      "text/plain": [
       "<Figure size 648x864 with 4 Axes>"
      ]
     },
     "metadata": {},
     "output_type": "display_data"
    }
   ],
   "source": [
    "deaths_forecast_plot = m.plot_components(forecast)"
   ]
  },
  {
   "cell_type": "markdown",
   "metadata": {
    "colab_type": "text",
    "id": "BEo4E8R8dy0_"
   },
   "source": [
    "## 4.3 Forecasting Worldwide Recovered Cases with Prophet (Base model)\n",
    "\n",
    "Generating a week ahead forecast of confirmed cases of NCOVID-19 using Prophet, with 95% prediction interval by creating a base model with no tweaking of seasonality-related parameters and additional regressors."
   ]
  },
  {
   "cell_type": "code",
   "execution_count": 35,
   "metadata": {
    "colab": {},
    "colab_type": "code",
    "id": "Z1keUssrdvYN"
   },
   "outputs": [],
   "source": [
    "recovered.columns = ['ds','y']\n",
    "recovered['ds'] = pd.to_datetime(recovered['ds'])"
   ]
  },
  {
   "cell_type": "code",
   "execution_count": 36,
   "metadata": {
    "colab": {
     "base_uri": "https://localhost:8080/",
     "height": 238
    },
    "colab_type": "code",
    "id": "EaggMuv7d-1D",
    "outputId": "aa583d01-7da1-483a-9d9e-c752a8b7f3d9"
   },
   "outputs": [
    {
     "data": {
      "text/html": [
       "<div>\n",
       "<style scoped>\n",
       "    .dataframe tbody tr th:only-of-type {\n",
       "        vertical-align: middle;\n",
       "    }\n",
       "\n",
       "    .dataframe tbody tr th {\n",
       "        vertical-align: top;\n",
       "    }\n",
       "\n",
       "    .dataframe thead th {\n",
       "        text-align: right;\n",
       "    }\n",
       "</style>\n",
       "<table border=\"1\" class=\"dataframe\">\n",
       "  <thead>\n",
       "    <tr style=\"text-align: right;\">\n",
       "      <th></th>\n",
       "      <th>ds</th>\n",
       "    </tr>\n",
       "  </thead>\n",
       "  <tbody>\n",
       "    <tr>\n",
       "      <th>64</th>\n",
       "      <td>2020-03-26</td>\n",
       "    </tr>\n",
       "    <tr>\n",
       "      <th>65</th>\n",
       "      <td>2020-03-27</td>\n",
       "    </tr>\n",
       "    <tr>\n",
       "      <th>66</th>\n",
       "      <td>2020-03-28</td>\n",
       "    </tr>\n",
       "    <tr>\n",
       "      <th>67</th>\n",
       "      <td>2020-03-29</td>\n",
       "    </tr>\n",
       "    <tr>\n",
       "      <th>68</th>\n",
       "      <td>2020-03-30</td>\n",
       "    </tr>\n",
       "  </tbody>\n",
       "</table>\n",
       "</div>"
      ],
      "text/plain": [
       "           ds\n",
       "64 2020-03-26\n",
       "65 2020-03-27\n",
       "66 2020-03-28\n",
       "67 2020-03-29\n",
       "68 2020-03-30"
      ]
     },
     "execution_count": 36,
     "metadata": {},
     "output_type": "execute_result"
    }
   ],
   "source": [
    "m = Prophet(interval_width=0.95, yearly_seasonality=True, daily_seasonality=True)\n",
    "m.fit(recovered)\n",
    "future = m.make_future_dataframe(periods=7)\n",
    "future.tail()"
   ]
  },
  {
   "cell_type": "code",
   "execution_count": 37,
   "metadata": {
    "colab": {
     "base_uri": "https://localhost:8080/",
     "height": 204
    },
    "colab_type": "code",
    "id": "QwTHSHVheAYS",
    "outputId": "672c665e-45b0-4319-e2a3-3752ecbf91ff"
   },
   "outputs": [
    {
     "data": {
      "text/html": [
       "<div>\n",
       "<style scoped>\n",
       "    .dataframe tbody tr th:only-of-type {\n",
       "        vertical-align: middle;\n",
       "    }\n",
       "\n",
       "    .dataframe tbody tr th {\n",
       "        vertical-align: top;\n",
       "    }\n",
       "\n",
       "    .dataframe thead th {\n",
       "        text-align: right;\n",
       "    }\n",
       "</style>\n",
       "<table border=\"1\" class=\"dataframe\">\n",
       "  <thead>\n",
       "    <tr style=\"text-align: right;\">\n",
       "      <th></th>\n",
       "      <th>ds</th>\n",
       "      <th>yhat</th>\n",
       "      <th>yhat_lower</th>\n",
       "      <th>yhat_upper</th>\n",
       "    </tr>\n",
       "  </thead>\n",
       "  <tbody>\n",
       "    <tr>\n",
       "      <th>64</th>\n",
       "      <td>2020-03-26</td>\n",
       "      <td>106835.927513</td>\n",
       "      <td>105821.300000</td>\n",
       "      <td>107819.910456</td>\n",
       "    </tr>\n",
       "    <tr>\n",
       "      <th>65</th>\n",
       "      <td>2020-03-27</td>\n",
       "      <td>107819.724270</td>\n",
       "      <td>106767.880042</td>\n",
       "      <td>108799.615246</td>\n",
       "    </tr>\n",
       "    <tr>\n",
       "      <th>66</th>\n",
       "      <td>2020-03-28</td>\n",
       "      <td>107971.074818</td>\n",
       "      <td>106994.829997</td>\n",
       "      <td>108974.727856</td>\n",
       "    </tr>\n",
       "    <tr>\n",
       "      <th>67</th>\n",
       "      <td>2020-03-29</td>\n",
       "      <td>106253.819075</td>\n",
       "      <td>105193.486510</td>\n",
       "      <td>107331.533087</td>\n",
       "    </tr>\n",
       "    <tr>\n",
       "      <th>68</th>\n",
       "      <td>2020-03-30</td>\n",
       "      <td>101633.076011</td>\n",
       "      <td>100680.924175</td>\n",
       "      <td>102711.144201</td>\n",
       "    </tr>\n",
       "  </tbody>\n",
       "</table>\n",
       "</div>"
      ],
      "text/plain": [
       "           ds           yhat     yhat_lower     yhat_upper\n",
       "64 2020-03-26  106835.927513  105821.300000  107819.910456\n",
       "65 2020-03-27  107819.724270  106767.880042  108799.615246\n",
       "66 2020-03-28  107971.074818  106994.829997  108974.727856\n",
       "67 2020-03-29  106253.819075  105193.486510  107331.533087\n",
       "68 2020-03-30  101633.076011  100680.924175  102711.144201"
      ]
     },
     "execution_count": 37,
     "metadata": {},
     "output_type": "execute_result"
    }
   ],
   "source": [
    "forecast = m.predict(future)\n",
    "forecast[['ds', 'yhat', 'yhat_lower', 'yhat_upper']].tail()"
   ]
  },
  {
   "cell_type": "code",
   "execution_count": 38,
   "metadata": {
    "colab": {
     "base_uri": "https://localhost:8080/",
     "height": 441
    },
    "colab_type": "code",
    "id": "EAp07XxTeCuy",
    "outputId": "d430b53d-59d7-4b5c-c6ed-83cf1919f832"
   },
   "outputs": [
    {
     "data": {
      "image/png": "[encoded data removed]",
      "text/plain": [
       "<Figure size 720x432 with 1 Axes>"
      ]
     },
     "metadata": {},
     "output_type": "display_data"
    }
   ],
   "source": [
    "recovered_forecast_plot = m.plot(forecast)"
   ]
  },
  {
   "cell_type": "code",
   "execution_count": 39,
   "metadata": {
    "colab": {
     "base_uri": "https://localhost:8080/",
     "height": 441
    },
    "colab_type": "code",
    "id": "UQVIYNZReFSB",
    "outputId": "9ad1b5f4-df8b-477c-f075-4d062c83559d"
   },
   "outputs": [
    {
     "data": {
      "image/png": "[encoded data removed]",
      "text/plain": [
       "<Figure size 648x864 with 4 Axes>"
      ]
     },
     "metadata": {},
     "output_type": "display_data"
    }
   ],
   "source": [
    "recovered_forecast_plot = m.plot_components(forecast)"
   ]
  },
  {
   "cell_type": "code",
   "execution_count": null,
   "metadata": {},
   "outputs": [],
   "source": []
  }
 ],
 "metadata": {
  "colab": {
   "collapsed_sections": [
    "RkCHpmwkFOtU",
    "oTiw0LbXCmeW",
    "KW3k0TQcFEO4",
    "dFhorHIrdhCq",
    "0q44og8xdhE1",
    "7auHzQ1edhFV",
    "PfZbFocZdhFh",
    "QvCUF8AQdhFv",
    "AQ73T8PrdhGB",
    "mCQ7l2xJM5Ke"
   ],
   "name": "India vs World - COVID-19.ipynb",
   "provenance": []
  },
  "kernelspec": {
   "display_name": "Python 3",
   "language": "python",
   "name": "python3"
  },
  "language_info": {
   "codemirror_mode": {
    "name": "ipython",
    "version": 3
   },
   "file_extension": ".py",
   "mimetype": "text/x-python",
   "name": "python",
   "nbconvert_exporter": "python",
   "pygments_lexer": "ipython3",
   "version": "3.8.5"
  }
 },
 "nbformat": 4,
 "nbformat_minor": 4
}
